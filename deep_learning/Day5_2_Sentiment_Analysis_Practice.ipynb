{
 "cells": [
  {
   "cell_type": "markdown",
   "metadata": {},
   "source": [
    "# Sentiment Analysis(감정분석)\n",
    "영화 리뷰 글을 TorchText를 사용해서   \n",
    "긍정, 부정 평가를 다루는 모델을 만들어 본다\n"
   ]
  },
  {
   "attachments": {
    "sentiment1.png": {
     "image/png": "[encoded data removed]"
    }
   },
   "cell_type": "markdown",
   "metadata": {},
   "source": [
    "![sentiment1.png](attachment:sentiment1.png)"
   ]
  },
  {
   "cell_type": "markdown",
   "metadata": {},
   "source": [
    "-사전 라이브러리 설치 필요  \n",
    "-TorchText 설치하기  \n",
    "    pip install torchtext"
   ]
  },
  {
   "cell_type": "code",
   "execution_count": 2,
   "metadata": {
    "collapsed": true
   },
   "outputs": [
    {
     "name": "stdout",
     "output_type": "stream",
     "text": [
      "Collecting torchtext\n",
      "  Downloading torchtext-0.11.0-cp38-cp38-macosx_10_9_x86_64.whl (1.7 MB)\n",
      "\u001b[K     |████████████████████████████████| 1.7 MB 6.9 MB/s eta 0:00:01\n",
      "\u001b[?25hRequirement already satisfied: tqdm in /Users/sanghyuk/anaconda/envs/py38/lib/python3.8/site-packages (from torchtext) (4.50.2)\n",
      "Requirement already satisfied: requests in /Users/sanghyuk/anaconda/envs/py38/lib/python3.8/site-packages (from torchtext) (2.24.0)\n",
      "Requirement already satisfied: numpy in /Users/sanghyuk/anaconda/envs/py38/lib/python3.8/site-packages (from torchtext) (1.19.2)\n",
      "Requirement already satisfied: torch==1.10.0 in /Users/sanghyuk/anaconda/envs/py38/lib/python3.8/site-packages (from torchtext) (1.10.0)\n",
      "Requirement already satisfied: certifi>=2017.4.17 in /Users/sanghyuk/anaconda/envs/py38/lib/python3.8/site-packages (from requests->torchtext) (2020.6.20)\n",
      "Requirement already satisfied: chardet<4,>=3.0.2 in /Users/sanghyuk/anaconda/envs/py38/lib/python3.8/site-packages (from requests->torchtext) (3.0.4)\n",
      "Requirement already satisfied: idna<3,>=2.5 in /Users/sanghyuk/anaconda/envs/py38/lib/python3.8/site-packages (from requests->torchtext) (2.10)\n",
      "Requirement already satisfied: urllib3!=1.25.0,!=1.25.1,<1.26,>=1.21.1 in /Users/sanghyuk/anaconda/envs/py38/lib/python3.8/site-packages (from requests->torchtext) (1.25.11)\n",
      "Requirement already satisfied: typing-extensions in /Users/sanghyuk/anaconda/envs/py38/lib/python3.8/site-packages (from torch==1.10.0->torchtext) (3.7.4.3)\n",
      "Installing collected packages: torchtext\n",
      "Successfully installed torchtext-0.11.0\n"
     ]
    }
   ],
   "source": [
    "!pip3 install torchtext"
   ]
  },
  {
   "cell_type": "code",
   "execution_count": 9,
   "metadata": {},
   "outputs": [],
   "source": [
    "import random\n",
    "import torch\n",
    "import torch.nn as nn\n",
    "import torch.nn.functional as F\n",
    "from torchtext import data, datasets"
   ]
  },
  {
   "cell_type": "code",
   "execution_count": 2,
   "metadata": {},
   "outputs": [],
   "source": [
    "# Hyperparameter\n",
    "num_batch = ?\n",
    "num_layers = ?\n",
    "hidden_size = ?\n",
    "embedding_dim = ?\n",
    "class_num = ?\n",
    "dropout = ?\n",
    "learning_rate = ?\n",
    "epoch = ?"
   ]
  },
  {
   "cell_type": "code",
   "execution_count": 5,
   "metadata": {},
   "outputs": [
    {
     "name": "stdout",
     "output_type": "stream",
     "text": [
      "cpu\n"
     ]
    }
   ],
   "source": [
    "# GPU\n",
    "device = torch.device(\"cuda\" if torch.cuda.is_available() else \"cpu\")\n",
    "print(device)"
   ]
  },
  {
   "cell_type": "markdown",
   "metadata": {},
   "source": [
    "# [1] Data"
   ]
  },
  {
   "cell_type": "markdown",
   "metadata": {},
   "source": [
    "IMDB dataset  \n",
    " -영문으로 된 5만건의 영화 리뷰 텍스트 데이터 셋  \n",
    " -Label --> pos(2), neg(1) "
   ]
  },
  {
   "cell_type": "markdown",
   "metadata": {},
   "source": [
    "-TorchText의 Field 클래스는 데이터를 어떻게 처리할 것인지 정하는 객체이다."
   ]
  },
  {
   "cell_type": "code",
   "execution_count": 12,
   "metadata": {},
   "outputs": [
    {
     "ename": "AttributeError",
     "evalue": "module 'torchtext.data' has no attribute 'Field'",
     "output_type": "error",
     "traceback": [
      "\u001b[0;31m---------------------------------------------------------------------------\u001b[0m",
      "\u001b[0;31mAttributeError\u001b[0m                            Traceback (most recent call last)",
      "\u001b[0;32m<ipython-input-12-ed561c320815>\u001b[0m in \u001b[0;36m<module>\u001b[0;34m\u001b[0m\n\u001b[0;32m----> 1\u001b[0;31m \u001b[0mTEXT\u001b[0m \u001b[0;34m=\u001b[0m \u001b[0mdata\u001b[0m\u001b[0;34m.\u001b[0m\u001b[0mField\u001b[0m\u001b[0;34m(\u001b[0m\u001b[0msequential\u001b[0m\u001b[0;34m=\u001b[0m\u001b[0;32mTrue\u001b[0m\u001b[0;34m,\u001b[0m \u001b[0mbatch_first\u001b[0m\u001b[0;34m=\u001b[0m\u001b[0;32mTrue\u001b[0m\u001b[0;34m,\u001b[0m \u001b[0mlower\u001b[0m \u001b[0;34m=\u001b[0m\u001b[0;32mTrue\u001b[0m\u001b[0;34m)\u001b[0m\u001b[0;34m\u001b[0m\u001b[0;34m\u001b[0m\u001b[0m\n\u001b[0m\u001b[1;32m      2\u001b[0m \u001b[0;31m#LABEL = data.Field(sequential=False, batch_first=True)\u001b[0m\u001b[0;34m\u001b[0m\u001b[0;34m\u001b[0m\u001b[0;34m\u001b[0m\u001b[0m\n",
      "\u001b[0;31mAttributeError\u001b[0m: module 'torchtext.data' has no attribute 'Field'"
     ]
    }
   ],
   "source": [
    "TEXT = data.Field(sequential=True, batch_first=True, lower =True)\n",
    "#LABEL = data.Field(sequential=False, batch_first=True)"
   ]
  },
  {
   "cell_type": "markdown",
   "metadata": {},
   "source": [
    "-TorchText에서 제공하는 IMDB 데이셋을 다운로드 한다"
   ]
  },
  {
   "cell_type": "code",
   "execution_count": 10,
   "metadata": {},
   "outputs": [
    {
     "ename": "SyntaxError",
     "evalue": "invalid syntax (<ipython-input-10-a21a4798f396>, line 1)",
     "output_type": "error",
     "traceback": [
      "\u001b[0;36m  File \u001b[0;32m\"<ipython-input-10-a21a4798f396>\"\u001b[0;36m, line \u001b[0;32m1\u001b[0m\n\u001b[0;31m    trainset, testset = datasets.?\u001b[0m\n\u001b[0m                                 ^\u001b[0m\n\u001b[0;31mSyntaxError\u001b[0m\u001b[0;31m:\u001b[0m invalid syntax\n"
     ]
    }
   ],
   "source": [
    "trainset, testset = datasets.?\n",
    "\n",
    "print(f'Number of training samples: {len(trainset)}')\n",
    "print(f'Number of test samples: {len(testset)}')"
   ]
  },
  {
   "cell_type": "code",
   "execution_count": 6,
   "metadata": {},
   "outputs": [],
   "source": [
    "#Train data, Validation data로 나누기\n",
    "\n",
    "train_data, val_data = trainset.split( ? )\n",
    "\n",
    "#Batchfy\n",
    "train_iter, val_iter, test_iter = ?"
   ]
  },
  {
   "cell_type": "markdown",
   "metadata": {},
   "source": [
    " (pad)와 (unk) 토큰이 추가 되어 단어장이 생성된다"
   ]
  },
  {
   "cell_type": "code",
   "execution_count": 7,
   "metadata": {},
   "outputs": [
    {
     "name": "stdout",
     "output_type": "stream",
     "text": [
      "Unique tokens in TEXT vocabulary: 46159\n",
      "Unique tokens in LABEL vocabulary: 3\n"
     ]
    }
   ],
   "source": [
    "# 단어장 생성\n",
    "TEXT. ?                                 # min_freq: 입력값만큼 반복되는 단어만 단어장 생성\n",
    "LABEL. ?                               # 나머지는 <unk> 처리\n",
    "\n",
    "voca_num = ?\n",
    "\n",
    "print(f'Unique tokens in TEXT vocabulary: { ? }')\n",
    "print(f'Unique tokens in LABEL vocabulary: { ? }')"
   ]
  },
  {
   "cell_type": "code",
   "execution_count": 8,
   "metadata": {},
   "outputs": [
    {
     "name": "stdout",
     "output_type": "stream",
     "text": [
      "[('the', 322198), ('a', 159953), ('and', 158572), ('of', 144462), ('to', 133967), ('is', 104171), ('in', 90527), ('i', 70480), ('this', 69714), ('that', 66292), ('it', 65505), ('/><br', 50935), ('was', 47024), ('as', 45102), ('for', 42843), ('with', 42729), ('but', 39764), ('on', 31619), ('movie', 30887), ('his', 29059)]\n"
     ]
    }
   ],
   "source": [
    "print(TEXT.vocab.freqs.most_common(20)) #자주 등장하는 단어와 횟수 확인"
   ]
  },
  {
   "cell_type": "code",
   "execution_count": 1,
   "metadata": {},
   "outputs": [],
   "source": [
    "print(TEXT.vocab.stoi) # 어휘사전(dict), 키값은 voca이고 value값은 인덱스 값\n",
    "                       # stoi(string to int)\n"
   ]
  },
  {
   "cell_type": "code",
   "execution_count": 10,
   "metadata": {},
   "outputs": [
    {
     "name": "stdout",
     "output_type": "stream",
     "text": [
      "defaultdict(<bound method Vocab._default_unk_index of <torchtext.vocab.Vocab object at 0x7f060821d290>>, {'<unk>': 0, 'neg': 1, 'pos': 2})\n"
     ]
    }
   ],
   "source": [
    "print(LABEL.vocab.stoi)"
   ]
  },
  {
   "cell_type": "markdown",
   "metadata": {},
   "source": [
    "\n",
    "\n",
    "# [2] Model"
   ]
  },
  {
   "cell_type": "code",
   "execution_count": 11,
   "metadata": {},
   "outputs": [],
   "source": [
    "class SeqModel(nn.Module):\n",
    "    def __init__(self, n_vocab,  hidden_dim, embed_dim, n_classes, n_layers, dropout):\n",
    "        super(SeqModel, self).__init__()\n",
    "\n",
    "        self.embedding = nn.Embedding( ? )\n",
    "        self.dropout = nn.Dropout(dropout)\n",
    "        self.gru = nn.GRU(embed_dim, hidden_dim, num_layers=n_layers, batch_first=True)\n",
    "        self.linear = nn.Linear(hidden_dim, n_classes)\n",
    "        self.tanh = torch.nn.Tanh()\n",
    "        \n",
    "    def forward(self, x):\n",
    "        ?\n",
    "        \n",
    "        return outputs\n"
   ]
  },
  {
   "cell_type": "code",
   "execution_count": 12,
   "metadata": {},
   "outputs": [],
   "source": [
    "model = SeqModel(voca_num, hidden_size, embedding_dim, class_num, num_layers, dropout).to(device)"
   ]
  },
  {
   "cell_type": "code",
   "execution_count": 13,
   "metadata": {},
   "outputs": [],
   "source": [
    "criterion = nn.CrossEntropyLoss()\n",
    "optimizer = torch.optim.Adam(model.parameters(), lr=learning_rate)"
   ]
  },
  {
   "cell_type": "markdown",
   "metadata": {},
   "source": [
    "# [3] Training"
   ]
  },
  {
   "cell_type": "code",
   "execution_count": 14,
   "metadata": {},
   "outputs": [],
   "source": [
    "def evaluate(model, val_iter):\n",
    "    model.eval()\n",
    "    corrects = 0\n",
    "    total_loss = 0\n",
    "    \n",
    "    for batch in val_iter:\n",
    "        x_test = batch.text.to(device)\n",
    "        target = batch.label.to(device)\n",
    "        target.data.sub_(1)  # label value (1,2) --> (0,1)로 변환\n",
    "        \n",
    "        output = model(x_test)\n",
    "        \n",
    "        outputs_softmax = F.softmax(output, dim=1)\n",
    "        loss = F.cross_entropy(output, target)\n",
    "        total_loss += loss.item()\n",
    "        \n",
    "        pred = torch.argmax(outputs_softmax.data, dim=1)\n",
    "        corrects += (pred == target.data).sum().item()\n",
    "        \n",
    "    length = len(val_iter.dataset)\n",
    "    avg_loss = total_loss / length\n",
    "    avg_accuracy = (corrects/length)*100\n",
    "    return avg_loss, avg_accuracy"
   ]
  },
  {
   "cell_type": "code",
   "execution_count": 15,
   "metadata": {},
   "outputs": [
    {
     "name": "stdout",
     "output_type": "stream",
     "text": [
      "Epoch:1 , Loss:0.0031, Accuracy:82.60 \n",
      "Epoch:2 , Loss:0.0029, Accuracy:84.04 \n",
      "Epoch:3 , Loss:0.0028, Accuracy:85.70 \n"
     ]
    }
   ],
   "source": [
    "#Training\n",
    "for i in range(1, epoch+1):\n",
    "    model.train()\n",
    "    \n",
    "    for b, batch in enumerate(train_iter):\n",
    "\n",
    "        x_train = ? \n",
    "        target = ? \n",
    "        target.data.sub_(1)  # label value (1,2) --> (0,1)로 변환\n",
    "        \n",
    "        optimizer.zero_grad()\n",
    "\n",
    "        output = model(x_train)\n",
    "        \n",
    "        loss = criterion(output, target)\n",
    "        loss.backward()\n",
    "        optimizer.step()    \n",
    "\n",
    "    val_loss, val_accuracy = ? \n",
    "    print( f'Epoch:{i} , Loss:{val_loss:.4f}, Accuracy:{val_accuracy:.2f} ')\n",
    "          "
   ]
  },
  {
   "cell_type": "markdown",
   "metadata": {},
   "source": [
    "# [4] Test"
   ]
  },
  {
   "cell_type": "code",
   "execution_count": 16,
   "metadata": {},
   "outputs": [
    {
     "name": "stdout",
     "output_type": "stream",
     "text": [
      "test_loss: 0.00, test_acc: 83.79\n"
     ]
    }
   ],
   "source": [
    "test_loss, test_acc = ? \n",
    "print(f'test_loss: {test_loss :.2f}, test_acc: {test_acc:.2f}')"
   ]
  },
  {
   "cell_type": "markdown",
   "metadata": {},
   "source": [
    "[Reference[1]](https://github.com/bentrevett/pytorch-sentiment-analysis)  \n",
    "[Reference[2]](https://github.com/keon/3-min-pytorch)"
   ]
  }
 ],
 "metadata": {
  "kernelspec": {
   "display_name": "Python 3",
   "language": "python",
   "name": "python3"
  },
  "language_info": {
   "codemirror_mode": {
    "name": "ipython",
    "version": 3
   },
   "file_extension": ".py",
   "mimetype": "text/x-python",
   "name": "python",
   "nbconvert_exporter": "python",
   "pygments_lexer": "ipython3",
   "version": "3.8.5"
  }
 },
 "nbformat": 4,
 "nbformat_minor": 2
}
