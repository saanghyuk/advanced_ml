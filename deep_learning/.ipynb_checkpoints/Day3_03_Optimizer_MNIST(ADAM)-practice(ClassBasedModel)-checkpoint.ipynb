{
 "cells": [
  {
   "cell_type": "markdown",
   "metadata": {},
   "source": [
    "### Class 방식으로 Adam Optimzer 를 쓰는 pytorch 코드를 구현한다"
   ]
  },
  {
   "cell_type": "code",
   "execution_count": 1,
   "metadata": {},
   "outputs": [],
   "source": [
    "# warning message 제거\n",
    "\n",
    "import warnings\n",
    "warnings.filterwarnings(action='ignore')"
   ]
  },
  {
   "cell_type": "code",
   "execution_count": 2,
   "metadata": {},
   "outputs": [],
   "source": [
    "import numpy as np\n",
    "import torch\n",
    "import torch.nn as nn\n",
    "import torch.optim as optim\n",
    "from torch.nn import functional as F\n",
    "\n",
    "import random"
   ]
  },
  {
   "cell_type": "code",
   "execution_count": 5,
   "metadata": {},
   "outputs": [],
   "source": [
    "from mnist import MNIST\n",
    "\n",
    "import torch.utils.data as data_utils\n",
    "from torch.utils.data import DataLoader\n",
    "\n",
    "# loss 값 ploting 을 위해 사용\n",
    "import matplotlib.pyplot as plt"
   ]
  },
  {
   "cell_type": "markdown",
   "metadata": {},
   "source": [
    "Check GPU and fix the random seed"
   ]
  },
  {
   "cell_type": "code",
   "execution_count": 6,
   "metadata": {},
   "outputs": [
    {
     "name": "stdout",
     "output_type": "stream",
     "text": [
      "cpu\n"
     ]
    }
   ],
   "source": [
    "device = 'cuda' if torch.cuda.is_available() else 'cpu'\n",
    "print(device)\n",
    "\n",
    "random.seed(777)\n",
    "torch.manual_seed(777)\n",
    "if device == 'cuda':\n",
    "    torch.cuda.manual_seed_all(777)"
   ]
  },
  {
   "cell_type": "markdown",
   "metadata": {},
   "source": [
    "### Load Dataset and preprocessing"
   ]
  },
  {
   "cell_type": "code",
   "execution_count": 10,
   "metadata": {
    "scrolled": true
   },
   "outputs": [
    {
     "name": "stdout",
     "output_type": "stream",
     "text": [
      "x_train 의 shape=(60000, 784), y_train 의 shape=(60000,)\n",
      "x_test 의 shape=(10000, 784), y_test 의 shape=(10000,)\n"
     ]
    }
   ],
   "source": [
    "mnist = MNIST('./data/MNIST/raw')\n",
    "x_train, y_train = mnist.load_training()\n",
    "x_test, y_test = mnist.load_testing()\n",
    "\n",
    "# data 는 list 형식을 되어 있으므로 shape 을 보고, 이미지 visualization 을 하기 편한 array 형태로 바꾸어준다.\n",
    "\n",
    "x_train=np.asarray(x_train)\n",
    "y_train=np.asarray(y_train)\n",
    "x_test=np.asarray(x_test)\n",
    "y_test=np.asarray(y_test)\n",
    "\n",
    "print(\"x_train 의 shape={}, y_train 의 shape={}\".format(x_train.shape,y_train.shape))\n",
    "print(\"x_test 의 shape={}, y_test 의 shape={}\".format(x_test.shape,y_test.shape))"
   ]
  },
  {
   "cell_type": "markdown",
   "metadata": {},
   "source": [
    "### Convert array data into Tensor Dataset"
   ]
  },
  {
   "cell_type": "markdown",
   "metadata": {},
   "source": [
    "1. array 형태의 x와 y data 를 TensorDataset 형태로 train_data 에 담고"
   ]
  },
  {
   "cell_type": "code",
   "execution_count": 13,
   "metadata": {},
   "outputs": [],
   "source": [
    "train_data = data_utils.TensorDataset(torch.FloatTensor(x_train), torch.FloatTensor(y_train))"
   ]
  },
  {
   "cell_type": "markdown",
   "metadata": {},
   "source": [
    "2. 하나로 묶어준 x tensor, y tensor data 를 batch 단위로 나누어서 trainloader 에 담아준다"
   ]
  },
  {
   "cell_type": "code",
   "execution_count": 14,
   "metadata": {},
   "outputs": [],
   "source": [
    "batch_size = 1000\n",
    "trainloader = data_utils.DataLoader(train_data, batch_size = batch_size, shuffle = True)"
   ]
  },
  {
   "cell_type": "code",
   "execution_count": 15,
   "metadata": {
    "scrolled": false
   },
   "outputs": [
    {
     "name": "stdout",
     "output_type": "stream",
     "text": [
      "tensor(0.)\n"
     ]
    },
    {
     "data": {
      "image/png": "[encoded data removed]",
      "text/plain": [
       "<Figure size 432x288 with 1 Axes>"
      ]
     },
     "metadata": {
      "image/png": {
       "height": 251,
       "width": 253
      }
     },
     "output_type": "display_data"
    }
   ],
   "source": [
    "for batch_idx, (image, label) in enumerate(trainloader):\n",
    "    plt.imshow(image[0].reshape(28,28), cmap = 'gray')\n",
    "    print(label[0])\n",
    "    break"
   ]
  },
  {
   "cell_type": "markdown",
   "metadata": {},
   "source": [
    "### Define Linear Model using with ReLU\n",
    "### Use Forward Function"
   ]
  },
  {
   "cell_type": "code",
   "execution_count": 16,
   "metadata": {},
   "outputs": [],
   "source": [
    "class Adam_Model(nn.Module):\n",
    "    def __init__(self):\n",
    "        super(Adam_Model, self).__init__()\n",
    "        \n",
    "        self.fc1 = nn.Linear(784,256)\n",
    "        self.fc2 = nn.Linear(256,64)\n",
    "        self.fc3 = nn.Linear(64,10) # 0~9\n",
    "                \n",
    "    def forward(self, x):\n",
    "        h1 = F.relu(self.fc1(x))\n",
    "        h2 = F.relu(self.fc2(h1))\n",
    "        class_label = self.fc3(h2)\n",
    "        \n",
    "        return class_label       "
   ]
  },
  {
   "cell_type": "code",
   "execution_count": 17,
   "metadata": {},
   "outputs": [],
   "source": [
    "model = Adam_Model().to(device)"
   ]
  },
  {
   "cell_type": "code",
   "execution_count": 18,
   "metadata": {},
   "outputs": [
    {
     "data": {
      "text/plain": [
       "Adam_Model(\n",
       "  (fc1): Linear(in_features=784, out_features=256, bias=True)\n",
       "  (fc2): Linear(in_features=256, out_features=64, bias=True)\n",
       "  (fc3): Linear(in_features=64, out_features=10, bias=True)\n",
       ")"
      ]
     },
     "execution_count": 18,
     "metadata": {},
     "output_type": "execute_result"
    }
   ],
   "source": [
    "model"
   ]
  },
  {
   "cell_type": "markdown",
   "metadata": {},
   "source": [
    "### dummy data"
   ]
  },
  {
   "cell_type": "markdown",
   "metadata": {},
   "source": [
    "중간 중간에 shape 보고 싶을 때, 더미 데이터 만들어서, 실제로 넣어보는 방식으로 사용한다. "
   ]
  },
  {
   "cell_type": "code",
   "execution_count": 22,
   "metadata": {},
   "outputs": [],
   "source": [
    "a = torch.Tensor(1,784).to(device)"
   ]
  },
  {
   "cell_type": "markdown",
   "metadata": {},
   "source": [
    "제대로 나오는것 보니 good"
   ]
  },
  {
   "cell_type": "code",
   "execution_count": 23,
   "metadata": {},
   "outputs": [
    {
     "data": {
      "text/plain": [
       "torch.Size([1, 10])"
      ]
     },
     "execution_count": 23,
     "metadata": {},
     "output_type": "execute_result"
    }
   ],
   "source": [
    "model(a).shape"
   ]
  },
  {
   "cell_type": "markdown",
   "metadata": {},
   "source": [
    "### Set parameters"
   ]
  },
  {
   "cell_type": "code",
   "execution_count": 25,
   "metadata": {},
   "outputs": [],
   "source": [
    "epoch = 15\n",
    "learning_rate = 0.01\n",
    "weight_decay = 1e-5"
   ]
  },
  {
   "cell_type": "markdown",
   "metadata": {},
   "source": [
    "### Define Loss Function & Define Optimizer"
   ]
  },
  {
   "cell_type": "code",
   "execution_count": 26,
   "metadata": {},
   "outputs": [],
   "source": [
    "loss_function = torch.nn.CrossEntropyLoss()\n",
    "optimizer = torch.optim.Adam(model.parameters(), lr = learning_rate, weight_decay=weight_decay)"
   ]
  },
  {
   "cell_type": "markdown",
   "metadata": {},
   "source": [
    "### Train"
   ]
  },
  {
   "cell_type": "code",
   "execution_count": 27,
   "metadata": {
    "scrolled": true
   },
   "outputs": [
    {
     "name": "stdout",
     "output_type": "stream",
     "text": [
      "epoch 1 의 평균 loss 값은 ==> 10.28413\n",
      "epoch 2 의 평균 loss 값은 ==> 1.09126\n",
      "epoch 3 의 평균 loss 값은 ==> 0.65274\n",
      "epoch 4 의 평균 loss 값은 ==> 0.38804\n",
      "epoch 5 의 평균 loss 값은 ==> 0.32012\n",
      "epoch 6 의 평균 loss 값은 ==> 0.28049\n",
      "epoch 7 의 평균 loss 값은 ==> 0.25201\n",
      "epoch 8 의 평균 loss 값은 ==> 0.23919\n",
      "epoch 9 의 평균 loss 값은 ==> 0.22036\n",
      "epoch 10 의 평균 loss 값은 ==> 0.22346\n",
      "epoch 11 의 평균 loss 값은 ==> 0.20349\n",
      "epoch 12 의 평균 loss 값은 ==> 0.18686\n",
      "epoch 13 의 평균 loss 값은 ==> 0.17504\n",
      "epoch 14 의 평균 loss 값은 ==> 0.16894\n",
      "epoch 15 의 평균 loss 값은 ==> 0.16549\n"
     ]
    }
   ],
   "source": [
    "# model = Adam_Model().to(device)\n",
    "\n",
    "loss_list = []\n",
    "\n",
    "for epoch_num in range(epoch):\n",
    "    average_loss = 0\n",
    "        \n",
    "    for batch_idx, (x_data, y_label) in enumerate(trainloader):\n",
    "        \n",
    "        num_of_mini_batch = len(trainloader) # 60      \n",
    "        \n",
    "        images = x_data.to(device)\n",
    "        lables = y_label.to(device)\n",
    "        \n",
    "        # zero_grad 한 후 () 를 꼭 빼먹지 않도록한다\n",
    "        optimizer.zero_grad()\n",
    "        \n",
    "        predict = model(images)\n",
    "        \n",
    "        y_label_long = torch.tensor(lables, dtype=torch.long)\n",
    "        y_label_long = y_label_long.to(device)\n",
    "        \n",
    "        loss = loss_function(predict, y_label_long)\n",
    "        \n",
    "        # 마찬가지로 ()를 꼭 넣어준다\n",
    "        loss.backward()\n",
    "        optimizer.step()\n",
    "        \n",
    "        average_loss += (loss.item()/num_of_mini_batch)\n",
    "        loss_list.append(loss)\n",
    "     \n",
    "                \n",
    "    print(\"epoch {} 의 평균 loss 값은 ==> {:.5f}\".format((epoch_num+1), average_loss))"
   ]
  },
  {
   "cell_type": "code",
   "execution_count": 29,
   "metadata": {},
   "outputs": [
    {
     "name": "stdout",
     "output_type": "stream",
     "text": [
      "loss_list의 길이 = 900\n"
     ]
    }
   ],
   "source": [
    "# 60000개를 1000 배치로 나누었을때 60이 되므로 epoch 하나당 60 묶음의 배치가 학습이된다\n",
    "# 15 epoch 이므로 900 묶음의 배치가 학습이 되게 되고 list 에 append 되는 loss value 도 900 개가 된다.\n",
    "print(\"loss_list의 길이 =\",len(loss_list))"
   ]
  },
  {
   "cell_type": "code",
   "execution_count": 30,
   "metadata": {
    "scrolled": true
   },
   "outputs": [
    {
     "data": {
      "text/plain": [
       "[tensor(12.5814, grad_fn=<NllLossBackward0>),\n",
       " tensor(152.8743, grad_fn=<NllLossBackward0>),\n",
       " tensor(104.8336, grad_fn=<NllLossBackward0>),\n",
       " tensor(74.3441, grad_fn=<NllLossBackward0>),\n",
       " tensor(49.3743, grad_fn=<NllLossBackward0>),\n",
       " tensor(58.5393, grad_fn=<NllLossBackward0>),\n",
       " tensor(41.4303, grad_fn=<NllLossBackward0>),\n",
       " tensor(25.9866, grad_fn=<NllLossBackward0>),\n",
       " tensor(14.2562, grad_fn=<NllLossBackward0>),\n",
       " tensor(5.9987, grad_fn=<NllLossBackward0>)]"
      ]
     },
     "execution_count": 30,
     "metadata": {},
     "output_type": "execute_result"
    }
   ],
   "source": [
    "loss_list[:10]"
   ]
  },
  {
   "cell_type": "markdown",
   "metadata": {},
   "source": [
    "### 2번째 epoch 의 loss 값을 한 번 재확인"
   ]
  },
  {
   "cell_type": "code",
   "execution_count": 31,
   "metadata": {},
   "outputs": [
    {
     "name": "stdout",
     "output_type": "stream",
     "text": [
      "tensor(1.0913, grad_fn=<DivBackward0>)\n"
     ]
    }
   ],
   "source": [
    "# epoch 하나당 60개의 batch 묶음\n",
    "epoch_loss = 0\n",
    "for i in range(60):\n",
    "    epoch_loss = epoch_loss + loss_list[i+60]\n",
    "    \n",
    "print(epoch_loss/60)"
   ]
  },
  {
   "cell_type": "code",
   "execution_count": 32,
   "metadata": {},
   "outputs": [],
   "source": [
    "from matplotlib import pyplot as plt"
   ]
  },
  {
   "cell_type": "code",
   "execution_count": 33,
   "metadata": {
    "scrolled": false
   },
   "outputs": [
    {
     "data": {
      "text/plain": [
       "[<matplotlib.lines.Line2D at 0x7fcbd9fd2d30>]"
      ]
     },
     "execution_count": 33,
     "metadata": {},
     "output_type": "execute_result"
    },
    {
     "data": {
      "image/png": "[encoded data removed]",
      "text/plain": [
       "<Figure size 432x288 with 1 Axes>"
      ]
     },
     "metadata": {
      "image/png": {
       "height": 251,
       "width": 380
      }
     },
     "output_type": "display_data"
    }
   ],
   "source": [
    "plt.plot(np.array(loss_list[15:]), 'r')"
   ]
  },
  {
   "cell_type": "code",
   "execution_count": 35,
   "metadata": {},
   "outputs": [],
   "source": [
    "import pickle\n",
    "\n",
    "# wb - 바이트 형식으로 저장\n",
    "\n",
    "with open('./pickle/ADAM.pickle', 'wb') as f:\n",
    "    pickle.dump(loss_list, f)"
   ]
  },
  {
   "cell_type": "markdown",
   "metadata": {},
   "source": [
    "### Test code??"
   ]
  },
  {
   "cell_type": "markdown",
   "metadata": {},
   "source": [
    "Load test dataset"
   ]
  },
  {
   "cell_type": "code",
   "execution_count": 36,
   "metadata": {},
   "outputs": [],
   "source": [
    "test_data = data_utils.TensorDataset(torch.FloatTensor(x_test), torch.FloatTensor(y_test))\n",
    "\n",
    "testloader = data_utils.DataLoader(test_data, batch_size = 5000, shuffle = False)"
   ]
  },
  {
   "cell_type": "code",
   "execution_count": 37,
   "metadata": {},
   "outputs": [
    {
     "name": "stdout",
     "output_type": "stream",
     "text": [
      "Adam 을 사용한 model 의 accuracy는 94.59%\n"
     ]
    }
   ],
   "source": [
    "with torch.no_grad():\n",
    "    num_total_data = 0\n",
    "    correct = 0\n",
    "    \n",
    "    for batch_idx, (images, labels) in enumerate(testloader):\n",
    "        \n",
    "        images = images.to(device)\n",
    "        labels = labels.to(device)\n",
    "        \n",
    "        outputs = model(images)\n",
    "        output_softmax = torch.nn.functional.softmax(outputs)\n",
    "        predicted = torch.argmax(output_softmax, dim = 1)\n",
    "        \n",
    "        num_total_data += len(images)\n",
    "        \n",
    "        answer = sum(labels == predicted).item()\n",
    "        correct += answer\n",
    "        \n",
    "    print(\"Adam 을 사용한 model 의 accuracy는 %.2f%%\" %((correct/num_total_data)*100))"
   ]
  },
  {
   "cell_type": "code",
   "execution_count": null,
   "metadata": {},
   "outputs": [],
   "source": []
  }
 ],
 "metadata": {
  "kernelspec": {
   "display_name": "Python 3",
   "language": "python",
   "name": "python3"
  },
  "language_info": {
   "codemirror_mode": {
    "name": "ipython",
    "version": 3
   },
   "file_extension": ".py",
   "mimetype": "text/x-python",
   "name": "python",
   "nbconvert_exporter": "python",
   "pygments_lexer": "ipython3",
   "version": "3.8.5"
  }
 },
 "nbformat": 4,
 "nbformat_minor": 4
}
