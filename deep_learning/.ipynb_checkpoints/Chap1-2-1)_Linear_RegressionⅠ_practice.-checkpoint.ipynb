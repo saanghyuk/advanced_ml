{
 "cells": [
  {
   "cell_type": "markdown",
   "metadata": {},
   "source": [
    "# Linear Regression - Ⅰ"
   ]
  },
  {
   "cell_type": "code",
   "execution_count": 1,
   "metadata": {},
   "outputs": [],
   "source": [
    "import torch\n",
    "import torch.nn\n",
    "import numpy as np\n",
    "import matplotlib.pyplot as plt"
   ]
  },
  {
   "cell_type": "markdown",
   "metadata": {},
   "source": [
    "## [1] Data\n",
    "-X , Y 좌표 데이터를 가지고 Linear regression 모델을 만들어 본다"
   ]
  },
  {
   "cell_type": "code",
   "execution_count": 2,
   "metadata": {},
   "outputs": [
    {
     "name": "stdout",
     "output_type": "stream",
     "text": [
      "<class 'torch.Tensor'>\n"
     ]
    }
   ],
   "source": [
    "# Toy dataset\n",
    "x_train = np.array([[3.3], [4.4], [5.5], [6.1], [6.3], [4.8], \n",
    "                    [9.7], [6.2], [7.9], [2.7], [7.2], \n",
    "                    [10.1], [5.3], [7.7], [3.1]])\n",
    "\n",
    "y_train = np.array([[1.7], [1.9], [2.09], [2.1], [1.9], [1.3], \n",
    "                    [3.3], [2.5], [2.5], [1.1], [2.7], \n",
    "                    [3.4], [1.5], [2.4], [1.3]])\n",
    "\n",
    "#텐서화\n",
    "x_train_tensor = torch.FloatTensor(x_train)\n",
    "y_train_tensor = torch.FloatTensor(y_train)\n",
    "\n",
    "print(type(x_train_tensor))"
   ]
  },
  {
   "cell_type": "code",
   "execution_count": 5,
   "metadata": {},
   "outputs": [
    {
     "data": {
      "text/plain": [
       "tensor([[ 3.3000],\n",
       "        [ 4.4000],\n",
       "        [ 5.5000],\n",
       "        [ 6.1000],\n",
       "        [ 6.3000],\n",
       "        [ 4.8000],\n",
       "        [ 9.7000],\n",
       "        [ 6.2000],\n",
       "        [ 7.9000],\n",
       "        [ 2.7000],\n",
       "        [ 7.2000],\n",
       "        [10.1000],\n",
       "        [ 5.3000],\n",
       "        [ 7.7000],\n",
       "        [ 3.1000]])"
      ]
     },
     "execution_count": 5,
     "metadata": {},
     "output_type": "execute_result"
    }
   ],
   "source": [
    "x_train_tensor"
   ]
  },
  {
   "cell_type": "code",
   "execution_count": 3,
   "metadata": {},
   "outputs": [
    {
     "data": {
      "text/plain": [
       "<matplotlib.collections.PathCollection at 0x2af1ab19d48>"
      ]
     },
     "execution_count": 3,
     "metadata": {},
     "output_type": "execute_result"
    },
    {
     "data": {
      "image/png": "[encoded data removed]",
      "text/plain": [
       "<Figure size 432x288 with 1 Axes>"
      ]
     },
     "metadata": {
      "needs_background": "light"
     },
     "output_type": "display_data"
    }
   ],
   "source": [
    "# 그래프 그리기\n",
    "plt.figure()\n",
    "plt.scatter(x_train, y_train)"
   ]
  },
  {
   "cell_type": "markdown",
   "metadata": {},
   "source": [
    "## [2] Model"
   ]
  },
  {
   "cell_type": "markdown",
   "metadata": {},
   "source": [
    "$$ Wnew = Wold - \\alpha \\nabla W $$"
   ]
  },
  {
   "cell_type": "markdown",
   "metadata": {},
   "source": [
    "$$ H(x) = Wx + b $$"
   ]
  },
  {
   "cell_type": "code",
   "execution_count": 30,
   "metadata": {},
   "outputs": [],
   "source": [
    "# Hyper parameters\n",
    "\n",
    "# dimension of input size and output size\n",
    "input_size = 1\n",
    "output_size = 1\n",
    "# 전체 데이터셋 한번 돌면 1 epoch\n",
    "num_epochs = 50\n",
    "learning_rate = 0.01"
   ]
  },
  {
   "cell_type": "code",
   "execution_count": 31,
   "metadata": {},
   "outputs": [],
   "source": [
    "# Linear Regression Model\n",
    "model = torch.nn.Linear(input_size, output_size)"
   ]
  },
  {
   "cell_type": "markdown",
   "metadata": {},
   "source": [
    "$$ cost(W, b) = \\frac{1}{m} \\sum^m_{i=1} \\left( H(x^{(i)}) - y^{(i)} \\right)^2 $$"
   ]
  },
  {
   "cell_type": "code",
   "execution_count": 32,
   "metadata": {},
   "outputs": [],
   "source": [
    "# Loss function, Optimizer 정의\n",
    "criterion = torch.nn.MSELoss()\n",
    "optimizer = torch.optim.SGD(model.parameters(), lr= learning_rate)"
   ]
  },
  {
   "cell_type": "markdown",
   "metadata": {},
   "source": [
    "## [3] Training"
   ]
  },
  {
   "cell_type": "markdown",
   "metadata": {},
   "source": [
    "What is zero_grad()?\n",
    "\n",
    "In PyTorch, we need to set the gradients to zero before starting to do backpropragation because PyTorch accumulates the gradients on subsequent backward passes. This is convenient while training RNNs. So, the default action is to accumulate (i.e. sum) the gradients on every loss.backward() call."
   ]
  },
  {
   "cell_type": "markdown",
   "metadata": {},
   "source": [
    "backward()\n",
    "\n",
    "Computes the gradient of current tensor w.r.t. graph leaves."
   ]
  },
  {
   "cell_type": "markdown",
   "metadata": {},
   "source": [
    "loss.item()\n",
    "\n",
    "pytorch에서 dimension 2일때, 스칼라값만 가지고 오게 해주는 함수. "
   ]
  },
  {
   "cell_type": "code",
   "execution_count": 52,
   "metadata": {
    "scrolled": true
   },
   "outputs": [
    {
     "data": {
      "text/plain": [
       "torch.Size([15, 1])"
      ]
     },
     "execution_count": 52,
     "metadata": {},
     "output_type": "execute_result"
    }
   ],
   "source": [
    "outputs.shape"
   ]
  },
  {
   "cell_type": "code",
   "execution_count": 53,
   "metadata": {},
   "outputs": [
    {
     "data": {
      "text/plain": [
       "torch.Size([15, 1])"
      ]
     },
     "execution_count": 53,
     "metadata": {},
     "output_type": "execute_result"
    }
   ],
   "source": [
    "y_train_tensor.shape"
   ]
  },
  {
   "cell_type": "code",
   "execution_count": 50,
   "metadata": {
    "scrolled": true
   },
   "outputs": [
    {
     "name": "stdout",
     "output_type": "stream",
     "text": [
      "Epoch : 2 , Loss: 0.06\n",
      "Epoch : 4 , Loss: 0.06\n",
      "Epoch : 6 , Loss: 0.06\n",
      "Epoch : 8 , Loss: 0.06\n",
      "Epoch : 10 , Loss: 0.06\n",
      "Epoch : 12 , Loss: 0.06\n",
      "Epoch : 14 , Loss: 0.06\n",
      "Epoch : 16 , Loss: 0.06\n",
      "Epoch : 18 , Loss: 0.06\n",
      "Epoch : 20 , Loss: 0.06\n",
      "Epoch : 22 , Loss: 0.06\n",
      "Epoch : 24 , Loss: 0.06\n",
      "Epoch : 26 , Loss: 0.06\n",
      "Epoch : 28 , Loss: 0.06\n",
      "Epoch : 30 , Loss: 0.06\n",
      "Epoch : 32 , Loss: 0.06\n",
      "Epoch : 34 , Loss: 0.06\n",
      "Epoch : 36 , Loss: 0.06\n",
      "Epoch : 38 , Loss: 0.06\n",
      "Epoch : 40 , Loss: 0.06\n",
      "Epoch : 42 , Loss: 0.06\n",
      "Epoch : 44 , Loss: 0.06\n",
      "Epoch : 46 , Loss: 0.06\n",
      "Epoch : 48 , Loss: 0.06\n",
      "Epoch : 50 , Loss: 0.06\n"
     ]
    }
   ],
   "source": [
    "# Train the model\n",
    "\n",
    "for epoch in range(num_epochs):\n",
    "    #모델링\n",
    "    # gradient는 default설정으로 계속 더해지기 때문에, 학습마다 0으로 초기화 하는 것. \n",
    "    optimizer.zero_grad()\n",
    "    \n",
    "    outputs = model(x_train_tensor) \n",
    "    # calculate current loss\n",
    "    loss = criterion(outputs, y_train_tensor)\n",
    "\n",
    "    # 학습\n",
    "    # calculate gradient value\n",
    "    loss.backward()\n",
    "    # gradient descent, weight update\n",
    "    optimizer.step()\n",
    "\n",
    "    # Loss 확인하기\n",
    "    if (epoch+1) % 2 == 0:        \n",
    "        print (f'Epoch : {epoch+1} , Loss: {loss.item():.2f}')"
   ]
  },
  {
   "cell_type": "markdown",
   "metadata": {},
   "source": [
    "Loss가 왜 커지지? 발산 한 것. 와리가리 치고 난리치면서, 발산한 것. <br>\n",
    "Learning Rate조절"
   ]
  },
  {
   "cell_type": "code",
   "execution_count": 36,
   "metadata": {},
   "outputs": [
    {
     "data": {
      "text/plain": [
       "array([[1.3463097],\n",
       "       [1.6578954],\n",
       "       [1.9694812],\n",
       "       [2.1394372],\n",
       "       [2.1960893],\n",
       "       [1.7711995],\n",
       "       [3.1591723],\n",
       "       [2.167763 ],\n",
       "       [2.6493046],\n",
       "       [1.1763539],\n",
       "       [2.4510229],\n",
       "       [3.2724762],\n",
       "       [1.9128293],\n",
       "       [2.5926526],\n",
       "       [1.2896577]], dtype=float32)"
      ]
     },
     "execution_count": 36,
     "metadata": {},
     "output_type": "execute_result"
    }
   ],
   "source": [
    "predicted"
   ]
  },
  {
   "cell_type": "code",
   "execution_count": 41,
   "metadata": {},
   "outputs": [
    {
     "data": {
      "image/png": "[encoded data removed]",
      "text/plain": [
       "<Figure size 432x288 with 1 Axes>"
      ]
     },
     "metadata": {
      "image/png": {
       "height": 254,
       "width": 374
      }
     },
     "output_type": "display_data"
    }
   ],
   "source": [
    "x_train_plot= torch.FloatTensor(x_train)\n",
    "predicted = model(x_train_plot).detach().numpy()  # torch.detach().numpy()-->numpy를 텐서로 바꿔줌\n",
    "\n",
    "plt.figure()\n",
    "plt.plot(x_train, y_train, 'ro', label='data') # 'ro' --> 빨간색, o 동그라미(circle)를 의미\n",
    "plt.plot(x_train, predicted, label='linear function')\n",
    "plt.legend(loc='upper left') # 범례 위치 설정\n",
    "plt.show()"
   ]
  },
  {
   "cell_type": "markdown",
   "metadata": {},
   "source": [
    "### Check"
   ]
  },
  {
   "cell_type": "code",
   "execution_count": 43,
   "metadata": {
    "scrolled": false
   },
   "outputs": [
    {
     "data": {
      "text/plain": [
       "OrderedDict([('weight', tensor([[0.2833]])), ('bias', tensor([0.4116]))])"
      ]
     },
     "execution_count": 43,
     "metadata": {},
     "output_type": "execute_result"
    }
   ],
   "source": [
    "model.state_dict()"
   ]
  },
  {
   "cell_type": "code",
   "execution_count": 45,
   "metadata": {},
   "outputs": [
    {
     "data": {
      "text/plain": [
       "array([[1.34649],\n",
       "       [1.65812],\n",
       "       [1.96975],\n",
       "       [2.13973],\n",
       "       [2.19639],\n",
       "       [1.77144],\n",
       "       [3.15961],\n",
       "       [2.16806],\n",
       "       [2.64967],\n",
       "       [1.17651],\n",
       "       [2.45136],\n",
       "       [3.27293],\n",
       "       [1.91309],\n",
       "       [2.59301],\n",
       "       [1.28983]])"
      ]
     },
     "execution_count": 45,
     "metadata": {},
     "output_type": "execute_result"
    }
   ],
   "source": [
    "check_y = 0.2833*x_train + 0.4116\n",
    "check_y"
   ]
  },
  {
   "cell_type": "code",
   "execution_count": 46,
   "metadata": {},
   "outputs": [
    {
     "data": {
      "image/png": "[encoded data removed]",
      "text/plain": [
       "<Figure size 432x288 with 1 Axes>"
      ]
     },
     "metadata": {
      "image/png": {
       "height": 254,
       "width": 374
      }
     },
     "output_type": "display_data"
    }
   ],
   "source": [
    "check_y = 0.2833*x_train + 0.4116\n",
    "\n",
    "plt.figure()\n",
    "plt.plot(x_train, y_train, 'ro', label='data')\n",
    "plt.plot(x_train, check_y)\n",
    "plt.show()"
   ]
  },
  {
   "cell_type": "code",
   "execution_count": null,
   "metadata": {},
   "outputs": [],
   "source": []
  }
 ],
 "metadata": {
  "kernelspec": {
   "display_name": "Python 3",
   "language": "python",
   "name": "python3"
  },
  "language_info": {
   "codemirror_mode": {
    "name": "ipython",
    "version": 3
   },
   "file_extension": ".py",
   "mimetype": "text/x-python",
   "name": "python",
   "nbconvert_exporter": "python",
   "pygments_lexer": "ipython3",
   "version": "3.8.5"
  }
 },
 "nbformat": 4,
 "nbformat_minor": 4
}
