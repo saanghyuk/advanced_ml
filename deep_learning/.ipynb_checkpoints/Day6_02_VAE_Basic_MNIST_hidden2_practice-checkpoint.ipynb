{
 "cells": [
  {
   "cell_type": "markdown",
   "metadata": {},
   "source": [
    "# Variational AutoEncoder - Basic"
   ]
  },
  {
   "cell_type": "code",
   "execution_count": 1,
   "metadata": {},
   "outputs": [],
   "source": [
    "import numpy as np"
   ]
  },
  {
   "cell_type": "code",
   "execution_count": 2,
   "metadata": {},
   "outputs": [],
   "source": [
    "import torch\n",
    "import torch.nn as nn\n",
    "import torch.optim as optim\n",
    "from torch.nn import functional as F\n",
    "import random\n",
    "\n",
    "import pandas as pd\n",
    "\n",
    "from torchvision.utils import save_image"
   ]
  },
  {
   "cell_type": "code",
   "execution_count": 3,
   "metadata": {},
   "outputs": [],
   "source": [
    "# import torchvision.datasets as dset\n",
    "from mnist import MNIST # <= 다른거\n",
    "\n",
    "import torchvision.transforms as transforms\n",
    "from torch.utils.data import DataLoader\n",
    "import matplotlib.pyplot as plt"
   ]
  },
  {
   "cell_type": "markdown",
   "metadata": {},
   "source": [
    "### Check GPU"
   ]
  },
  {
   "cell_type": "code",
   "execution_count": 4,
   "metadata": {},
   "outputs": [
    {
     "name": "stdout",
     "output_type": "stream",
     "text": [
      "cpu\n"
     ]
    }
   ],
   "source": [
    "device = 'cuda' if torch.cuda.is_available() else 'cpu'\n",
    "\n",
    "print(device)"
   ]
  },
  {
   "cell_type": "code",
   "execution_count": 5,
   "metadata": {},
   "outputs": [],
   "source": [
    "# for reproducibility\n",
    "random.seed(777)\n",
    "torch.manual_seed(777)\n",
    "if device == 'cuda':\n",
    "    torch.cuda.manual_seed_all(777)"
   ]
  },
  {
   "cell_type": "markdown",
   "metadata": {},
   "source": [
    "### Import Dataset"
   ]
  },
  {
   "cell_type": "code",
   "execution_count": 7,
   "metadata": {},
   "outputs": [],
   "source": [
    "mnist = MNIST('./data/MNIST/raw')\n",
    "x_train, y_train = mnist.load_training()\n",
    "x_test, y_test = mnist.load_testing()"
   ]
  },
  {
   "cell_type": "code",
   "execution_count": 8,
   "metadata": {},
   "outputs": [
    {
     "name": "stdout",
     "output_type": "stream",
     "text": [
      "x_train 의 length = 60000\n",
      "x_test 의 length = 10000\n"
     ]
    }
   ],
   "source": [
    "print(\"x_train 의 length = {}\".format(len(x_train)))\n",
    "print(\"x_test 의 length = {}\".format(len(x_test)))"
   ]
  },
  {
   "cell_type": "markdown",
   "metadata": {},
   "source": [
    "### Data PreProcessing"
   ]
  },
  {
   "cell_type": "code",
   "execution_count": 9,
   "metadata": {},
   "outputs": [],
   "source": [
    "x_train=np.asarray(x_train)\n",
    "y_train=np.asarray(y_train)\n",
    "x_test=np.asarray(x_test)\n",
    "y_test=np.asarray(y_test)"
   ]
  },
  {
   "cell_type": "code",
   "execution_count": 11,
   "metadata": {},
   "outputs": [
    {
     "data": {
      "text/plain": [
       "array([0, 0, 0])"
      ]
     },
     "execution_count": 11,
     "metadata": {},
     "output_type": "execute_result"
    }
   ],
   "source": [
    "x_train[1][:3]"
   ]
  },
  {
   "cell_type": "code",
   "execution_count": 12,
   "metadata": {},
   "outputs": [],
   "source": [
    "# Rescale the image data to 0 ~ 1. \n",
    "x_train = x_train.astype(np.float32)/255.0\n",
    "x_test = x_test.astype(np.float32)/255.0"
   ]
  },
  {
   "cell_type": "code",
   "execution_count": 14,
   "metadata": {},
   "outputs": [
    {
     "data": {
      "text/plain": [
       "(60000, 784)"
      ]
     },
     "execution_count": 14,
     "metadata": {},
     "output_type": "execute_result"
    }
   ],
   "source": [
    "x_train.shape"
   ]
  },
  {
   "cell_type": "code",
   "execution_count": 15,
   "metadata": {},
   "outputs": [
    {
     "data": {
      "text/plain": [
       "(10000, 784)"
      ]
     },
     "execution_count": 15,
     "metadata": {},
     "output_type": "execute_result"
    }
   ],
   "source": [
    "x_test.shape"
   ]
  },
  {
   "cell_type": "markdown",
   "metadata": {},
   "source": [
    "### Load Dataset using DataLoader"
   ]
  },
  {
   "cell_type": "markdown",
   "metadata": {},
   "source": [
    "원래는 y까지 묶어서 DataLoader에 올렸는데 지금은 그 과정이 없다. "
   ]
  },
  {
   "cell_type": "code",
   "execution_count": 17,
   "metadata": {},
   "outputs": [],
   "source": [
    "batch_size = 256\n",
    "\n",
    "# batch size 만큼 나누어서 data를 로드\n",
    "train_loader = torch.utils.data.DataLoader(x_train ,batch_size=batch_size, shuffle=True, num_workers=0,drop_last=False)\n",
    "test_loader = torch.utils.data.DataLoader(x_test ,batch_size=len(x_test), shuffle=False, num_workers=0,drop_last=False)"
   ]
  },
  {
   "cell_type": "code",
   "execution_count": 18,
   "metadata": {
    "scrolled": true
   },
   "outputs": [
    {
     "data": {
      "image/png": "[encoded data removed]",
      "text/plain": [
       "<Figure size 432x288 with 1 Axes>"
      ]
     },
     "metadata": {
      "image/png": {
       "height": 251,
       "width": 253
      }
     },
     "output_type": "display_data"
    }
   ],
   "source": [
    "for batch_idx, image in enumerate(train_loader):\n",
    "    plt.imshow(image[0].reshape(28,28), cmap=\"gray\")\n",
    "    break"
   ]
  },
  {
   "cell_type": "markdown",
   "metadata": {},
   "source": [
    "### Make VAE Network"
   ]
  },
  {
   "cell_type": "code",
   "execution_count": 20,
   "metadata": {},
   "outputs": [
    {
     "data": {
      "text/plain": [
       "tensor([[ 0.0000e+00, -1.5846e+29, -6.8720e-37, -2.8601e-42],\n",
       "        [ 9.8091e-45,  0.0000e+00,  0.0000e+00,  0.0000e+00],\n",
       "        [ 0.0000e+00,  0.0000e+00,  0.0000e+00,  0.0000e+00]])"
      ]
     },
     "execution_count": 20,
     "metadata": {},
     "output_type": "execute_result"
    }
   ],
   "source": [
    "std = torch.Tensor(3, 4)\n",
    "std"
   ]
  },
  {
   "cell_type": "code",
   "execution_count": 21,
   "metadata": {},
   "outputs": [
    {
     "data": {
      "text/plain": [
       "tensor([[ 1.6885,  0.5554, -0.9433, -0.6758],\n",
       "        [ 1.4425, -1.4711, -1.3173,  2.3271],\n",
       "        [ 0.0894,  0.6558, -0.5836, -0.1074]])"
      ]
     },
     "execution_count": 21,
     "metadata": {},
     "output_type": "execute_result"
    }
   ],
   "source": [
    "# 들어오는 std와 같은 사이즈의 값을 standard normal 랜덤 값을 뽑아준다. \n",
    "torch.randn_like(std)"
   ]
  },
  {
   "cell_type": "code",
   "execution_count": 32,
   "metadata": {},
   "outputs": [],
   "source": [
    "class VAE(nn.Module):\n",
    "    def __init__(self):\n",
    "        super(VAE, self).__init__()\n",
    "        self.fc1 = nn.Linear(784, 400)\n",
    "        self.mu = nn.Linear(400, 2)\n",
    "\n",
    "        # 항상 양의 값을 갖기 위해서, logVar로 처리\n",
    "        # 실제 논문에서도 그렇게 함.\n",
    "        self.logvar = nn.Linear(400, 2)  # '0<' 조건에 대한 Gaurantee\n",
    "\n",
    "        self.fc2 = nn.Linear(2, 400)\n",
    "        self.fc3 = nn.Linear(400, 784)\n",
    "    # ===== 1 ============================================================================================================== #\n",
    "    # Encoder 부분\n",
    "    # hidden layer 를 한번만 통과 한 후 mu 와 variance 의 2개의 output layer 를 return 한다\n",
    "\n",
    "    def encode(self, x):\n",
    "        # Encoder의 아웃풋이 Gaussian을 정의할 수 있어야 한다.\n",
    "        # Code\n",
    "        h1 = F.relu(self.fc1(x))\n",
    "        mu = self.mu(h1)\n",
    "        logvar = self.logvar(h1)\n",
    "\n",
    "        return mu, logvar\n",
    "\n",
    "    # ===================================================================================================================== #\n",
    "\n",
    "    # ===== 2 ============================================================================================================== #\n",
    "    # Reparameterization Trick\n",
    "\n",
    "    def reparameterize(self, mu_vector, logvar_vector):\n",
    "        # 1) log 를 치워주자!\n",
    "        var_vector = torch.exp(logvar_vector)\n",
    "        # 2) 표준편차를 구하자\n",
    "        std = torch.sqrt(var_vector)\n",
    "        # 3) Epsilon 을 만들어주자\n",
    "        eps = torch.randn_like(std)\n",
    "        # 4) reparameterization trick 을 완성하자\n",
    "        z_vector = mu_vector + eps.mul(std)  # element wise\n",
    "\n",
    "        return z_vector\n",
    "        # Code\n",
    "\n",
    "    # ===================================================================================================================== #\n",
    "\n",
    "    # ===== 3 ============================================================================================================== #\n",
    "    # Decoder 부분\n",
    "    # hidden layer(fc2)를 하나 통과한 후 다시 784 node의 output layer 를 만든후 sigmoid function 을 통과시켜준다.\n",
    "\n",
    "    def decode(self, z):\n",
    "        h2 = F.relu(self.fc2(z))\n",
    "        output  = torch.sigmoid(self.fc3(h2))  # 0~1로 만들어놨으니깐.\n",
    "\n",
    "        return output\n",
    "\n",
    "        # Code\n",
    "\n",
    "    # ===================================================================================================================== #\n",
    "\n",
    "    # ===== 4 ============================================================================================================== #\n",
    "    # 위에서부터 정의한 method 들을 이용해 하나의 network 생성\n",
    "    # forward() 메소드는 model 오브젝트를 데이터와 함께 호출하면 자동으로 실행\n",
    "\n",
    "    def forward(self, x):\n",
    "        mu, logvar = self.encode(x)\n",
    "        z = self.reparameterize(mu, logvar)\n",
    "        output = self.decode(z)\n",
    "\n",
    "     # Code\n",
    "    # loss 구하는데 써야되서, mu와 logvar도 같이 리턴\n",
    "        return output, mu, logvar\n",
    "\n",
    "    # ======"
   ]
  },
  {
   "cell_type": "code",
   "execution_count": 33,
   "metadata": {},
   "outputs": [],
   "source": [
    "model = VAE().to(device)"
   ]
  },
  {
   "cell_type": "code",
   "execution_count": 34,
   "metadata": {},
   "outputs": [
    {
     "data": {
      "text/plain": [
       "VAE(\n",
       "  (fc1): Linear(in_features=784, out_features=400, bias=True)\n",
       "  (mu): Linear(in_features=400, out_features=2, bias=True)\n",
       "  (logvar): Linear(in_features=400, out_features=2, bias=True)\n",
       "  (fc2): Linear(in_features=2, out_features=400, bias=True)\n",
       "  (fc3): Linear(in_features=400, out_features=784, bias=True)\n",
       ")"
      ]
     },
     "execution_count": 34,
     "metadata": {},
     "output_type": "execute_result"
    }
   ],
   "source": [
    "model"
   ]
  },
  {
   "cell_type": "markdown",
   "metadata": {},
   "source": [
    "### Loss Function"
   ]
  },
  {
   "cell_type": "markdown",
   "metadata": {},
   "source": [
    "Image data => Berouli 분포를 선호함. 실제 데이터는 완전한 0과 1은 아니지만, 그렇게 쓴다.<br>\n",
    "Color Image Data는 0과 1사이가 채널이 3개일 뿐. <br>"
   ]
  },
  {
   "cell_type": "markdown",
   "metadata": {},
   "source": [
    "BCE Loss를 쓰면 같은 식. "
   ]
  },
  {
   "cell_type": "code",
   "execution_count": 38,
   "metadata": {},
   "outputs": [],
   "source": [
    "def loss_function(recon_x, x, mu, logvar):\n",
    "    Bernouhlli_loss = F.binary_cross_entropy(recon_x, x.reshape(-1, 784), reduction='sum')\n",
    "    KL_divergence = -0.5*torch.sum(1+logvar - mu.pow(2) - logvar.exp())    \n",
    "    return Bernouhlli_loss + KL_divergence"
   ]
  },
  {
   "cell_type": "markdown",
   "metadata": {},
   "source": [
    "### Parameters and Optimizer"
   ]
  },
  {
   "cell_type": "code",
   "execution_count": 41,
   "metadata": {},
   "outputs": [],
   "source": [
    "epoch = 10\n",
    "learning_rate = 1e-3\n",
    "optimizer = torch.optim.Adam(model.parameters(), lr=learning_rate, weight_decay=1e-5)"
   ]
  },
  {
   "cell_type": "markdown",
   "metadata": {},
   "source": [
    "### Train VAE Model"
   ]
  },
  {
   "cell_type": "code",
   "execution_count": 42,
   "metadata": {},
   "outputs": [
    {
     "name": "stdout",
     "output_type": "stream",
     "text": [
      "Epoch = 10 loss = 38727.680365\n"
     ]
    }
   ],
   "source": [
    "for num_epoch in range(epoch):\n",
    "    avg_loss = 0\n",
    "    \n",
    "    for batch_idx, image in enumerate(train_loader):\n",
    "        num_of_mini_batch = len(train_loader) # 235 가 나올것이다 60000/256 = 234.xx => 235\n",
    "        \n",
    "        input_x = image.reshape(-1, 784).to(device)  \n",
    "        \n",
    "        optimizer.zero_grad()\n",
    "        \n",
    "        recon_x, mu, logvar = model(input_x)\n",
    "        \n",
    "        loss = loss_function(recon_x, input_x, mu, logvar)\n",
    "        loss.backward()\n",
    "\n",
    "        optimizer.step()\n",
    "        \n",
    "        avg_loss += (loss.item()/num_of_mini_batch)\n",
    "        \n",
    "    if (num_epoch+1) % 10 == 0:\n",
    "        print(\"Epoch = {} loss = {:.6f}\".format(num_epoch+1, avg_loss))"
   ]
  },
  {
   "cell_type": "markdown",
   "metadata": {},
   "source": [
    "### Save model"
   ]
  },
  {
   "cell_type": "code",
   "execution_count": 43,
   "metadata": {},
   "outputs": [],
   "source": [
    "torch.save(model.state_dict(), './pickle/day06_06_VAE_Basic_MNIST_hidden_2.pth')"
   ]
  },
  {
   "cell_type": "markdown",
   "metadata": {},
   "source": [
    "### Load model"
   ]
  },
  {
   "cell_type": "code",
   "execution_count": 44,
   "metadata": {},
   "outputs": [],
   "source": [
    "model = VAE().to(device)"
   ]
  },
  {
   "cell_type": "code",
   "execution_count": 45,
   "metadata": {},
   "outputs": [
    {
     "data": {
      "text/plain": [
       "<All keys matched successfully>"
      ]
     },
     "execution_count": 45,
     "metadata": {},
     "output_type": "execute_result"
    }
   ],
   "source": [
    "model.load_state_dict(torch.load('./pickle/day06_06_VAE_Basic_MNIST_hidden_2.pth', map_location=device))"
   ]
  },
  {
   "cell_type": "markdown",
   "metadata": {},
   "source": [
    "### Test Images"
   ]
  },
  {
   "cell_type": "code",
   "execution_count": 46,
   "metadata": {},
   "outputs": [],
   "source": [
    "for batch_idx, image in enumerate(test_loader):\n",
    "    with torch.no_grad():\n",
    "        test_img = image.to(device)\n",
    "        \n",
    "        test_recon_x, _, _ = model(test_img)"
   ]
  },
  {
   "cell_type": "code",
   "execution_count": 52,
   "metadata": {},
   "outputs": [
    {
     "data": {
      "image/png": "[encoded data removed]",
      "text/plain": [
       "<Figure size 1440x360 with 20 Axes>"
      ]
     },
     "metadata": {
      "image/png": {
       "height": 276,
       "width": 1152
      }
     },
     "output_type": "display_data"
    }
   ],
   "source": [
    "n = 10  # 몇개를 보일것인가\n",
    "plt.figure(figsize=(20, 5)) # 전체 figure'들'의 총 행, 열의 크기)\n",
    "\n",
    "for i in range(n):\n",
    "    ax = plt.subplot(2, 10, i+1)\n",
    "    image = test_img[i*100].reshape(28, 28)\n",
    "    plt.imshow(image.cpu(), cmap=\"gray\")\n",
    "    \n",
    "    ax.get_xaxis().set_visible(False)\n",
    "    ax.get_yaxis().set_visible(False)\n",
    "    # ===============================================\n",
    "    ax = plt.subplot(2, 10, i+1+n)\n",
    "    recon_image= test_recon_x.data[i*10].cpu().reshape(28, 28)\n",
    "    plt.imshow(recon_image.cpu(), cmap=\"gray\")"
   ]
  },
  {
   "cell_type": "markdown",
   "metadata": {},
   "source": [
    "잘못된것도 많네. "
   ]
  },
  {
   "cell_type": "markdown",
   "metadata": {},
   "source": [
    "### Generate New Images"
   ]
  },
  {
   "cell_type": "markdown",
   "metadata": {},
   "source": [
    "실제로도, VAE는 잘 훈련된 디코더만 있으면, Z만 가지고 이미지를 만들 수 있다."
   ]
  },
  {
   "cell_type": "code",
   "execution_count": 50,
   "metadata": {},
   "outputs": [],
   "source": [
    "for i in range(10):\n",
    "    with torch.no_grad():\n",
    "        sample_z = torch.randn(64,2).to(device)\n",
    "        input_z = sample_z\n",
    "        sample = model.decode(input_z).cpu()\n",
    "        save_image(sample.reshape(64, 1, 28, 28),\n",
    "                   './data/new_images/Basic_VAE_img_' + str(i) + str('_hidden2')+ '.png')"
   ]
  },
  {
   "cell_type": "code",
   "execution_count": null,
   "metadata": {},
   "outputs": [],
   "source": []
  },
  {
   "cell_type": "code",
   "execution_count": null,
   "metadata": {},
   "outputs": [],
   "source": []
  },
  {
   "cell_type": "code",
   "execution_count": null,
   "metadata": {},
   "outputs": [],
   "source": []
  },
  {
   "cell_type": "markdown",
   "metadata": {},
   "source": [
    "배울때는, VAE의 디코더는 Mu와 sigma를 만들고, 그걸 가지고 샘플링해서 new image를 만든다고 배웠잖아. <br>\n",
    "\n",
    "그런데, 위에 코드에서는 다르네? <br>\n",
    "output을 가지고 그대로 이미지를 그렸어. output으로 확률분포를 만들어서 샘플링 한것이 아니라, 그대로 이미지를 그렸음. <br>\n",
    "확률을 통하지 않았음. <br>\n",
    "\n",
    "Encoder는 Stoachastic, Decoder는 Deterministic하게 만들었음. <br>\n",
    "\n",
    "실제로도, Practical하게는 Encoder는 Stochastic하게 하지만, Decoder는 Deterministic하게 쓴다. 그대로 그림 그린다. 보통. "
   ]
  },
  {
   "cell_type": "code",
   "execution_count": null,
   "metadata": {},
   "outputs": [],
   "source": []
  }
 ],
 "metadata": {
  "kernelspec": {
   "display_name": "Python 3",
   "language": "python",
   "name": "python3"
  },
  "language_info": {
   "codemirror_mode": {
    "name": "ipython",
    "version": 3
   },
   "file_extension": ".py",
   "mimetype": "text/x-python",
   "name": "python",
   "nbconvert_exporter": "python",
   "pygments_lexer": "ipython3",
   "version": "3.8.5"
  }
 },
 "nbformat": 4,
 "nbformat_minor": 4
}
