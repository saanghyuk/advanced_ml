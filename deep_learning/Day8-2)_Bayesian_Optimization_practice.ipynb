{
 "cells": [
  {
   "cell_type": "markdown",
   "metadata": {},
   "source": [
    "# Deep Learning with Bayesian Opt"
   ]
  },
  {
   "cell_type": "markdown",
   "metadata": {},
   "source": [
    "#### 사전설치 해야할 패키지  \n",
    "pip install bayesian-optimization  \n",
    "pip install python-mnist==0.5"
   ]
  },
  {
   "cell_type": "code",
   "execution_count": 3,
   "metadata": {},
   "outputs": [],
   "source": [
    "# warning message 제거\n",
    "import warnings\n",
    "warnings.filterwarnings(action='ignore')"
   ]
  },
  {
   "cell_type": "code",
   "execution_count": 4,
   "metadata": {},
   "outputs": [],
   "source": [
    "import numpy as np\n",
    "import torch\n",
    "import torch.nn as nn\n",
    "import torch.optim as optim\n",
    "from torch.nn import functional as F\n",
    "import random"
   ]
  },
  {
   "cell_type": "code",
   "execution_count": 5,
   "metadata": {},
   "outputs": [],
   "source": [
    "from mnist import MNIST\n",
    "import torch.utils.data as data_utils\n",
    "from torch.utils.data import DataLoader\n",
    "\n",
    "# loss 값 ploting 을 위해 사용\n",
    "import matplotlib.pyplot as plt"
   ]
  },
  {
   "cell_type": "markdown",
   "metadata": {},
   "source": [
    "Check GPU setting"
   ]
  },
  {
   "cell_type": "code",
   "execution_count": 16,
   "metadata": {},
   "outputs": [
    {
     "name": "stdout",
     "output_type": "stream",
     "text": [
      "cpu\n"
     ]
    }
   ],
   "source": [
    "device = 'cuda' if torch.cuda.is_available() else 'cpu'\n",
    "print(device)\n",
    "\n",
    "random.seed(777)\n",
    "torch.manual_seed(777)\n",
    "if device == 'cuda':\n",
    "    torch.cuda.manual_seed_all(777)"
   ]
  },
  {
   "cell_type": "markdown",
   "metadata": {},
   "source": [
    "### Load Dataset and preprocessing"
   ]
  },
  {
   "cell_type": "code",
   "execution_count": 17,
   "metadata": {
    "scrolled": true
   },
   "outputs": [
    {
     "name": "stdout",
     "output_type": "stream",
     "text": [
      "x_train 의 shape=(60000, 784), y_train 의 shape=(60000,)\n",
      "x_test 의 shape=(10000, 784), y_test 의 shape=(10000,)\n"
     ]
    }
   ],
   "source": [
    "mnist = MNIST('./data/MNIST/raw')\n",
    "x_train, y_train = mnist.load_training()\n",
    "x_test, y_test = mnist.load_testing()\n",
    "\n",
    "# data 는 list 형식을 되어 있으므로 shape 을 보고, 이미지 visualization 을 하기 편한 array 형태로 바꾸어준다.\n",
    "\n",
    "x_train=np.asarray(x_train)\n",
    "y_train=np.asarray(y_train)\n",
    "x_test=np.asarray(x_test)\n",
    "y_test=np.asarray(y_test)\n",
    "\n",
    "print(\"x_train 의 shape={}, y_train 의 shape={}\".format(x_train.shape,y_train.shape))\n",
    "print(\"x_test 의 shape={}, y_test 의 shape={}\".format(x_test.shape,y_test.shape))"
   ]
  },
  {
   "cell_type": "markdown",
   "metadata": {},
   "source": [
    "### Convert dataset into Tensor"
   ]
  },
  {
   "cell_type": "code",
   "execution_count": 18,
   "metadata": {},
   "outputs": [],
   "source": [
    "batch_size = 1000\n",
    "traindata = data_utils.TensorDataset(torch.FloatTensor(x_train), torch.FloatTensor(y_train))\n",
    "trainloader = data_utils.DataLoader(traindata, batch_size = 1000, shuffle = True, drop_last = False)\n",
    "\n",
    "test_data = data_utils.TensorDataset(torch.FloatTensor(x_test), torch.FloatTensor(y_test))\n",
    "testloader = data_utils.DataLoader(test_data, batch_size=5000, shuffle = False)"
   ]
  },
  {
   "cell_type": "markdown",
   "metadata": {},
   "source": [
    "### Make Batch_Norm_Class"
   ]
  },
  {
   "cell_type": "code",
   "execution_count": 19,
   "metadata": {},
   "outputs": [],
   "source": [
    "class Batch_Norm(nn.Module):\n",
    "    def __init__(self):\n",
    "        super(Batch_Norm, self).__init__()\n",
    "\n",
    "        self.network = nn.Sequential(nn.Linear(784,256),\n",
    "                                     nn.BatchNorm1d(256),\n",
    "                                     nn.ReLU(),\n",
    "                                     nn.Linear(256,64),\n",
    "                                     nn.BatchNorm1d(64),\n",
    "                                     nn.ReLU(),\n",
    "                                     nn.Linear(64,10))\n",
    "                                     \n",
    "    def forward(self, x):\n",
    "        output = self.network(x)\n",
    "        \n",
    "        return output\n",
    "    \n",
    "model = Batch_Norm()"
   ]
  },
  {
   "cell_type": "code",
   "execution_count": 20,
   "metadata": {},
   "outputs": [
    {
     "data": {
      "text/plain": [
       "Batch_Norm(\n",
       "  (network): Sequential(\n",
       "    (0): Linear(in_features=784, out_features=256, bias=True)\n",
       "    (1): BatchNorm1d(256, eps=1e-05, momentum=0.1, affine=True, track_running_stats=True)\n",
       "    (2): ReLU()\n",
       "    (3): Linear(in_features=256, out_features=64, bias=True)\n",
       "    (4): BatchNorm1d(64, eps=1e-05, momentum=0.1, affine=True, track_running_stats=True)\n",
       "    (5): ReLU()\n",
       "    (6): Linear(in_features=64, out_features=10, bias=True)\n",
       "  )\n",
       ")"
      ]
     },
     "execution_count": 20,
     "metadata": {},
     "output_type": "execute_result"
    }
   ],
   "source": [
    "model"
   ]
  },
  {
   "cell_type": "markdown",
   "metadata": {},
   "source": [
    "### Set parameters"
   ]
  },
  {
   "cell_type": "markdown",
   "metadata": {},
   "source": [
    "정해야 할 것. \n",
    "\n",
    "1. Object Function\n",
    "2. Object Function에 들어갈 hyper parameter\n",
    "3. Hyper Parameter의 범위\n",
    "4. 초기 GP Regression을 할 때, 몇개의 점을 기준으로 할지. "
   ]
  },
  {
   "cell_type": "code",
   "execution_count": 21,
   "metadata": {},
   "outputs": [],
   "source": [
    "epoch = 15\n",
    "learning_rate = 0.01\n",
    "weight_decay = 1e-5\n",
    "\n",
    "loss_function = torch.nn.CrossEntropyLoss()\n",
    "optimizer = torch.optim.Adam(model.parameters(), lr = learning_rate, weight_decay=weight_decay)"
   ]
  },
  {
   "cell_type": "markdown",
   "metadata": {},
   "source": [
    "## Object funtion define\n",
    "-Object function 정의내리고 최적화할 하이퍼파라미터를 인자값으로 넣어줍니다  \n",
    "-최적화 하이퍼파라미터 : Learning rate(lr) , L2 Regurization(wd) "
   ]
  },
  {
   "cell_type": "markdown",
   "metadata": {},
   "source": [
    "Object Function에는 그냥 Training하는 부분이 들어가면 된다. "
   ]
  },
  {
   "cell_type": "code",
   "execution_count": 22,
   "metadata": {},
   "outputs": [],
   "source": [
    "def train_acc(lr, wd):\n",
    "\n",
    "    loss_list = []\n",
    "\n",
    "    predict_list = []\n",
    "    real_list = []\n",
    "    epoch = 15\n",
    "    \n",
    "    learning_rate = lr\n",
    "    weight_decay = wd\n",
    "    \n",
    "    \n",
    "    correct = 0\n",
    "    \n",
    "    loss_function = torch.nn.CrossEntropyLoss()\n",
    "    optimizer = torch.optim.Adam(model.parameters(), lr = learning_rate, weight_decay=weight_decay)\n",
    "    \n",
    "    for num_epoch in range(epoch):\n",
    "        model.train()\n",
    "        average_loss = 0\n",
    "\n",
    "        for batch_idx, (image, label) in enumerate(trainloader):\n",
    "            data_len = len(trainloader)\n",
    "\n",
    "            x_Data = image\n",
    "\n",
    "            optimizer.zero_grad()\n",
    "\n",
    "            y_predict = model.forward(x_Data)\n",
    "\n",
    "            predict_sftmax = torch.nn.functional.softmax(y_predict)\n",
    "            predict_label = torch.argmax(predict_sftmax, dim=1)\n",
    "\n",
    "            y_label_long = torch.tensor(label, dtype=torch.long)\n",
    "            y_label_long = y_label_long\n",
    "\n",
    "            loss = loss_function(y_predict, y_label_long)\n",
    "\n",
    "            loss.backward()\n",
    "\n",
    "            optimizer.step()\n",
    "\n",
    "            loss_list.append(loss)\n",
    "\n",
    "            predict_list.append(predict_label.cpu().numpy())\n",
    "            real_list.append(y_label_long.cpu().numpy())\n",
    "\n",
    "            average_loss += (loss.item()/data_len)\n",
    "\n",
    "\n",
    "\n",
    "    correct = 0\n",
    "\n",
    "    for i in range(len(real_list)):\n",
    "        for j in range(len(real_list[1])):\n",
    "            answer = (predict_list[i][j] == real_list[i][j])\n",
    "            if answer == True:\n",
    "                correct += 1\n",
    "            else:\n",
    "                continue\n",
    "\n",
    "    total_len = len(real_list) * len(real_list[1])\n",
    "    acc=(correct/total_len) * 100\n",
    "\n",
    "    return acc"
   ]
  },
  {
   "cell_type": "markdown",
   "metadata": {},
   "source": [
    "# Bayesian optimization"
   ]
  },
  {
   "cell_type": "markdown",
   "metadata": {},
   "source": [
    "-Bayesian optimizer를 이용해서 최적의 learning rate, L2 Hyperparameter 찾기"
   ]
  },
  {
   "cell_type": "code",
   "execution_count": 23,
   "metadata": {},
   "outputs": [],
   "source": [
    "from bayes_opt import BayesianOptimization"
   ]
  },
  {
   "cell_type": "code",
   "execution_count": null,
   "metadata": {
    "scrolled": true
   },
   "outputs": [
    {
     "name": "stdout",
     "output_type": "stream",
     "text": [
      "|   iter    |  target   |    lr     |    wd     |\n",
      "-------------------------------------------------\n",
      "| \u001b[0m 1       \u001b[0m | \u001b[0m 10.53   \u001b[0m | \u001b[0m 0.2789  \u001b[0m | \u001b[0m 0.4744  \u001b[0m |\n",
      "| \u001b[95m 2       \u001b[0m | \u001b[95m 12.77   \u001b[0m | \u001b[95m 0.7969  \u001b[0m | \u001b[95m 0.1334  \u001b[0m |\n",
      "| \u001b[0m 3       \u001b[0m | \u001b[0m 10.24   \u001b[0m | \u001b[0m 0.2811  \u001b[0m | \u001b[0m 0.9414  \u001b[0m |\n",
      "| \u001b[0m 4       \u001b[0m | \u001b[0m 10.23   \u001b[0m | \u001b[0m 0.638   \u001b[0m | \u001b[0m 0.2682  \u001b[0m |\n",
      "| \u001b[95m 5       \u001b[0m | \u001b[95m 51.41   \u001b[0m | \u001b[95m 0.3242  \u001b[0m | \u001b[95m 0.04699 \u001b[0m |\n",
      "| \u001b[95m 6       \u001b[0m | \u001b[95m 97.63   \u001b[0m | \u001b[95m 0.2277  \u001b[0m | \u001b[95m 0.0     \u001b[0m |\n"
     ]
    }
   ],
   "source": [
    "\n",
    "pbounds = { 'lr' : (0, 1), 'wd': (0, 1)}  # 하이퍼파라미터 범위 설정\n",
    "optimizer = BayesianOptimization( f = train_acc, pbounds = pbounds )\n",
    "\n",
    "optimizer.maximize(init_points = 5, n_iter=15)  #n_iter 초기 point를 제외하고 시행할 횟수\n",
    "\n"
   ]
  },
  {
   "cell_type": "code",
   "execution_count": 20,
   "metadata": {
    "scrolled": true
   },
   "outputs": [
    {
     "name": "stdout",
     "output_type": "stream",
     "text": [
      "{'target': 97.63855555555556, 'params': {'lr': 0.27877435003825407, 'wd': 0.0}}\n"
     ]
    }
   ],
   "source": [
    "print( optimizer.max )"
   ]
  },
  {
   "cell_type": "code",
   "execution_count": 21,
   "metadata": {},
   "outputs": [
    {
     "name": "stdout",
     "output_type": "stream",
     "text": [
      "Iteration 0: \n",
      "\t{'target': 10.326444444444444, 'params': {'lr': 0.417022004702574, 'wd': 0.7203244934421581}}\n",
      "Iteration 1: \n",
      "\t{'target': 11.010555555555555, 'params': {'lr': 0.00011437481734488664, 'wd': 0.30233257263183977}}\n",
      "Iteration 2: \n",
      "\t{'target': 44.888111111111115, 'params': {'lr': 0.14675589081711304, 'wd': 0.0923385947687978}}\n",
      "Iteration 3: \n",
      "\t{'target': 10.480666666666668, 'params': {'lr': 0.1862602113776709, 'wd': 0.34556072704304774}}\n",
      "Iteration 4: \n",
      "\t{'target': 10.27511111111111, 'params': {'lr': 0.39676747423066994, 'wd': 0.538816734003357}}\n",
      "Iteration 5: \n",
      "\t{'target': 82.99166666666666, 'params': {'lr': 0.16109732777980845, 'wd': 0.0262953572626644}}\n",
      "Iteration 6: \n",
      "\t{'target': 10.449222222222222, 'params': {'lr': 0.8300019078873172, 'wd': 0.6601379171587518}}\n",
      "Iteration 7: \n",
      "\t{'target': 10.203555555555557, 'params': {'lr': 0.14930671317372957, 'wd': 0.6288117640027626}}\n",
      "Iteration 8: \n",
      "\t{'target': 83.465, 'params': {'lr': 0.2045609248379471, 'wd': 0.01446991701452161}}\n",
      "Iteration 9: \n",
      "\t{'target': 10.972666666666667, 'params': {'lr': 0.3956274121597614, 'wd': 0.1614581718546204}}\n",
      "Iteration 10: \n",
      "\t{'target': 10.946222222222222, 'params': {'lr': 0.058711553706236576, 'wd': 0.0}}\n",
      "Iteration 11: \n",
      "\t{'target': 53.33944444444444, 'params': {'lr': 0.2310701528188649, 'wd': 0.06352496747402803}}\n",
      "Iteration 12: \n",
      "\t{'target': 97.63855555555556, 'params': {'lr': 0.27877435003825407, 'wd': 0.0}}\n",
      "Iteration 13: \n",
      "\t{'target': 10.698333333333334, 'params': {'lr': 0.5532013112905607, 'wd': 0.7020481994531945}}\n",
      "Iteration 14: \n",
      "\t{'target': 10.405222222222223, 'params': {'lr': 0.14844484478316033, 'wd': 0.4066836824442297}}\n"
     ]
    }
   ],
   "source": [
    "for i, res in enumerate( optimizer.res ):\n",
    "    print(f'Iteration {i}: \\n\\t{res}')"
   ]
  },
  {
   "cell_type": "code",
   "execution_count": null,
   "metadata": {},
   "outputs": [],
   "source": []
  },
  {
   "cell_type": "markdown",
   "metadata": {},
   "source": [
    "Bayesian Optimization 패키지 https://github.com/fmfn/BayesianOptimization"
   ]
  }
 ],
 "metadata": {
  "kernelspec": {
   "display_name": "Python 3",
   "language": "python",
   "name": "python3"
  },
  "language_info": {
   "codemirror_mode": {
    "name": "ipython",
    "version": 3
   },
   "file_extension": ".py",
   "mimetype": "text/x-python",
   "name": "python",
   "nbconvert_exporter": "python",
   "pygments_lexer": "ipython3",
   "version": "3.8.5"
  }
 },
 "nbformat": 4,
 "nbformat_minor": 1
}
