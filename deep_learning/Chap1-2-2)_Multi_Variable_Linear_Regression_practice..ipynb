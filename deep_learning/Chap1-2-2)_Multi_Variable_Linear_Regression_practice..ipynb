{
 "cells": [
  {
   "cell_type": "markdown",
   "metadata": {},
   "source": [
    "# Linear Regression - Ⅱ\n",
    "-미국 보스턴 지역의 집값을 13개의 Feature를 이용하여 예측하는 모델을 만들어 보자"
   ]
  },
  {
   "cell_type": "code",
   "execution_count": 1,
   "metadata": {},
   "outputs": [],
   "source": [
    "import torch\n",
    "import torch.nn as nn\n",
    "import torch.functional as F\n",
    "from torch.utils.data import Dataset, DataLoader\n",
    "import torch.utils.data as data_utils\n",
    "\n",
    "\n",
    "import numpy as np\n",
    "import pandas as pd\n",
    "from sklearn.preprocessing import StandardScaler\n",
    "from sklearn.model_selection import train_test_split\n",
    "\n",
    "\n",
    "import matplotlib.pyplot as plt"
   ]
  },
  {
   "cell_type": "markdown",
   "metadata": {},
   "source": [
    "## [1] Data\n",
    "-Bostion Housing 데이터셋\n",
    "-보스턴 지역의 주변 환경에 대한 수치값과 집값 데이터\n",
    "- Sample수 : 506개\n",
    "- Feature : 14개 "
   ]
  },
  {
   "cell_type": "code",
   "execution_count": 4,
   "metadata": {},
   "outputs": [],
   "source": [
    "df_raw = pd.read_csv('./data/BostonHousing.csv') #csv(comma-separated values)파일 가져오기 "
   ]
  },
  {
   "cell_type": "code",
   "execution_count": 5,
   "metadata": {},
   "outputs": [
    {
     "name": "stdout",
     "output_type": "stream",
     "text": [
      "(506, 14)\n"
     ]
    },
    {
     "data": {
      "text/html": [
       "<div>\n",
       "<style scoped>\n",
       "    .dataframe tbody tr th:only-of-type {\n",
       "        vertical-align: middle;\n",
       "    }\n",
       "\n",
       "    .dataframe tbody tr th {\n",
       "        vertical-align: top;\n",
       "    }\n",
       "\n",
       "    .dataframe thead th {\n",
       "        text-align: right;\n",
       "    }\n",
       "</style>\n",
       "<table border=\"1\" class=\"dataframe\">\n",
       "  <thead>\n",
       "    <tr style=\"text-align: right;\">\n",
       "      <th></th>\n",
       "      <th>crim</th>\n",
       "      <th>zn</th>\n",
       "      <th>indus</th>\n",
       "      <th>chas</th>\n",
       "      <th>nox</th>\n",
       "      <th>rm</th>\n",
       "      <th>age</th>\n",
       "      <th>dis</th>\n",
       "      <th>rad</th>\n",
       "      <th>tax</th>\n",
       "      <th>ptratio</th>\n",
       "      <th>black</th>\n",
       "      <th>lstat</th>\n",
       "      <th>medv</th>\n",
       "    </tr>\n",
       "  </thead>\n",
       "  <tbody>\n",
       "    <tr>\n",
       "      <th>0</th>\n",
       "      <td>0.00632</td>\n",
       "      <td>18.0</td>\n",
       "      <td>2.31</td>\n",
       "      <td>0</td>\n",
       "      <td>0.538</td>\n",
       "      <td>6.575</td>\n",
       "      <td>65.2</td>\n",
       "      <td>4.0900</td>\n",
       "      <td>1</td>\n",
       "      <td>296</td>\n",
       "      <td>15.3</td>\n",
       "      <td>396.90</td>\n",
       "      <td>4.98</td>\n",
       "      <td>24.0</td>\n",
       "    </tr>\n",
       "    <tr>\n",
       "      <th>1</th>\n",
       "      <td>0.02731</td>\n",
       "      <td>0.0</td>\n",
       "      <td>7.07</td>\n",
       "      <td>0</td>\n",
       "      <td>0.469</td>\n",
       "      <td>6.421</td>\n",
       "      <td>78.9</td>\n",
       "      <td>4.9671</td>\n",
       "      <td>2</td>\n",
       "      <td>242</td>\n",
       "      <td>17.8</td>\n",
       "      <td>396.90</td>\n",
       "      <td>9.14</td>\n",
       "      <td>21.6</td>\n",
       "    </tr>\n",
       "    <tr>\n",
       "      <th>2</th>\n",
       "      <td>0.02729</td>\n",
       "      <td>0.0</td>\n",
       "      <td>7.07</td>\n",
       "      <td>0</td>\n",
       "      <td>0.469</td>\n",
       "      <td>7.185</td>\n",
       "      <td>61.1</td>\n",
       "      <td>4.9671</td>\n",
       "      <td>2</td>\n",
       "      <td>242</td>\n",
       "      <td>17.8</td>\n",
       "      <td>392.83</td>\n",
       "      <td>4.03</td>\n",
       "      <td>34.7</td>\n",
       "    </tr>\n",
       "    <tr>\n",
       "      <th>3</th>\n",
       "      <td>0.03237</td>\n",
       "      <td>0.0</td>\n",
       "      <td>2.18</td>\n",
       "      <td>0</td>\n",
       "      <td>0.458</td>\n",
       "      <td>6.998</td>\n",
       "      <td>45.8</td>\n",
       "      <td>6.0622</td>\n",
       "      <td>3</td>\n",
       "      <td>222</td>\n",
       "      <td>18.7</td>\n",
       "      <td>394.63</td>\n",
       "      <td>2.94</td>\n",
       "      <td>33.4</td>\n",
       "    </tr>\n",
       "    <tr>\n",
       "      <th>4</th>\n",
       "      <td>0.06905</td>\n",
       "      <td>0.0</td>\n",
       "      <td>2.18</td>\n",
       "      <td>0</td>\n",
       "      <td>0.458</td>\n",
       "      <td>7.147</td>\n",
       "      <td>54.2</td>\n",
       "      <td>6.0622</td>\n",
       "      <td>3</td>\n",
       "      <td>222</td>\n",
       "      <td>18.7</td>\n",
       "      <td>396.90</td>\n",
       "      <td>5.33</td>\n",
       "      <td>36.2</td>\n",
       "    </tr>\n",
       "    <tr>\n",
       "      <th>...</th>\n",
       "      <td>...</td>\n",
       "      <td>...</td>\n",
       "      <td>...</td>\n",
       "      <td>...</td>\n",
       "      <td>...</td>\n",
       "      <td>...</td>\n",
       "      <td>...</td>\n",
       "      <td>...</td>\n",
       "      <td>...</td>\n",
       "      <td>...</td>\n",
       "      <td>...</td>\n",
       "      <td>...</td>\n",
       "      <td>...</td>\n",
       "      <td>...</td>\n",
       "    </tr>\n",
       "    <tr>\n",
       "      <th>501</th>\n",
       "      <td>0.06263</td>\n",
       "      <td>0.0</td>\n",
       "      <td>11.93</td>\n",
       "      <td>0</td>\n",
       "      <td>0.573</td>\n",
       "      <td>6.593</td>\n",
       "      <td>69.1</td>\n",
       "      <td>2.4786</td>\n",
       "      <td>1</td>\n",
       "      <td>273</td>\n",
       "      <td>21.0</td>\n",
       "      <td>391.99</td>\n",
       "      <td>9.67</td>\n",
       "      <td>22.4</td>\n",
       "    </tr>\n",
       "    <tr>\n",
       "      <th>502</th>\n",
       "      <td>0.04527</td>\n",
       "      <td>0.0</td>\n",
       "      <td>11.93</td>\n",
       "      <td>0</td>\n",
       "      <td>0.573</td>\n",
       "      <td>6.120</td>\n",
       "      <td>76.7</td>\n",
       "      <td>2.2875</td>\n",
       "      <td>1</td>\n",
       "      <td>273</td>\n",
       "      <td>21.0</td>\n",
       "      <td>396.90</td>\n",
       "      <td>9.08</td>\n",
       "      <td>20.6</td>\n",
       "    </tr>\n",
       "    <tr>\n",
       "      <th>503</th>\n",
       "      <td>0.06076</td>\n",
       "      <td>0.0</td>\n",
       "      <td>11.93</td>\n",
       "      <td>0</td>\n",
       "      <td>0.573</td>\n",
       "      <td>6.976</td>\n",
       "      <td>91.0</td>\n",
       "      <td>2.1675</td>\n",
       "      <td>1</td>\n",
       "      <td>273</td>\n",
       "      <td>21.0</td>\n",
       "      <td>396.90</td>\n",
       "      <td>5.64</td>\n",
       "      <td>23.9</td>\n",
       "    </tr>\n",
       "    <tr>\n",
       "      <th>504</th>\n",
       "      <td>0.10959</td>\n",
       "      <td>0.0</td>\n",
       "      <td>11.93</td>\n",
       "      <td>0</td>\n",
       "      <td>0.573</td>\n",
       "      <td>6.794</td>\n",
       "      <td>89.3</td>\n",
       "      <td>2.3889</td>\n",
       "      <td>1</td>\n",
       "      <td>273</td>\n",
       "      <td>21.0</td>\n",
       "      <td>393.45</td>\n",
       "      <td>6.48</td>\n",
       "      <td>22.0</td>\n",
       "    </tr>\n",
       "    <tr>\n",
       "      <th>505</th>\n",
       "      <td>0.04741</td>\n",
       "      <td>0.0</td>\n",
       "      <td>11.93</td>\n",
       "      <td>0</td>\n",
       "      <td>0.573</td>\n",
       "      <td>6.030</td>\n",
       "      <td>80.8</td>\n",
       "      <td>2.5050</td>\n",
       "      <td>1</td>\n",
       "      <td>273</td>\n",
       "      <td>21.0</td>\n",
       "      <td>396.90</td>\n",
       "      <td>7.88</td>\n",
       "      <td>11.9</td>\n",
       "    </tr>\n",
       "  </tbody>\n",
       "</table>\n",
       "<p>506 rows × 14 columns</p>\n",
       "</div>"
      ],
      "text/plain": [
       "        crim    zn  indus  chas    nox     rm   age     dis  rad  tax  \\\n",
       "0    0.00632  18.0   2.31     0  0.538  6.575  65.2  4.0900    1  296   \n",
       "1    0.02731   0.0   7.07     0  0.469  6.421  78.9  4.9671    2  242   \n",
       "2    0.02729   0.0   7.07     0  0.469  7.185  61.1  4.9671    2  242   \n",
       "3    0.03237   0.0   2.18     0  0.458  6.998  45.8  6.0622    3  222   \n",
       "4    0.06905   0.0   2.18     0  0.458  7.147  54.2  6.0622    3  222   \n",
       "..       ...   ...    ...   ...    ...    ...   ...     ...  ...  ...   \n",
       "501  0.06263   0.0  11.93     0  0.573  6.593  69.1  2.4786    1  273   \n",
       "502  0.04527   0.0  11.93     0  0.573  6.120  76.7  2.2875    1  273   \n",
       "503  0.06076   0.0  11.93     0  0.573  6.976  91.0  2.1675    1  273   \n",
       "504  0.10959   0.0  11.93     0  0.573  6.794  89.3  2.3889    1  273   \n",
       "505  0.04741   0.0  11.93     0  0.573  6.030  80.8  2.5050    1  273   \n",
       "\n",
       "     ptratio   black  lstat  medv  \n",
       "0       15.3  396.90   4.98  24.0  \n",
       "1       17.8  396.90   9.14  21.6  \n",
       "2       17.8  392.83   4.03  34.7  \n",
       "3       18.7  394.63   2.94  33.4  \n",
       "4       18.7  396.90   5.33  36.2  \n",
       "..       ...     ...    ...   ...  \n",
       "501     21.0  391.99   9.67  22.4  \n",
       "502     21.0  396.90   9.08  20.6  \n",
       "503     21.0  396.90   5.64  23.9  \n",
       "504     21.0  393.45   6.48  22.0  \n",
       "505     21.0  396.90   7.88  11.9  \n",
       "\n",
       "[506 rows x 14 columns]"
      ]
     },
     "execution_count": 5,
     "metadata": {},
     "output_type": "execute_result"
    }
   ],
   "source": [
    "print(df_raw.shape) # Dataset의 크기 확인\n",
    "df_raw"
   ]
  },
  {
   "cell_type": "code",
   "execution_count": 6,
   "metadata": {},
   "outputs": [
    {
     "data": {
      "text/html": [
       "<div>\n",
       "<style scoped>\n",
       "    .dataframe tbody tr th:only-of-type {\n",
       "        vertical-align: middle;\n",
       "    }\n",
       "\n",
       "    .dataframe tbody tr th {\n",
       "        vertical-align: top;\n",
       "    }\n",
       "\n",
       "    .dataframe thead th {\n",
       "        text-align: right;\n",
       "    }\n",
       "</style>\n",
       "<table border=\"1\" class=\"dataframe\">\n",
       "  <thead>\n",
       "    <tr style=\"text-align: right;\">\n",
       "      <th></th>\n",
       "      <th>crim</th>\n",
       "      <th>zn</th>\n",
       "      <th>indus</th>\n",
       "      <th>chas</th>\n",
       "      <th>nox</th>\n",
       "      <th>rm</th>\n",
       "      <th>age</th>\n",
       "      <th>dis</th>\n",
       "      <th>rad</th>\n",
       "      <th>tax</th>\n",
       "      <th>ptratio</th>\n",
       "      <th>black</th>\n",
       "      <th>lstat</th>\n",
       "      <th>medv</th>\n",
       "    </tr>\n",
       "  </thead>\n",
       "  <tbody>\n",
       "    <tr>\n",
       "      <th>0</th>\n",
       "      <td>0.00632</td>\n",
       "      <td>18.0</td>\n",
       "      <td>2.31</td>\n",
       "      <td>0</td>\n",
       "      <td>0.538</td>\n",
       "      <td>6.575</td>\n",
       "      <td>65.2</td>\n",
       "      <td>4.0900</td>\n",
       "      <td>1</td>\n",
       "      <td>296</td>\n",
       "      <td>15.3</td>\n",
       "      <td>396.90</td>\n",
       "      <td>4.98</td>\n",
       "      <td>24.0</td>\n",
       "    </tr>\n",
       "    <tr>\n",
       "      <th>1</th>\n",
       "      <td>0.02731</td>\n",
       "      <td>0.0</td>\n",
       "      <td>7.07</td>\n",
       "      <td>0</td>\n",
       "      <td>0.469</td>\n",
       "      <td>6.421</td>\n",
       "      <td>78.9</td>\n",
       "      <td>4.9671</td>\n",
       "      <td>2</td>\n",
       "      <td>242</td>\n",
       "      <td>17.8</td>\n",
       "      <td>396.90</td>\n",
       "      <td>9.14</td>\n",
       "      <td>21.6</td>\n",
       "    </tr>\n",
       "    <tr>\n",
       "      <th>2</th>\n",
       "      <td>0.02729</td>\n",
       "      <td>0.0</td>\n",
       "      <td>7.07</td>\n",
       "      <td>0</td>\n",
       "      <td>0.469</td>\n",
       "      <td>7.185</td>\n",
       "      <td>61.1</td>\n",
       "      <td>4.9671</td>\n",
       "      <td>2</td>\n",
       "      <td>242</td>\n",
       "      <td>17.8</td>\n",
       "      <td>392.83</td>\n",
       "      <td>4.03</td>\n",
       "      <td>34.7</td>\n",
       "    </tr>\n",
       "    <tr>\n",
       "      <th>3</th>\n",
       "      <td>0.03237</td>\n",
       "      <td>0.0</td>\n",
       "      <td>2.18</td>\n",
       "      <td>0</td>\n",
       "      <td>0.458</td>\n",
       "      <td>6.998</td>\n",
       "      <td>45.8</td>\n",
       "      <td>6.0622</td>\n",
       "      <td>3</td>\n",
       "      <td>222</td>\n",
       "      <td>18.7</td>\n",
       "      <td>394.63</td>\n",
       "      <td>2.94</td>\n",
       "      <td>33.4</td>\n",
       "    </tr>\n",
       "    <tr>\n",
       "      <th>4</th>\n",
       "      <td>0.06905</td>\n",
       "      <td>0.0</td>\n",
       "      <td>2.18</td>\n",
       "      <td>0</td>\n",
       "      <td>0.458</td>\n",
       "      <td>7.147</td>\n",
       "      <td>54.2</td>\n",
       "      <td>6.0622</td>\n",
       "      <td>3</td>\n",
       "      <td>222</td>\n",
       "      <td>18.7</td>\n",
       "      <td>396.90</td>\n",
       "      <td>5.33</td>\n",
       "      <td>36.2</td>\n",
       "    </tr>\n",
       "  </tbody>\n",
       "</table>\n",
       "</div>"
      ],
      "text/plain": [
       "      crim    zn  indus  chas    nox     rm   age     dis  rad  tax  ptratio  \\\n",
       "0  0.00632  18.0   2.31     0  0.538  6.575  65.2  4.0900    1  296     15.3   \n",
       "1  0.02731   0.0   7.07     0  0.469  6.421  78.9  4.9671    2  242     17.8   \n",
       "2  0.02729   0.0   7.07     0  0.469  7.185  61.1  4.9671    2  242     17.8   \n",
       "3  0.03237   0.0   2.18     0  0.458  6.998  45.8  6.0622    3  222     18.7   \n",
       "4  0.06905   0.0   2.18     0  0.458  7.147  54.2  6.0622    3  222     18.7   \n",
       "\n",
       "    black  lstat  medv  \n",
       "0  396.90   4.98  24.0  \n",
       "1  396.90   9.14  21.6  \n",
       "2  392.83   4.03  34.7  \n",
       "3  394.63   2.94  33.4  \n",
       "4  396.90   5.33  36.2  "
      ]
     },
     "execution_count": 6,
     "metadata": {},
     "output_type": "execute_result"
    }
   ],
   "source": [
    "df_raw.head()"
   ]
  },
  {
   "cell_type": "code",
   "execution_count": 9,
   "metadata": {},
   "outputs": [
    {
     "name": "stdout",
     "output_type": "stream",
     "text": [
      "(506, 13)\n",
      "(506,)\n"
     ]
    }
   ],
   "source": [
    "# X값 coulumn\n",
    "x = df_raw.drop(\"medv\", axis=1)\n",
    "\n",
    "# y값 column\n",
    "y = df_raw[\"medv\"]\n",
    "\n",
    "print(x.shape)\n",
    "print(y.shape)"
   ]
  },
  {
   "cell_type": "code",
   "execution_count": 61,
   "metadata": {},
   "outputs": [
    {
     "name": "stdout",
     "output_type": "stream",
     "text": [
      "x_train의 크기:  (354, 13)\n",
      "y_train의 크기:  (354,) \n",
      "\n",
      "x_test의 크기:  (152, 13)\n",
      "y_test의 크기:  (152,)\n",
      "<class 'pandas.core.series.Series'>\n"
     ]
    }
   ],
   "source": [
    "#학습데이터와 테스트데이터를 일정비율로 나누기\n",
    "x_train, x_test, y_train, y_test = train_test_split(x, y, test_size = 0.3, random_state=1234)\n",
    "\n",
    "#학습 데이터\n",
    "print(\"x_train의 크기: \",x_train.shape)\n",
    "print(\"y_train의 크기: \",y_train.shape,'\\n')\n",
    "\n",
    "#테스트 데이터 \n",
    "print(\"x_test의 크기: \",x_test.shape)\n",
    "print(\"y_test의 크기: \",y_test.shape)\n",
    "print(type(y_train))"
   ]
  },
  {
   "cell_type": "code",
   "execution_count": 64,
   "metadata": {},
   "outputs": [],
   "source": [
    "#학습 데이터 Scaling\n",
    "scaler = StandardScaler()\n",
    "scaler.fit(x_train)\n",
    "x_train_scale = scaler.transform(x_train)   # x_train_scale은 numpy ndarray \n",
    "\n",
    "\n",
    "#테스트 데이터 Scaling\n",
    "x_test_scale = scaler.transform(x_test)    # x_test_scale은 numpy ndarray \n",
    "\n",
    "\n",
    "# Array-->Tensor\n",
    "x_train_tensor = torch.FloatTensor(x_train_scale)\n",
    "y_train_tensor = torch.FloatTensor(y_train.values) #판다스 Series이므로 values를 사용해서 numpy ndarray로 가져오기\n",
    "\n",
    "x_test_tensor = torch.FloatTensor(x_test_scale)\n",
    "y_test_tensor = torch.FloatTensor(y_test.values)\n"
   ]
  },
  {
   "cell_type": "code",
   "execution_count": 65,
   "metadata": {},
   "outputs": [
    {
     "data": {
      "text/plain": [
       "torch.Size([152, 13])"
      ]
     },
     "execution_count": 65,
     "metadata": {},
     "output_type": "execute_result"
    }
   ],
   "source": [
    "x_test_tensor.shape"
   ]
  },
  {
   "cell_type": "markdown",
   "metadata": {},
   "source": [
    "epoch단위로만 하면, 데이터 셋이 엄청 클때, 업데이트가 어렵다. <br>\n",
    "그러면, 배치를 나눠준다. 쪼개는 데이터셋을 나눠준다. <br>\n",
    "한 데이터 셋 내 미니배치의 갯수를 iteration이라고 부른다. <br>\n",
    "100개를 5등분으로 나누면, 20개가 batch size, iteration은 5"
   ]
  },
  {
   "cell_type": "markdown",
   "metadata": {},
   "source": [
    "`drop_last` 의 경우, 현재도 한 배치사이즈 100인데 데이터는 총 354개임. 54개가 남잖아. 그거 버릴래? 물어 보는 것. 아래서는 54개 남는것 버리겠다고 한 것. "
   ]
  },
  {
   "cell_type": "code",
   "execution_count": 66,
   "metadata": {},
   "outputs": [
    {
     "name": "stdout",
     "output_type": "stream",
     "text": [
      "0\n",
      "torch.Size([100, 13])\n",
      "torch.Size([100])\n",
      "1\n",
      "torch.Size([100, 13])\n",
      "torch.Size([100])\n",
      "2\n",
      "torch.Size([100, 13])\n",
      "torch.Size([100])\n"
     ]
    },
    {
     "data": {
      "text/plain": [
       "[tensor([[-3.9701e-01,  1.9529e+00, -1.1009e+00,  ..., -4.0228e-01,\n",
       "           3.6093e-01, -1.1397e+00],\n",
       "         [-3.9323e-01, -4.6448e-01, -8.9088e-01,  ...,  8.0221e-01,\n",
       "           4.5546e-01, -4.7360e-01],\n",
       "         [-3.7541e-01, -4.6448e-01,  2.4675e+00,  ...,  7.5588e-01,\n",
       "          -3.7518e-01,  2.4284e+00],\n",
       "         ...,\n",
       "         [-3.8884e-01, -4.6448e-01, -7.7620e-01,  ...,  3.3894e-01,\n",
       "           2.5074e-01, -1.7187e-01],\n",
       "         [-2.3682e-01, -4.6448e-01,  1.2523e+00,  ..., -1.7458e+00,\n",
       "           1.7942e-04, -8.8065e-01],\n",
       "         [-3.1974e-01,  4.1457e-01, -1.0726e+00,  ..., -2.5333e+00,\n",
       "           3.1139e-01, -6.8709e-01]]),\n",
       " tensor([31.2000, 18.7000,  8.1000, 21.1000, 21.2000, 11.8000, 19.1000, 17.7000,\n",
       "         17.2000, 17.4000, 25.2000, 21.4000, 13.1000, 19.3000, 11.5000, 22.2000,\n",
       "         37.9000, 22.0000, 28.6000, 23.8000, 25.1000, 15.3000,  8.5000, 17.8000,\n",
       "         24.5000, 16.3000, 25.0000, 14.4000, 17.5000, 18.4000, 17.0000,  7.0000,\n",
       "          9.6000, 29.4000, 17.4000, 23.0000, 27.5000, 30.8000, 19.4000, 23.9000,\n",
       "         22.0000, 14.6000, 14.5000, 22.1000, 15.6000, 23.1000, 15.7000, 19.5000,\n",
       "         14.9000, 12.7000, 43.8000, 33.2000, 50.0000, 33.8000, 21.8000, 35.2000,\n",
       "         14.5000, 19.9000, 28.7000, 24.4000, 23.7000, 29.0000, 21.4000, 16.8000,\n",
       "         17.4000, 24.6000, 19.4000, 32.2000, 24.5000, 26.4000, 20.3000, 32.5000,\n",
       "         24.1000, 28.0000, 19.1000, 34.7000, 12.7000, 32.4000, 34.9000, 20.2000,\n",
       "         22.8000, 31.5000, 23.3000, 19.9000, 24.8000, 17.5000, 43.1000, 20.2000,\n",
       "         21.2000, 23.7000, 12.8000, 23.6000, 48.3000, 23.8000, 50.0000, 24.6000,\n",
       "         24.0000, 20.0000, 24.3000, 36.0000])]"
      ]
     },
     "execution_count": 66,
     "metadata": {},
     "output_type": "execute_result"
    }
   ],
   "source": [
    "#학습 데이터 배치화 시키기 \n",
    "train_data =  data_utils.TensorDataset(x_train_tensor, y_train_tensor)\n",
    "\n",
    "dataloader =  data_utils.DataLoader(train_data, batch_size = 100, shuffle=True, drop_last = True)\n",
    "\n",
    "\n",
    "#배치화된 데이터 확인\n",
    "for batch_idx, datas in enumerate(dataloader):\n",
    "    \n",
    "    print(batch_idx) # 몇번째냐?\n",
    "    print(datas[0].shape)  # x_train \n",
    "    print(datas[1].shape) # y_train\n",
    "#    break\n",
    "\n",
    "\n",
    "datas # 호출할 때 마다 달라지네, shuffle. "
   ]
  },
  {
   "cell_type": "code",
   "execution_count": 48,
   "metadata": {},
   "outputs": [
    {
     "data": {
      "text/plain": [
       "torch.Size([100])"
      ]
     },
     "execution_count": 48,
     "metadata": {},
     "output_type": "execute_result"
    }
   ],
   "source": [
    "datas[1].shape"
   ]
  },
  {
   "cell_type": "markdown",
   "metadata": {},
   "source": [
    "## [2] Model"
   ]
  },
  {
   "cell_type": "code",
   "execution_count": 106,
   "metadata": {},
   "outputs": [],
   "source": [
    "#Parameter 정의\n",
    "input_size = 13\n",
    "output_size = 1\n",
    "learning_rate = 0.01\n",
    "n_epochs = 100"
   ]
  },
  {
   "cell_type": "code",
   "execution_count": 107,
   "metadata": {},
   "outputs": [],
   "source": [
    "#model 생성\n",
    "model = torch.nn.Linear(input_size, output_size)"
   ]
  },
  {
   "cell_type": "code",
   "execution_count": 108,
   "metadata": {},
   "outputs": [],
   "source": [
    "#손실함수 생성\n",
    "criterion = torch.nn.MSELoss()\n",
    "#Optimizer 생성\n",
    "optimizer = torch.optim.SGD(model.parameters(), lr=learning_rate)"
   ]
  },
  {
   "cell_type": "markdown",
   "metadata": {},
   "source": [
    "## [3]Training"
   ]
  },
  {
   "cell_type": "code",
   "execution_count": 109,
   "metadata": {},
   "outputs": [
    {
     "data": {
      "text/plain": [
       "torch.Size([152, 13])"
      ]
     },
     "execution_count": 109,
     "metadata": {},
     "output_type": "execute_result"
    }
   ],
   "source": [
    "x_test_tensor.shape"
   ]
  },
  {
   "cell_type": "code",
   "execution_count": 110,
   "metadata": {},
   "outputs": [
    {
     "data": {
      "text/plain": [
       "(torch.Size([152]), torch.Size([152]))"
      ]
     },
     "execution_count": 110,
     "metadata": {},
     "output_type": "execute_result"
    }
   ],
   "source": [
    "y_test_pred.shape, y_test_tensor.shape"
   ]
  },
  {
   "cell_type": "code",
   "execution_count": 111,
   "metadata": {},
   "outputs": [
    {
     "name": "stdout",
     "output_type": "stream",
     "text": [
      "epoch:0, Loss_train:505.32, Loss_test:512.28\n",
      "epoch:1, Loss_train:442.26, Loss_test:450.16\n",
      "epoch:2, Loss_train:480.49, Loss_test:396.62\n",
      "epoch:3, Loss_train:368.62, Loss_test:351.94\n",
      "epoch:4, Loss_train:286.17, Loss_test:313.67\n",
      "epoch:5, Loss_train:274.68, Loss_test:279.31\n",
      "epoch:6, Loss_train:250.21, Loss_test:251.08\n",
      "epoch:7, Loss_train:223.91, Loss_test:225.05\n",
      "epoch:8, Loss_train:207.86, Loss_test:201.61\n",
      "epoch:9, Loss_train:210.97, Loss_test:180.32\n",
      "epoch:10, Loss_train:137.69, Loss_test:162.68\n",
      "epoch:11, Loss_train:119.04, Loss_test:146.90\n",
      "epoch:12, Loss_train:143.90, Loss_test:132.62\n",
      "epoch:13, Loss_train:118.00, Loss_test:119.78\n",
      "epoch:14, Loss_train:111.98, Loss_test:108.73\n",
      "epoch:15, Loss_train:100.51, Loss_test:98.43\n",
      "epoch:16, Loss_train:88.72, Loss_test:89.67\n",
      "epoch:17, Loss_train:105.87, Loss_test:81.96\n",
      "epoch:18, Loss_train:67.75, Loss_test:74.81\n",
      "epoch:19, Loss_train:100.85, Loss_test:68.80\n",
      "epoch:20, Loss_train:61.56, Loss_test:63.33\n",
      "epoch:21, Loss_train:52.86, Loss_test:58.40\n",
      "epoch:22, Loss_train:49.65, Loss_test:54.17\n",
      "epoch:23, Loss_train:43.93, Loss_test:50.46\n",
      "epoch:24, Loss_train:41.06, Loss_test:47.02\n",
      "epoch:25, Loss_train:62.46, Loss_test:44.08\n",
      "epoch:26, Loss_train:50.46, Loss_test:41.49\n",
      "epoch:27, Loss_train:27.36, Loss_test:39.10\n",
      "epoch:28, Loss_train:40.19, Loss_test:37.14\n",
      "epoch:29, Loss_train:33.21, Loss_test:35.53\n",
      "epoch:30, Loss_train:35.38, Loss_test:33.98\n",
      "epoch:31, Loss_train:28.52, Loss_test:32.59\n",
      "epoch:32, Loss_train:27.59, Loss_test:31.42\n",
      "epoch:33, Loss_train:31.10, Loss_test:30.31\n",
      "epoch:34, Loss_train:46.30, Loss_test:29.31\n",
      "epoch:35, Loss_train:25.76, Loss_test:28.49\n",
      "epoch:36, Loss_train:36.24, Loss_test:27.68\n",
      "epoch:37, Loss_train:33.95, Loss_test:26.94\n",
      "epoch:38, Loss_train:25.28, Loss_test:26.24\n",
      "epoch:39, Loss_train:27.98, Loss_test:25.73\n",
      "epoch:40, Loss_train:22.48, Loss_test:25.37\n",
      "epoch:41, Loss_train:25.07, Loss_test:24.99\n",
      "epoch:42, Loss_train:29.59, Loss_test:24.69\n",
      "epoch:43, Loss_train:29.11, Loss_test:24.28\n",
      "epoch:44, Loss_train:33.34, Loss_test:23.94\n",
      "epoch:45, Loss_train:35.81, Loss_test:23.65\n",
      "epoch:46, Loss_train:20.86, Loss_test:23.37\n",
      "epoch:47, Loss_train:32.76, Loss_test:23.22\n",
      "epoch:48, Loss_train:28.33, Loss_test:23.01\n",
      "epoch:49, Loss_train:22.65, Loss_test:22.92\n",
      "epoch:50, Loss_train:38.04, Loss_test:22.75\n",
      "epoch:51, Loss_train:19.19, Loss_test:22.60\n",
      "epoch:52, Loss_train:10.69, Loss_test:22.51\n",
      "epoch:53, Loss_train:14.26, Loss_test:22.40\n",
      "epoch:54, Loss_train:22.36, Loss_test:22.36\n",
      "epoch:55, Loss_train:37.70, Loss_test:22.28\n",
      "epoch:56, Loss_train:11.01, Loss_test:22.26\n",
      "epoch:57, Loss_train:22.90, Loss_test:22.14\n",
      "epoch:58, Loss_train:28.70, Loss_test:22.13\n",
      "epoch:59, Loss_train:28.64, Loss_test:22.10\n",
      "epoch:60, Loss_train:29.15, Loss_test:22.05\n",
      "epoch:61, Loss_train:14.88, Loss_test:22.05\n",
      "epoch:62, Loss_train:21.08, Loss_test:21.93\n",
      "epoch:63, Loss_train:27.03, Loss_test:21.85\n",
      "epoch:64, Loss_train:19.43, Loss_test:21.89\n",
      "epoch:65, Loss_train:21.40, Loss_test:21.82\n",
      "epoch:66, Loss_train:24.40, Loss_test:21.83\n",
      "epoch:67, Loss_train:37.69, Loss_test:21.80\n",
      "epoch:68, Loss_train:24.74, Loss_test:21.84\n",
      "epoch:69, Loss_train:31.60, Loss_test:21.78\n",
      "epoch:70, Loss_train:22.99, Loss_test:21.77\n",
      "epoch:71, Loss_train:22.95, Loss_test:21.75\n",
      "epoch:72, Loss_train:24.29, Loss_test:21.70\n",
      "epoch:73, Loss_train:30.53, Loss_test:21.78\n",
      "epoch:74, Loss_train:29.57, Loss_test:21.76\n",
      "epoch:75, Loss_train:13.90, Loss_test:21.77\n",
      "epoch:76, Loss_train:15.98, Loss_test:21.67\n",
      "epoch:77, Loss_train:19.08, Loss_test:21.70\n",
      "epoch:78, Loss_train:26.18, Loss_test:21.73\n",
      "epoch:79, Loss_train:21.71, Loss_test:21.71\n",
      "epoch:80, Loss_train:21.70, Loss_test:21.73\n",
      "epoch:81, Loss_train:35.38, Loss_test:21.75\n",
      "epoch:82, Loss_train:24.01, Loss_test:21.72\n",
      "epoch:83, Loss_train:20.59, Loss_test:21.80\n",
      "epoch:84, Loss_train:32.24, Loss_test:21.79\n",
      "epoch:85, Loss_train:27.04, Loss_test:21.79\n",
      "epoch:86, Loss_train:25.19, Loss_test:21.82\n",
      "epoch:87, Loss_train:18.80, Loss_test:21.82\n",
      "epoch:88, Loss_train:15.93, Loss_test:21.82\n",
      "epoch:89, Loss_train:29.80, Loss_test:21.90\n",
      "epoch:90, Loss_train:18.57, Loss_test:21.92\n",
      "epoch:91, Loss_train:29.87, Loss_test:21.97\n",
      "epoch:92, Loss_train:18.07, Loss_test:22.01\n",
      "epoch:93, Loss_train:17.09, Loss_test:21.96\n",
      "epoch:94, Loss_train:13.27, Loss_test:21.89\n",
      "epoch:95, Loss_train:27.25, Loss_test:21.91\n",
      "epoch:96, Loss_train:15.76, Loss_test:21.88\n",
      "epoch:97, Loss_train:30.30, Loss_test:21.93\n",
      "epoch:98, Loss_train:29.65, Loss_test:22.05\n",
      "epoch:99, Loss_train:26.77, Loss_test:22.05\n",
      "epoch:100, Loss_train:23.76, Loss_test:22.09\n"
     ]
    }
   ],
   "source": [
    "## Running the model\n",
    "train_loss = []\n",
    "test_loss = []\n",
    "\n",
    "for epoch in range(n_epochs+1):\n",
    "    for idx, (x_batch, y_batch) in enumerate(dataloader):\n",
    "        \n",
    "        #Batch 학습\n",
    "        model.train()\n",
    "        optimizer.zero_grad()\n",
    "        \n",
    "        y_pred = model(x_batch)\n",
    "        # y_batch와 차원 맞춰 주기 위해 reshape\n",
    "        y_pred = y_pred.reshape(-1)\n",
    "        \n",
    "        loss_train = criterion(y_pred, y_batch)\n",
    "        \n",
    "        loss_train.backward()\n",
    "        optimizer.step()\n",
    "\n",
    "        \n",
    "        #Validation\n",
    "        model.eval()\n",
    "        y_test_pred = model(x_test_tensor)\n",
    "        y_test_pred = y_test_pred.reshape(-1)\n",
    "        loss_test = criterion(y_test_pred, y_test_tensor)\n",
    "        \n",
    "        \n",
    "        \n",
    "    # epoch 마다 맨 마지막 배치일때, loss를 담기게 해놨네\n",
    "    train_loss.append(loss_train.item())\n",
    "    test_loss.append(loss_test.item())\n",
    "    print(\"epoch:{}, Loss_train:{:.2f}, Loss_test:{:.2f}\".format( epoch, train_loss[-1], test_loss[-1]))"
   ]
  },
  {
   "cell_type": "code",
   "execution_count": 113,
   "metadata": {},
   "outputs": [
    {
     "data": {
      "image/png": "[encoded data removed]",
      "text/plain": [
       "<Figure size 432x288 with 1 Axes>"
      ]
     },
     "metadata": {
      "image/png": {
       "height": 266,
       "width": 377
      }
     },
     "output_type": "display_data"
    }
   ],
   "source": [
    "# Loss 값 plot\n",
    "\n",
    "plt.figure()\n",
    "plt.plot(train_loss, label='train')\n",
    "plt.plot(test_loss, label='test')\n",
    "plt.title('Model loss')\n",
    "plt.legend(loc= 'upper right')\n",
    "plt.show()\n"
   ]
  },
  {
   "cell_type": "code",
   "execution_count": 114,
   "metadata": {},
   "outputs": [
    {
     "name": "stdout",
     "output_type": "stream",
     "text": [
      "Parameter containing:\n",
      "tensor([[-0.4155,  0.9318, -0.6238,  0.7965, -1.4246,  2.2292, -0.0438, -2.6283,\n",
      "          1.1481, -0.4766, -2.0132,  0.9383, -3.8867]], requires_grad=True)\n",
      "Parameter containing:\n",
      "tensor([22.4329], requires_grad=True)\n"
     ]
    }
   ],
   "source": [
    "for i in model.parameters():\n",
    "    print(i)"
   ]
  },
  {
   "cell_type": "code",
   "execution_count": 115,
   "metadata": {},
   "outputs": [
    {
     "data": {
      "text/plain": [
       "OrderedDict([('weight',\n",
       "              tensor([[-0.4155,  0.9318, -0.6238,  0.7965, -1.4246,  2.2292, -0.0438, -2.6283,\n",
       "                        1.1481, -0.4766, -2.0132,  0.9383, -3.8867]])),\n",
       "             ('bias', tensor([22.4329]))])"
      ]
     },
     "execution_count": 115,
     "metadata": {},
     "output_type": "execute_result"
    }
   ],
   "source": [
    "model.state_dict()"
   ]
  },
  {
   "cell_type": "markdown",
   "metadata": {},
   "source": [
    "### <Scaling>"
   ]
  },
  {
   "cell_type": "markdown",
   "metadata": {},
   "source": [
    "### Tip) Scaling"
   ]
  },
  {
   "cell_type": "markdown",
   "metadata": {},
   "source": [
    "아래에서, o는 old, n은 new를 의미"
   ]
  },
  {
   "cell_type": "markdown",
   "metadata": {},
   "source": [
    "$$ x_in = \\frac{x_io - \\mu_i}{\\sigma_i} $$"
   ]
  },
  {
   "cell_type": "code",
   "execution_count": 13,
   "metadata": {},
   "outputs": [
    {
     "name": "stdout",
     "output_type": "stream",
     "text": [
      "(4, 2)\n",
      "[0.5 4. ]\n"
     ]
    },
    {
     "data": {
      "text/plain": [
       "2.25"
      ]
     },
     "execution_count": 13,
     "metadata": {},
     "output_type": "execute_result"
    }
   ],
   "source": [
    "import numpy as np\n",
    "from sklearn.preprocessing import StandardScaler\n",
    "\n",
    "data = [[0, 0], [0, 0], [1, 8], [1, 8]]\n",
    "\n",
    "scaler = StandardScaler()\n",
    "\n",
    "# fit을 하면, scaling에 필요한 평균/표준편차 등 계산\n",
    "scaler.fit(data)\n",
    "data_arr= np.array(data)\n",
    "\n",
    "print(data_arr.shape)\n",
    "print(np.mean(data_arr, axis= 0))\n",
    "data_arr.mean()"
   ]
  },
  {
   "cell_type": "code",
   "execution_count": 15,
   "metadata": {},
   "outputs": [
    {
     "data": {
      "text/plain": [
       "array([[-1., -1.],\n",
       "       [-1., -1.],\n",
       "       [ 1.,  1.],\n",
       "       [ 1.,  1.]])"
      ]
     },
     "execution_count": 15,
     "metadata": {},
     "output_type": "execute_result"
    }
   ],
   "source": [
    "data_arr_scaler=scaler.transform(data_arr)\n",
    "data_arr_scaler"
   ]
  },
  {
   "cell_type": "code",
   "execution_count": 16,
   "metadata": {},
   "outputs": [
    {
     "data": {
      "text/plain": [
       "array([[ 3. , -0.5]])"
      ]
     },
     "execution_count": 16,
     "metadata": {},
     "output_type": "execute_result"
    }
   ],
   "source": [
    "scaler.transform([[2, 2]])"
   ]
  },
  {
   "cell_type": "code",
   "execution_count": 17,
   "metadata": {},
   "outputs": [
    {
     "name": "stdout",
     "output_type": "stream",
     "text": [
      "[[-1. -1.]\n",
      " [-1. -1.]\n",
      " [ 1.  1.]\n",
      " [ 1.  1.]]\n"
     ]
    }
   ],
   "source": [
    "print(data_arr_scaler)"
   ]
  },
  {
   "cell_type": "code",
   "execution_count": 18,
   "metadata": {},
   "outputs": [
    {
     "data": {
      "text/plain": [
       "array([0., 0.])"
      ]
     },
     "execution_count": 18,
     "metadata": {},
     "output_type": "execute_result"
    }
   ],
   "source": [
    "np.mean(data_arr_scaler, axis=0)"
   ]
  },
  {
   "cell_type": "code",
   "execution_count": 19,
   "metadata": {},
   "outputs": [
    {
     "data": {
      "text/plain": [
       "0.0"
      ]
     },
     "execution_count": 19,
     "metadata": {},
     "output_type": "execute_result"
    }
   ],
   "source": [
    "data_arr_scaler.mean()"
   ]
  },
  {
   "cell_type": "code",
   "execution_count": 20,
   "metadata": {},
   "outputs": [
    {
     "data": {
      "text/plain": [
       "1.0"
      ]
     },
     "execution_count": 20,
     "metadata": {},
     "output_type": "execute_result"
    }
   ],
   "source": [
    "data_arr_scaler.std()"
   ]
  },
  {
   "cell_type": "code",
   "execution_count": null,
   "metadata": {},
   "outputs": [],
   "source": []
  }
 ],
 "metadata": {
  "kernelspec": {
   "display_name": "Python 3",
   "language": "python",
   "name": "python3"
  },
  "language_info": {
   "codemirror_mode": {
    "name": "ipython",
    "version": 3
   },
   "file_extension": ".py",
   "mimetype": "text/x-python",
   "name": "python",
   "nbconvert_exporter": "python",
   "pygments_lexer": "ipython3",
   "version": "3.8.5"
  }
 },
 "nbformat": 4,
 "nbformat_minor": 4
}
