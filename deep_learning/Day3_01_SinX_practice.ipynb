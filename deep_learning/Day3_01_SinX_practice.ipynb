{
 "cells": [
  {
   "cell_type": "markdown",
   "metadata": {},
   "source": [
    "### The sin(x) with pytorch"
   ]
  },
  {
   "cell_type": "code",
   "execution_count": 1,
   "metadata": {},
   "outputs": [],
   "source": [
    "import torch\n",
    "import torch.nn as nn\n",
    "\n",
    "import numpy as np\n",
    "\n",
    "from torch.nn import functional as F\n",
    "import torch.optim as optim\n",
    "\n",
    "from matplotlib import pyplot as plt"
   ]
  },
  {
   "cell_type": "markdown",
   "metadata": {},
   "source": [
    "#### -3.14 ~ 3.14 사이에 200개의 난수를 생성"
   ]
  },
  {
   "cell_type": "code",
   "execution_count": 2,
   "metadata": {
    "scrolled": true
   },
   "outputs": [
    {
     "name": "stdout",
     "output_type": "stream",
     "text": [
      "[[-3.14159265]\n",
      " [-3.11001886]\n",
      " [-3.07844506]\n",
      " [-3.04687127]\n",
      " [-3.01529747]\n",
      " [-2.98372368]\n",
      " [-2.95214988]\n",
      " [-2.92057608]\n",
      " [-2.88900229]\n",
      " [-2.85742849]]\n"
     ]
    }
   ],
   "source": [
    "# true data 생성\n",
    "# N is 200 for 140 train sample and 60 test sample로 나누어줄 예정\n",
    "N = 200\n",
    "\n",
    "x = np.linspace(-np.pi,np.pi,N).reshape(N,1)\n",
    "print(x[:10])"
   ]
  },
  {
   "cell_type": "markdown",
   "metadata": {},
   "source": [
    "#### x 값을 sin graph 에 대입하여 그에 맞는 y 값을 가져옴 (sin y 값)\n",
    "#### y 값에 가우시안 분포 난수를 + - 를 하여 noise 를 생성"
   ]
  },
  {
   "cell_type": "code",
   "execution_count": 3,
   "metadata": {},
   "outputs": [],
   "source": [
    "# x data 를 sin 그래프에 대입\n",
    "sin_y = np.sin(x)\n",
    "\n",
    "# add noise (가우시안 분포를 따르는 난수를 더하거나 뺀다)\n",
    "y = sin_y + 0.1*np.random.randn(N,1)"
   ]
  },
  {
   "cell_type": "markdown",
   "metadata": {},
   "source": [
    "#### 그래프를 그려서 noise 가 어떻게 생성되었는지 확인해보자"
   ]
  },
  {
   "cell_type": "code",
   "execution_count": 4,
   "metadata": {
    "scrolled": true
   },
   "outputs": [
    {
     "data": {
      "image/png": "[encoded data removed]",
      "text/plain": [
       "<Figure size 432x288 with 1 Axes>"
      ]
     },
     "metadata": {
      "needs_background": "light"
     },
     "output_type": "display_data"
    }
   ],
   "source": [
    "# show\n",
    "plt.figure()\n",
    "\n",
    "# sin 그래프\n",
    "plt.plot(x, sin_y, c='r')\n",
    "\n",
    "# scatter 가 아닌 plot 을 하면 그래프가 직선으로 이어진다\n",
    "plt.scatter(x,y)\n",
    "plt.show()"
   ]
  },
  {
   "cell_type": "markdown",
   "metadata": {},
   "source": [
    "#### 200개의 샘플을 이용해 feature 를 만들기로 하자"
   ]
  },
  {
   "cell_type": "code",
   "execution_count": 5,
   "metadata": {},
   "outputs": [],
   "source": [
    "# ^1~^4까지 만들도록 한다\n",
    "n_feature = 5 # for loop 은 마지막은 포함하지 않으므로 5로 설정해주어야 4승까지 feature 를 만들어준다.\n",
    "\n",
    "PHI = np.ones(200).reshape(-1, 1) # 200개의 샘플이므로 np.ones('200') <- 200, 이백, 일렬로 펼쳐주어야 하므로 reshape"
   ]
  },
  {
   "cell_type": "code",
   "execution_count": 6,
   "metadata": {},
   "outputs": [
    {
     "data": {
      "text/plain": [
       "array([1., 1., 1., 1., 1., 1., 1., 1., 1., 1., 1., 1., 1., 1., 1., 1., 1.,\n",
       "       1., 1., 1., 1., 1., 1., 1., 1., 1., 1., 1., 1., 1., 1., 1., 1., 1.,\n",
       "       1., 1., 1., 1., 1., 1., 1., 1., 1., 1., 1., 1., 1., 1., 1., 1., 1.,\n",
       "       1., 1., 1., 1., 1., 1., 1., 1., 1., 1., 1., 1., 1., 1., 1., 1., 1.,\n",
       "       1., 1., 1., 1., 1., 1., 1., 1., 1., 1., 1., 1., 1., 1., 1., 1., 1.,\n",
       "       1., 1., 1., 1., 1., 1., 1., 1., 1., 1., 1., 1., 1., 1., 1., 1., 1.,\n",
       "       1., 1., 1., 1., 1., 1., 1., 1., 1., 1., 1., 1., 1., 1., 1., 1., 1.,\n",
       "       1., 1., 1., 1., 1., 1., 1., 1., 1., 1., 1., 1., 1., 1., 1., 1., 1.,\n",
       "       1., 1., 1., 1., 1., 1., 1., 1., 1., 1., 1., 1., 1., 1., 1., 1., 1.,\n",
       "       1., 1., 1., 1., 1., 1., 1., 1., 1., 1., 1., 1., 1., 1., 1., 1., 1.,\n",
       "       1., 1., 1., 1., 1., 1., 1., 1., 1., 1., 1., 1., 1., 1., 1., 1., 1.,\n",
       "       1., 1., 1., 1., 1., 1., 1., 1., 1., 1., 1., 1., 1.])"
      ]
     },
     "execution_count": 6,
     "metadata": {},
     "output_type": "execute_result"
    }
   ],
   "source": [
    "# np.ones(200) 은 대략 이렇게 생겼습니다.\n",
    "np.ones(200)"
   ]
  },
  {
   "cell_type": "code",
   "execution_count": 7,
   "metadata": {},
   "outputs": [
    {
     "data": {
      "text/plain": [
       "array([[1.],\n",
       "       [1.],\n",
       "       [1.],\n",
       "       [1.],\n",
       "       [1.],\n",
       "       [1.],\n",
       "       [1.],\n",
       "       [1.],\n",
       "       [1.],\n",
       "       [1.],\n",
       "       [1.],\n",
       "       [1.],\n",
       "       [1.],\n",
       "       [1.],\n",
       "       [1.],\n",
       "       [1.],\n",
       "       [1.],\n",
       "       [1.],\n",
       "       [1.],\n",
       "       [1.],\n",
       "       [1.],\n",
       "       [1.],\n",
       "       [1.],\n",
       "       [1.],\n",
       "       [1.],\n",
       "       [1.],\n",
       "       [1.],\n",
       "       [1.],\n",
       "       [1.],\n",
       "       [1.],\n",
       "       [1.],\n",
       "       [1.],\n",
       "       [1.],\n",
       "       [1.],\n",
       "       [1.],\n",
       "       [1.],\n",
       "       [1.],\n",
       "       [1.],\n",
       "       [1.],\n",
       "       [1.],\n",
       "       [1.],\n",
       "       [1.],\n",
       "       [1.],\n",
       "       [1.],\n",
       "       [1.],\n",
       "       [1.],\n",
       "       [1.],\n",
       "       [1.],\n",
       "       [1.],\n",
       "       [1.],\n",
       "       [1.],\n",
       "       [1.],\n",
       "       [1.],\n",
       "       [1.],\n",
       "       [1.],\n",
       "       [1.],\n",
       "       [1.],\n",
       "       [1.],\n",
       "       [1.],\n",
       "       [1.],\n",
       "       [1.],\n",
       "       [1.],\n",
       "       [1.],\n",
       "       [1.],\n",
       "       [1.],\n",
       "       [1.],\n",
       "       [1.],\n",
       "       [1.],\n",
       "       [1.],\n",
       "       [1.],\n",
       "       [1.],\n",
       "       [1.],\n",
       "       [1.],\n",
       "       [1.],\n",
       "       [1.],\n",
       "       [1.],\n",
       "       [1.],\n",
       "       [1.],\n",
       "       [1.],\n",
       "       [1.],\n",
       "       [1.],\n",
       "       [1.],\n",
       "       [1.],\n",
       "       [1.],\n",
       "       [1.],\n",
       "       [1.],\n",
       "       [1.],\n",
       "       [1.],\n",
       "       [1.],\n",
       "       [1.],\n",
       "       [1.],\n",
       "       [1.],\n",
       "       [1.],\n",
       "       [1.],\n",
       "       [1.],\n",
       "       [1.],\n",
       "       [1.],\n",
       "       [1.],\n",
       "       [1.],\n",
       "       [1.],\n",
       "       [1.],\n",
       "       [1.],\n",
       "       [1.],\n",
       "       [1.],\n",
       "       [1.],\n",
       "       [1.],\n",
       "       [1.],\n",
       "       [1.],\n",
       "       [1.],\n",
       "       [1.],\n",
       "       [1.],\n",
       "       [1.],\n",
       "       [1.],\n",
       "       [1.],\n",
       "       [1.],\n",
       "       [1.],\n",
       "       [1.],\n",
       "       [1.],\n",
       "       [1.],\n",
       "       [1.],\n",
       "       [1.],\n",
       "       [1.],\n",
       "       [1.],\n",
       "       [1.],\n",
       "       [1.],\n",
       "       [1.],\n",
       "       [1.],\n",
       "       [1.],\n",
       "       [1.],\n",
       "       [1.],\n",
       "       [1.],\n",
       "       [1.],\n",
       "       [1.],\n",
       "       [1.],\n",
       "       [1.],\n",
       "       [1.],\n",
       "       [1.],\n",
       "       [1.],\n",
       "       [1.],\n",
       "       [1.],\n",
       "       [1.],\n",
       "       [1.],\n",
       "       [1.],\n",
       "       [1.],\n",
       "       [1.],\n",
       "       [1.],\n",
       "       [1.],\n",
       "       [1.],\n",
       "       [1.],\n",
       "       [1.],\n",
       "       [1.],\n",
       "       [1.],\n",
       "       [1.],\n",
       "       [1.],\n",
       "       [1.],\n",
       "       [1.],\n",
       "       [1.],\n",
       "       [1.],\n",
       "       [1.],\n",
       "       [1.],\n",
       "       [1.],\n",
       "       [1.],\n",
       "       [1.],\n",
       "       [1.],\n",
       "       [1.],\n",
       "       [1.],\n",
       "       [1.],\n",
       "       [1.],\n",
       "       [1.],\n",
       "       [1.],\n",
       "       [1.],\n",
       "       [1.],\n",
       "       [1.],\n",
       "       [1.],\n",
       "       [1.],\n",
       "       [1.],\n",
       "       [1.],\n",
       "       [1.],\n",
       "       [1.],\n",
       "       [1.],\n",
       "       [1.],\n",
       "       [1.],\n",
       "       [1.],\n",
       "       [1.],\n",
       "       [1.],\n",
       "       [1.],\n",
       "       [1.],\n",
       "       [1.],\n",
       "       [1.],\n",
       "       [1.],\n",
       "       [1.],\n",
       "       [1.],\n",
       "       [1.],\n",
       "       [1.],\n",
       "       [1.],\n",
       "       [1.],\n",
       "       [1.],\n",
       "       [1.],\n",
       "       [1.],\n",
       "       [1.]])"
      ]
     },
     "execution_count": 7,
     "metadata": {},
     "output_type": "execute_result"
    }
   ],
   "source": [
    "PHI"
   ]
  },
  {
   "cell_type": "code",
   "execution_count": 8,
   "metadata": {},
   "outputs": [],
   "source": [
    "for i in range(1, n_feature): # i <- 1,2,3,4\n",
    "    PHI = np.concatenate((PHI, np.power(x, i)), axis=1) # 기존 PHI (1 이 200개 있는것) 에 X 의 1승부터 4승까지 차례대로 붙여준다"
   ]
  },
  {
   "cell_type": "markdown",
   "metadata": {},
   "source": [
    "&emsp;&emsp;$y = x^{0} + x^{1} + x^{2} + x^{3} + x^{4}$<br><br>"
   ]
  },
  {
   "cell_type": "code",
   "execution_count": 9,
   "metadata": {
    "scrolled": true
   },
   "outputs": [
    {
     "name": "stdout",
     "output_type": "stream",
     "text": [
      "The shape of PHI => (200, 5)\n",
      "The number of X_data samples => 200 \n",
      "the number of features => 5\n",
      "The number of y_data samples => 200\n"
     ]
    }
   ],
   "source": [
    "print(\"The shape of PHI => {}\".format(PHI.shape))\n",
    "print(\"The number of X_data samples => {0} \\nthe number of features => {1}\".format(PHI.shape[0],PHI.shape[1]))\n",
    "print(\"The number of y_data samples => {}\".format(y.shape[0]))"
   ]
  },
  {
   "cell_type": "code",
   "execution_count": 10,
   "metadata": {},
   "outputs": [
    {
     "data": {
      "text/plain": [
       "array([[ 1.00000000e+00, -3.14159265e+00,  9.86960440e+00,\n",
       "        -3.10062767e+01,  9.74090910e+01],\n",
       "       [ 1.00000000e+00, -3.11001886e+00,  9.67221730e+00,\n",
       "        -3.00807782e+01,  9.35517875e+01],\n",
       "       [ 1.00000000e+00, -3.07844506e+00,  9.47682400e+00,\n",
       "        -2.91738821e+01,  8.98101932e+01],\n",
       "       [ 1.00000000e+00, -3.04687127e+00,  9.28342452e+00,\n",
       "        -2.82853994e+01,  8.61819708e+01],\n",
       "       [ 1.00000000e+00, -3.01529747e+00,  9.09201884e+00,\n",
       "        -2.74151414e+01,  8.26648066e+01],\n",
       "       [ 1.00000000e+00, -2.98372368e+00,  8.90260697e+00,\n",
       "        -2.65629192e+01,  7.92564109e+01],\n",
       "       [ 1.00000000e+00, -2.95214988e+00,  8.71518892e+00,\n",
       "        -2.57285439e+01,  7.59545179e+01],\n",
       "       [ 1.00000000e+00, -2.92057608e+00,  8.52976467e+00,\n",
       "        -2.49118267e+01,  7.27568853e+01],\n",
       "       [ 1.00000000e+00, -2.88900229e+00,  8.34633423e+00,\n",
       "        -2.41125787e+01,  6.96612951e+01],\n",
       "       [ 1.00000000e+00, -2.85742849e+00,  8.16489760e+00,\n",
       "        -2.33306110e+01,  6.66655528e+01],\n",
       "       [ 1.00000000e+00, -2.82585470e+00,  7.98545478e+00,\n",
       "        -2.25657349e+01,  6.37674880e+01],\n",
       "       [ 1.00000000e+00, -2.79428090e+00,  7.80800576e+00,\n",
       "        -2.18177614e+01,  6.09649540e+01],\n",
       "       [ 1.00000000e+00, -2.76270711e+00,  7.63255056e+00,\n",
       "        -2.10865017e+01,  5.82558281e+01],\n",
       "       [ 1.00000000e+00, -2.73113331e+00,  7.45908917e+00,\n",
       "        -2.03717669e+01,  5.56380112e+01],\n",
       "       [ 1.00000000e+00, -2.69955952e+00,  7.28762158e+00,\n",
       "        -1.96733682e+01,  5.31094283e+01],\n",
       "       [ 1.00000000e+00, -2.66798572e+00,  7.11814781e+00,\n",
       "        -1.89911167e+01,  5.06680282e+01],\n",
       "       [ 1.00000000e+00, -2.63641193e+00,  6.95066784e+00,\n",
       "        -1.83248236e+01,  4.83117834e+01],\n",
       "       [ 1.00000000e+00, -2.60483813e+00,  6.78518168e+00,\n",
       "        -1.76743000e+01,  4.60386905e+01],\n",
       "       [ 1.00000000e+00, -2.57326433e+00,  6.62168933e+00,\n",
       "        -1.70393570e+01,  4.38467696e+01],\n",
       "       [ 1.00000000e+00, -2.54169054e+00,  6.46019080e+00,\n",
       "        -1.64198058e+01,  4.17340651e+01],\n",
       "       [ 1.00000000e+00, -2.51011674e+00,  6.30068607e+00,\n",
       "        -1.58154576e+01,  3.96986449e+01],\n",
       "       [ 1.00000000e+00, -2.47854295e+00,  6.14317514e+00,\n",
       "        -1.52261234e+01,  3.77386009e+01],\n",
       "       [ 1.00000000e+00, -2.44696915e+00,  5.98765803e+00,\n",
       "        -1.46516145e+01,  3.58520487e+01],\n",
       "       [ 1.00000000e+00, -2.41539536e+00,  5.83413473e+00,\n",
       "        -1.40917419e+01,  3.40371280e+01],\n",
       "       [ 1.00000000e+00, -2.38382156e+00,  5.68260524e+00,\n",
       "        -1.35463169e+01,  3.22920023e+01],\n",
       "       [ 1.00000000e+00, -2.35224777e+00,  5.53306955e+00,\n",
       "        -1.30151505e+01,  3.06148587e+01],\n",
       "       [ 1.00000000e+00, -2.32067397e+00,  5.38552768e+00,\n",
       "        -1.24980539e+01,  2.90039084e+01],\n",
       "       [ 1.00000000e+00, -2.28910017e+00,  5.23997961e+00,\n",
       "        -1.19948382e+01,  2.74573863e+01],\n",
       "       [ 1.00000000e+00, -2.25752638e+00,  5.09642535e+00,\n",
       "        -1.15053147e+01,  2.59735514e+01],\n",
       "       [ 1.00000000e+00, -2.22595258e+00,  4.95486490e+00,\n",
       "        -1.10292943e+01,  2.45506862e+01],\n",
       "       [ 1.00000000e+00, -2.19437879e+00,  4.81529827e+00,\n",
       "        -1.05665884e+01,  2.31870974e+01],\n",
       "       [ 1.00000000e+00, -2.16280499e+00,  4.67772544e+00,\n",
       "        -1.01170079e+01,  2.18811153e+01],\n",
       "       [ 1.00000000e+00, -2.13123120e+00,  4.54214642e+00,\n",
       "        -9.68036414e+00,  2.06310941e+01],\n",
       "       [ 1.00000000e+00, -2.09965740e+00,  4.40856120e+00,\n",
       "        -9.25646816e+00,  1.94354119e+01],\n",
       "       [ 1.00000000e+00, -2.06808361e+00,  4.27696980e+00,\n",
       "        -8.84513113e+00,  1.82924707e+01],\n",
       "       [ 1.00000000e+00, -2.03650981e+00,  4.14737221e+00,\n",
       "        -8.44616419e+00,  1.72006962e+01],\n",
       "       [ 1.00000000e+00, -2.00493602e+00,  4.01976842e+00,\n",
       "        -8.05937849e+00,  1.61585382e+01],\n",
       "       [ 1.00000000e+00, -1.97336222e+00,  3.89415845e+00,\n",
       "        -7.68458516e+00,  1.51644700e+01],\n",
       "       [ 1.00000000e+00, -1.94178842e+00,  3.77054228e+00,\n",
       "        -7.32159536e+00,  1.42169891e+01],\n",
       "       [ 1.00000000e+00, -1.91021463e+00,  3.64891993e+00,\n",
       "        -6.97022022e+00,  1.33146166e+01],\n",
       "       [ 1.00000000e+00, -1.87864083e+00,  3.52929138e+00,\n",
       "        -6.63027090e+00,  1.24558976e+01],\n",
       "       [ 1.00000000e+00, -1.84706704e+00,  3.41165664e+00,\n",
       "        -6.30155853e+00,  1.16394010e+01],\n",
       "       [ 1.00000000e+00, -1.81549324e+00,  3.29601571e+00,\n",
       "        -5.98389425e+00,  1.08637196e+01],\n",
       "       [ 1.00000000e+00, -1.78391945e+00,  3.18236859e+00,\n",
       "        -5.67708922e+00,  1.01274699e+01],\n",
       "       [ 1.00000000e+00, -1.75234565e+00,  3.07071528e+00,\n",
       "        -5.38095457e+00,  9.42929233e+00],\n",
       "       [ 1.00000000e+00, -1.72077186e+00,  2.96105578e+00,\n",
       "        -5.09530145e+00,  8.76785132e+00],\n",
       "       [ 1.00000000e+00, -1.68919806e+00,  2.85339009e+00,\n",
       "        -4.81994100e+00,  8.14183498e+00],\n",
       "       [ 1.00000000e+00, -1.65762426e+00,  2.74771820e+00,\n",
       "        -4.55468436e+00,  7.54995532e+00],\n",
       "       [ 1.00000000e+00, -1.62605047e+00,  2.64404013e+00,\n",
       "        -4.29934269e+00,  6.99094820e+00],\n",
       "       [ 1.00000000e+00, -1.59447667e+00,  2.54235586e+00,\n",
       "        -4.05372712e+00,  6.46357333e+00],\n",
       "       [ 1.00000000e+00, -1.56290288e+00,  2.44266541e+00,\n",
       "        -3.81764879e+00,  5.96661428e+00],\n",
       "       [ 1.00000000e+00, -1.53132908e+00,  2.34496876e+00,\n",
       "        -3.59091886e+00,  5.49887848e+00],\n",
       "       [ 1.00000000e+00, -1.49975529e+00,  2.24926592e+00,\n",
       "        -3.37334846e+00,  5.05919718e+00],\n",
       "       [ 1.00000000e+00, -1.46818149e+00,  2.15555689e+00,\n",
       "        -3.16474873e+00,  4.64642551e+00],\n",
       "       [ 1.00000000e+00, -1.43660770e+00,  2.06384167e+00,\n",
       "        -2.96493083e+00,  4.25944245e+00],\n",
       "       [ 1.00000000e+00, -1.40503390e+00,  1.97412026e+00,\n",
       "        -2.77370589e+00,  3.89715081e+00],\n",
       "       [ 1.00000000e+00, -1.37346010e+00,  1.88639266e+00,\n",
       "        -2.59088506e+00,  3.55847727e+00],\n",
       "       [ 1.00000000e+00, -1.34188631e+00,  1.80065887e+00,\n",
       "        -2.41627948e+00,  3.24237236e+00],\n",
       "       [ 1.00000000e+00, -1.31031251e+00,  1.71691888e+00,\n",
       "        -2.24970030e+00,  2.94781045e+00],\n",
       "       [ 1.00000000e+00, -1.27873872e+00,  1.63517271e+00,\n",
       "        -2.09095865e+00,  2.67378979e+00],\n",
       "       [ 1.00000000e+00, -1.24716492e+00,  1.55542034e+00,\n",
       "        -1.93986569e+00,  2.41933245e+00],\n",
       "       [ 1.00000000e+00, -1.21559113e+00,  1.47766179e+00,\n",
       "        -1.79623256e+00,  2.18348436e+00],\n",
       "       [ 1.00000000e+00, -1.18401733e+00,  1.40189704e+00,\n",
       "        -1.65987039e+00,  1.96531532e+00],\n",
       "       [ 1.00000000e+00, -1.15244354e+00,  1.32812610e+00,\n",
       "        -1.53059034e+00,  1.76391895e+00],\n",
       "       [ 1.00000000e+00, -1.12086974e+00,  1.25634898e+00,\n",
       "        -1.40820355e+00,  1.57841275e+00],\n",
       "       [ 1.00000000e+00, -1.08929595e+00,  1.18656566e+00,\n",
       "        -1.29252116e+00,  1.40793806e+00],\n",
       "       [ 1.00000000e+00, -1.05772215e+00,  1.11877615e+00,\n",
       "        -1.18335431e+00,  1.25166006e+00],\n",
       "       [ 1.00000000e+00, -1.02614835e+00,  1.05298044e+00,\n",
       "        -1.08051415e+00,  1.10876782e+00],\n",
       "       [ 1.00000000e+00, -9.94574559e-01,  9.89178553e-01,\n",
       "        -9.83811823e-01,  9.78474209e-01],\n",
       "       [ 1.00000000e+00, -9.63000763e-01,  9.27370470e-01,\n",
       "        -8.93058470e-01,  8.60015988e-01],\n",
       "       [ 1.00000000e+00, -9.31426968e-01,  8.67556196e-01,\n",
       "        -8.08065237e-01,  7.52653753e-01],\n",
       "       [ 1.00000000e+00, -8.99853172e-01,  8.09735731e-01,\n",
       "        -7.28643266e-01,  6.55671955e-01],\n",
       "       [ 1.00000000e+00, -8.68279377e-01,  7.53909076e-01,\n",
       "        -6.54603702e-01,  5.68378895e-01],\n",
       "       [ 1.00000000e+00, -8.36705581e-01,  7.00076229e-01,\n",
       "        -5.85757688e-01,  4.90106727e-01],\n",
       "       [ 1.00000000e+00, -8.05131786e-01,  6.48237192e-01,\n",
       "        -5.21916368e-01,  4.20211457e-01],\n",
       "       [ 1.00000000e+00, -7.73557990e-01,  5.98391964e-01,\n",
       "        -4.62890885e-01,  3.58072943e-01],\n",
       "       [ 1.00000000e+00, -7.41984195e-01,  5.50540545e-01,\n",
       "        -4.08492383e-01,  3.03094892e-01],\n",
       "       [ 1.00000000e+00, -7.10410399e-01,  5.04682935e-01,\n",
       "        -3.58532005e-01,  2.54704865e-01],\n",
       "       [ 1.00000000e+00, -6.78836604e-01,  4.60819134e-01,\n",
       "        -3.12820896e-01,  2.12354275e-01],\n",
       "       [ 1.00000000e+00, -6.47262808e-01,  4.18949143e-01,\n",
       "        -2.71170198e-01,  1.75518384e-01],\n",
       "       [ 1.00000000e+00, -6.15689013e-01,  3.79072960e-01,\n",
       "        -2.33391056e-01,  1.43696309e-01],\n",
       "       [ 1.00000000e+00, -5.84115217e-01,  3.41190587e-01,\n",
       "        -1.99294614e-01,  1.16411016e-01],\n",
       "       [ 1.00000000e+00, -5.52541421e-01,  3.05302022e-01,\n",
       "        -1.68692013e-01,  9.32093249e-02],\n",
       "       [ 1.00000000e+00, -5.20967626e-01,  2.71407267e-01,\n",
       "        -1.41394400e-01,  7.36619047e-02],\n",
       "       [ 1.00000000e+00, -4.89393830e-01,  2.39506321e-01,\n",
       "        -1.17212916e-01,  5.73632779e-02],\n",
       "       [ 1.00000000e+00, -4.57820035e-01,  2.09599184e-01,\n",
       "        -9.59587059e-02,  4.39318181e-02],\n",
       "       [ 1.00000000e+00, -4.26246239e-01,  1.81685857e-01,\n",
       "        -7.74429131e-02,  3.30097505e-02],\n",
       "       [ 1.00000000e+00, -3.94672444e-01,  1.55766338e-01,\n",
       "        -6.14766813e-02,  2.42631521e-02],\n",
       "       [ 1.00000000e+00, -3.63098648e-01,  1.31840628e-01,\n",
       "        -4.78711540e-02,  1.73819513e-02],\n",
       "       [ 1.00000000e+00, -3.31524853e-01,  1.09908728e-01,\n",
       "        -3.64374749e-02,  1.20799285e-02],\n",
       "       [ 1.00000000e+00, -2.99951057e-01,  8.99706368e-02,\n",
       "        -2.69867876e-02,  8.09471549e-03],\n",
       "       [ 1.00000000e+00, -2.68377262e-01,  7.20263547e-02,\n",
       "        -1.93302359e-02,  5.18779577e-03],\n",
       "       [ 1.00000000e+00, -2.36803466e-01,  5.60758817e-02,\n",
       "        -1.32789632e-02,  3.14450451e-03],\n",
       "       [ 1.00000000e+00, -2.05229671e-01,  4.21192178e-02,\n",
       "        -8.64411320e-03,  1.77402851e-03],\n",
       "       [ 1.00000000e+00, -1.73655875e-01,  3.01563630e-02,\n",
       "        -5.23682962e-03,  9.09406231e-04],\n",
       "       [ 1.00000000e+00, -1.42082080e-01,  2.01873174e-02,\n",
       "        -2.86825604e-03,  4.07527784e-04],\n",
       "       [ 1.00000000e+00, -1.10508284e-01,  1.22120809e-02,\n",
       "        -1.34953611e-03,  1.49134920e-04],\n",
       "       [ 1.00000000e+00, -7.89344888e-02,  6.23065352e-03,\n",
       "        -4.91813450e-04,  3.88210433e-05],\n",
       "       [ 1.00000000e+00, -4.73606933e-02,  2.24303527e-03,\n",
       "        -1.06231705e-04,  5.03120721e-06],\n",
       "       [ 1.00000000e+00, -1.57868978e-02,  2.49226141e-04,\n",
       "        -3.93450760e-06,  6.21136692e-08],\n",
       "       [ 1.00000000e+00,  1.57868978e-02,  2.49226141e-04,\n",
       "         3.93450760e-06,  6.21136692e-08],\n",
       "       [ 1.00000000e+00,  4.73606933e-02,  2.24303527e-03,\n",
       "         1.06231705e-04,  5.03120721e-06],\n",
       "       [ 1.00000000e+00,  7.89344888e-02,  6.23065352e-03,\n",
       "         4.91813450e-04,  3.88210433e-05],\n",
       "       [ 1.00000000e+00,  1.10508284e-01,  1.22120809e-02,\n",
       "         1.34953611e-03,  1.49134920e-04],\n",
       "       [ 1.00000000e+00,  1.42082080e-01,  2.01873174e-02,\n",
       "         2.86825604e-03,  4.07527784e-04],\n",
       "       [ 1.00000000e+00,  1.73655875e-01,  3.01563630e-02,\n",
       "         5.23682962e-03,  9.09406231e-04],\n",
       "       [ 1.00000000e+00,  2.05229671e-01,  4.21192178e-02,\n",
       "         8.64411320e-03,  1.77402851e-03],\n",
       "       [ 1.00000000e+00,  2.36803466e-01,  5.60758817e-02,\n",
       "         1.32789632e-02,  3.14450451e-03],\n",
       "       [ 1.00000000e+00,  2.68377262e-01,  7.20263547e-02,\n",
       "         1.93302359e-02,  5.18779577e-03],\n",
       "       [ 1.00000000e+00,  2.99951057e-01,  8.99706368e-02,\n",
       "         2.69867876e-02,  8.09471549e-03],\n",
       "       [ 1.00000000e+00,  3.31524853e-01,  1.09908728e-01,\n",
       "         3.64374749e-02,  1.20799285e-02],\n",
       "       [ 1.00000000e+00,  3.63098648e-01,  1.31840628e-01,\n",
       "         4.78711540e-02,  1.73819513e-02],\n",
       "       [ 1.00000000e+00,  3.94672444e-01,  1.55766338e-01,\n",
       "         6.14766813e-02,  2.42631521e-02],\n",
       "       [ 1.00000000e+00,  4.26246239e-01,  1.81685857e-01,\n",
       "         7.74429131e-02,  3.30097505e-02],\n",
       "       [ 1.00000000e+00,  4.57820035e-01,  2.09599184e-01,\n",
       "         9.59587059e-02,  4.39318181e-02],\n",
       "       [ 1.00000000e+00,  4.89393830e-01,  2.39506321e-01,\n",
       "         1.17212916e-01,  5.73632779e-02],\n",
       "       [ 1.00000000e+00,  5.20967626e-01,  2.71407267e-01,\n",
       "         1.41394400e-01,  7.36619047e-02],\n",
       "       [ 1.00000000e+00,  5.52541421e-01,  3.05302022e-01,\n",
       "         1.68692013e-01,  9.32093249e-02],\n",
       "       [ 1.00000000e+00,  5.84115217e-01,  3.41190587e-01,\n",
       "         1.99294614e-01,  1.16411016e-01],\n",
       "       [ 1.00000000e+00,  6.15689013e-01,  3.79072960e-01,\n",
       "         2.33391056e-01,  1.43696309e-01],\n",
       "       [ 1.00000000e+00,  6.47262808e-01,  4.18949143e-01,\n",
       "         2.71170198e-01,  1.75518384e-01],\n",
       "       [ 1.00000000e+00,  6.78836604e-01,  4.60819134e-01,\n",
       "         3.12820896e-01,  2.12354275e-01],\n",
       "       [ 1.00000000e+00,  7.10410399e-01,  5.04682935e-01,\n",
       "         3.58532005e-01,  2.54704865e-01],\n",
       "       [ 1.00000000e+00,  7.41984195e-01,  5.50540545e-01,\n",
       "         4.08492383e-01,  3.03094892e-01],\n",
       "       [ 1.00000000e+00,  7.73557990e-01,  5.98391964e-01,\n",
       "         4.62890885e-01,  3.58072943e-01],\n",
       "       [ 1.00000000e+00,  8.05131786e-01,  6.48237192e-01,\n",
       "         5.21916368e-01,  4.20211457e-01],\n",
       "       [ 1.00000000e+00,  8.36705581e-01,  7.00076229e-01,\n",
       "         5.85757688e-01,  4.90106727e-01],\n",
       "       [ 1.00000000e+00,  8.68279377e-01,  7.53909076e-01,\n",
       "         6.54603702e-01,  5.68378895e-01],\n",
       "       [ 1.00000000e+00,  8.99853172e-01,  8.09735731e-01,\n",
       "         7.28643266e-01,  6.55671955e-01],\n",
       "       [ 1.00000000e+00,  9.31426968e-01,  8.67556196e-01,\n",
       "         8.08065237e-01,  7.52653753e-01],\n",
       "       [ 1.00000000e+00,  9.63000763e-01,  9.27370470e-01,\n",
       "         8.93058470e-01,  8.60015988e-01],\n",
       "       [ 1.00000000e+00,  9.94574559e-01,  9.89178553e-01,\n",
       "         9.83811823e-01,  9.78474209e-01],\n",
       "       [ 1.00000000e+00,  1.02614835e+00,  1.05298044e+00,\n",
       "         1.08051415e+00,  1.10876782e+00],\n",
       "       [ 1.00000000e+00,  1.05772215e+00,  1.11877615e+00,\n",
       "         1.18335431e+00,  1.25166006e+00],\n",
       "       [ 1.00000000e+00,  1.08929595e+00,  1.18656566e+00,\n",
       "         1.29252116e+00,  1.40793806e+00],\n",
       "       [ 1.00000000e+00,  1.12086974e+00,  1.25634898e+00,\n",
       "         1.40820355e+00,  1.57841275e+00],\n",
       "       [ 1.00000000e+00,  1.15244354e+00,  1.32812610e+00,\n",
       "         1.53059034e+00,  1.76391895e+00],\n",
       "       [ 1.00000000e+00,  1.18401733e+00,  1.40189704e+00,\n",
       "         1.65987039e+00,  1.96531532e+00],\n",
       "       [ 1.00000000e+00,  1.21559113e+00,  1.47766179e+00,\n",
       "         1.79623256e+00,  2.18348436e+00],\n",
       "       [ 1.00000000e+00,  1.24716492e+00,  1.55542034e+00,\n",
       "         1.93986569e+00,  2.41933245e+00],\n",
       "       [ 1.00000000e+00,  1.27873872e+00,  1.63517271e+00,\n",
       "         2.09095865e+00,  2.67378979e+00],\n",
       "       [ 1.00000000e+00,  1.31031251e+00,  1.71691888e+00,\n",
       "         2.24970030e+00,  2.94781045e+00],\n",
       "       [ 1.00000000e+00,  1.34188631e+00,  1.80065887e+00,\n",
       "         2.41627948e+00,  3.24237236e+00],\n",
       "       [ 1.00000000e+00,  1.37346010e+00,  1.88639266e+00,\n",
       "         2.59088506e+00,  3.55847727e+00],\n",
       "       [ 1.00000000e+00,  1.40503390e+00,  1.97412026e+00,\n",
       "         2.77370589e+00,  3.89715081e+00],\n",
       "       [ 1.00000000e+00,  1.43660770e+00,  2.06384167e+00,\n",
       "         2.96493083e+00,  4.25944245e+00],\n",
       "       [ 1.00000000e+00,  1.46818149e+00,  2.15555689e+00,\n",
       "         3.16474873e+00,  4.64642551e+00],\n",
       "       [ 1.00000000e+00,  1.49975529e+00,  2.24926592e+00,\n",
       "         3.37334846e+00,  5.05919718e+00],\n",
       "       [ 1.00000000e+00,  1.53132908e+00,  2.34496876e+00,\n",
       "         3.59091886e+00,  5.49887848e+00],\n",
       "       [ 1.00000000e+00,  1.56290288e+00,  2.44266541e+00,\n",
       "         3.81764879e+00,  5.96661428e+00],\n",
       "       [ 1.00000000e+00,  1.59447667e+00,  2.54235586e+00,\n",
       "         4.05372712e+00,  6.46357333e+00],\n",
       "       [ 1.00000000e+00,  1.62605047e+00,  2.64404013e+00,\n",
       "         4.29934269e+00,  6.99094820e+00],\n",
       "       [ 1.00000000e+00,  1.65762426e+00,  2.74771820e+00,\n",
       "         4.55468436e+00,  7.54995532e+00],\n",
       "       [ 1.00000000e+00,  1.68919806e+00,  2.85339009e+00,\n",
       "         4.81994100e+00,  8.14183498e+00],\n",
       "       [ 1.00000000e+00,  1.72077186e+00,  2.96105578e+00,\n",
       "         5.09530145e+00,  8.76785132e+00],\n",
       "       [ 1.00000000e+00,  1.75234565e+00,  3.07071528e+00,\n",
       "         5.38095457e+00,  9.42929233e+00],\n",
       "       [ 1.00000000e+00,  1.78391945e+00,  3.18236859e+00,\n",
       "         5.67708922e+00,  1.01274699e+01],\n",
       "       [ 1.00000000e+00,  1.81549324e+00,  3.29601571e+00,\n",
       "         5.98389425e+00,  1.08637196e+01],\n",
       "       [ 1.00000000e+00,  1.84706704e+00,  3.41165664e+00,\n",
       "         6.30155853e+00,  1.16394010e+01],\n",
       "       [ 1.00000000e+00,  1.87864083e+00,  3.52929138e+00,\n",
       "         6.63027090e+00,  1.24558976e+01],\n",
       "       [ 1.00000000e+00,  1.91021463e+00,  3.64891993e+00,\n",
       "         6.97022022e+00,  1.33146166e+01],\n",
       "       [ 1.00000000e+00,  1.94178842e+00,  3.77054228e+00,\n",
       "         7.32159536e+00,  1.42169891e+01],\n",
       "       [ 1.00000000e+00,  1.97336222e+00,  3.89415845e+00,\n",
       "         7.68458516e+00,  1.51644700e+01],\n",
       "       [ 1.00000000e+00,  2.00493602e+00,  4.01976842e+00,\n",
       "         8.05937849e+00,  1.61585382e+01],\n",
       "       [ 1.00000000e+00,  2.03650981e+00,  4.14737221e+00,\n",
       "         8.44616419e+00,  1.72006962e+01],\n",
       "       [ 1.00000000e+00,  2.06808361e+00,  4.27696980e+00,\n",
       "         8.84513113e+00,  1.82924707e+01],\n",
       "       [ 1.00000000e+00,  2.09965740e+00,  4.40856120e+00,\n",
       "         9.25646816e+00,  1.94354119e+01],\n",
       "       [ 1.00000000e+00,  2.13123120e+00,  4.54214642e+00,\n",
       "         9.68036414e+00,  2.06310941e+01],\n",
       "       [ 1.00000000e+00,  2.16280499e+00,  4.67772544e+00,\n",
       "         1.01170079e+01,  2.18811153e+01],\n",
       "       [ 1.00000000e+00,  2.19437879e+00,  4.81529827e+00,\n",
       "         1.05665884e+01,  2.31870974e+01],\n",
       "       [ 1.00000000e+00,  2.22595258e+00,  4.95486490e+00,\n",
       "         1.10292943e+01,  2.45506862e+01],\n",
       "       [ 1.00000000e+00,  2.25752638e+00,  5.09642535e+00,\n",
       "         1.15053147e+01,  2.59735514e+01],\n",
       "       [ 1.00000000e+00,  2.28910017e+00,  5.23997961e+00,\n",
       "         1.19948382e+01,  2.74573863e+01],\n",
       "       [ 1.00000000e+00,  2.32067397e+00,  5.38552768e+00,\n",
       "         1.24980539e+01,  2.90039084e+01],\n",
       "       [ 1.00000000e+00,  2.35224777e+00,  5.53306955e+00,\n",
       "         1.30151505e+01,  3.06148587e+01],\n",
       "       [ 1.00000000e+00,  2.38382156e+00,  5.68260524e+00,\n",
       "         1.35463169e+01,  3.22920023e+01],\n",
       "       [ 1.00000000e+00,  2.41539536e+00,  5.83413473e+00,\n",
       "         1.40917419e+01,  3.40371280e+01],\n",
       "       [ 1.00000000e+00,  2.44696915e+00,  5.98765803e+00,\n",
       "         1.46516145e+01,  3.58520487e+01],\n",
       "       [ 1.00000000e+00,  2.47854295e+00,  6.14317514e+00,\n",
       "         1.52261234e+01,  3.77386009e+01],\n",
       "       [ 1.00000000e+00,  2.51011674e+00,  6.30068607e+00,\n",
       "         1.58154576e+01,  3.96986449e+01],\n",
       "       [ 1.00000000e+00,  2.54169054e+00,  6.46019080e+00,\n",
       "         1.64198058e+01,  4.17340651e+01],\n",
       "       [ 1.00000000e+00,  2.57326433e+00,  6.62168933e+00,\n",
       "         1.70393570e+01,  4.38467696e+01],\n",
       "       [ 1.00000000e+00,  2.60483813e+00,  6.78518168e+00,\n",
       "         1.76743000e+01,  4.60386905e+01],\n",
       "       [ 1.00000000e+00,  2.63641193e+00,  6.95066784e+00,\n",
       "         1.83248236e+01,  4.83117834e+01],\n",
       "       [ 1.00000000e+00,  2.66798572e+00,  7.11814781e+00,\n",
       "         1.89911167e+01,  5.06680282e+01],\n",
       "       [ 1.00000000e+00,  2.69955952e+00,  7.28762158e+00,\n",
       "         1.96733682e+01,  5.31094283e+01],\n",
       "       [ 1.00000000e+00,  2.73113331e+00,  7.45908917e+00,\n",
       "         2.03717669e+01,  5.56380112e+01],\n",
       "       [ 1.00000000e+00,  2.76270711e+00,  7.63255056e+00,\n",
       "         2.10865017e+01,  5.82558281e+01],\n",
       "       [ 1.00000000e+00,  2.79428090e+00,  7.80800576e+00,\n",
       "         2.18177614e+01,  6.09649540e+01],\n",
       "       [ 1.00000000e+00,  2.82585470e+00,  7.98545478e+00,\n",
       "         2.25657349e+01,  6.37674880e+01],\n",
       "       [ 1.00000000e+00,  2.85742849e+00,  8.16489760e+00,\n",
       "         2.33306110e+01,  6.66655528e+01],\n",
       "       [ 1.00000000e+00,  2.88900229e+00,  8.34633423e+00,\n",
       "         2.41125787e+01,  6.96612951e+01],\n",
       "       [ 1.00000000e+00,  2.92057608e+00,  8.52976467e+00,\n",
       "         2.49118267e+01,  7.27568853e+01],\n",
       "       [ 1.00000000e+00,  2.95214988e+00,  8.71518892e+00,\n",
       "         2.57285439e+01,  7.59545179e+01],\n",
       "       [ 1.00000000e+00,  2.98372368e+00,  8.90260697e+00,\n",
       "         2.65629192e+01,  7.92564109e+01],\n",
       "       [ 1.00000000e+00,  3.01529747e+00,  9.09201884e+00,\n",
       "         2.74151414e+01,  8.26648066e+01],\n",
       "       [ 1.00000000e+00,  3.04687127e+00,  9.28342452e+00,\n",
       "         2.82853994e+01,  8.61819708e+01],\n",
       "       [ 1.00000000e+00,  3.07844506e+00,  9.47682400e+00,\n",
       "         2.91738821e+01,  8.98101932e+01],\n",
       "       [ 1.00000000e+00,  3.11001886e+00,  9.67221730e+00,\n",
       "         3.00807782e+01,  9.35517875e+01],\n",
       "       [ 1.00000000e+00,  3.14159265e+00,  9.86960440e+00,\n",
       "         3.10062767e+01,  9.74090910e+01]])"
      ]
     },
     "execution_count": 10,
     "metadata": {},
     "output_type": "execute_result"
    }
   ],
   "source": [
    "PHI # x^0 + x^1 + x^2 + x^3 + x^4 "
   ]
  },
  {
   "cell_type": "code",
   "execution_count": 11,
   "metadata": {},
   "outputs": [
    {
     "data": {
      "text/plain": [
       "array([[-3.14159265],\n",
       "       [-3.11001886],\n",
       "       [-3.07844506],\n",
       "       [-3.04687127],\n",
       "       [-3.01529747]])"
      ]
     },
     "execution_count": 11,
     "metadata": {},
     "output_type": "execute_result"
    }
   ],
   "source": [
    "np.power(x, 1)[:5] # X 의 1승"
   ]
  },
  {
   "cell_type": "code",
   "execution_count": 12,
   "metadata": {},
   "outputs": [
    {
     "data": {
      "text/plain": [
       "array([[9.8696044 ],\n",
       "       [9.6722173 ],\n",
       "       [9.476824  ],\n",
       "       [9.28342452],\n",
       "       [9.09201884]])"
      ]
     },
     "execution_count": 12,
     "metadata": {},
     "output_type": "execute_result"
    }
   ],
   "source": [
    "np.power(x, 2)[:5] # X 의 2승"
   ]
  },
  {
   "cell_type": "code",
   "execution_count": 13,
   "metadata": {},
   "outputs": [
    {
     "data": {
      "text/plain": [
       "array([[-31.00627668],\n",
       "       [-30.08077819],\n",
       "       [-29.17388206],\n",
       "       [-28.28539942],\n",
       "       [-27.41514142]])"
      ]
     },
     "execution_count": 13,
     "metadata": {},
     "output_type": "execute_result"
    }
   ],
   "source": [
    "np.power(x, 3)[:5] # X 의 3승"
   ]
  },
  {
   "cell_type": "code",
   "execution_count": 14,
   "metadata": {},
   "outputs": [
    {
     "data": {
      "text/plain": [
       "array([[97.40909103],\n",
       "       [93.55178745],\n",
       "       [89.81019319],\n",
       "       [86.18197078],\n",
       "       [82.66480662]])"
      ]
     },
     "execution_count": 14,
     "metadata": {},
     "output_type": "execute_result"
    }
   ],
   "source": [
    "np.power(x, 4)[:5] # X 의 4승"
   ]
  },
  {
   "cell_type": "markdown",
   "metadata": {},
   "source": [
    "**shuffle data**"
   ]
  },
  {
   "cell_type": "code",
   "execution_count": 15,
   "metadata": {
    "scrolled": true
   },
   "outputs": [
    {
     "name": "stdout",
     "output_type": "stream",
     "text": [
      "[ 59   5  20 198  52  19 162  55  69   2  98  10  75 142 124  63 109  78\n",
      " 111 185 154 130  61  87 102 121 136   1  47 172 159  39  76  91  35 178\n",
      " 127 169  46 174 190   7  26 138  58  72 103 199  56 116  24  43 101 163\n",
      "  21  60 175  70  90  49 119 110  95 167 193  68 165 114  67  66 120  38\n",
      " 196 161  99 152  83 166 117  41  80  81  32 170  48  25  53 105  17 194\n",
      "  51  14  82  84 184  29   3  23 147 188  37 189 186 187  45 132  97 179\n",
      " 191  42 129 131  79 160 177 143 168  12 112  11  22 106  85 146   6 128\n",
      " 149 155 148 104  34 108  50 134 144 145   4 133  44  96 176  28 135 171\n",
      " 180  71 118 192 197 137  74 182  94 151 150 173  93  18  27  36  57  31\n",
      "  65 140  89 158  30  86  92 141 126 153  13  77 181 183  33  62 122 107\n",
      "  88  54 139 100  16 115 164  40   0  73   8 195 157 156 123 113  64  15\n",
      " 125   9]\n"
     ]
    }
   ],
   "source": [
    "# shuffle data\n",
    "np.random.seed(10)\n",
    "\n",
    "# N은 200이므로 1~200까지의 수를 섞어준다 (permutation(N))\n",
    "idx = np.random.permutation(N)\n",
    "print(idx)"
   ]
  },
  {
   "cell_type": "code",
   "execution_count": 16,
   "metadata": {},
   "outputs": [],
   "source": [
    "shuffle_X = x[idx]\n",
    "shuffle_PHI = PHI[idx]\n",
    "shuffle_y = y[idx]"
   ]
  },
  {
   "cell_type": "code",
   "execution_count": 17,
   "metadata": {},
   "outputs": [
    {
     "name": "stdout",
     "output_type": "stream",
     "text": [
      "(200, 1)\n",
      "(200, 5)\n",
      "(200, 1)\n"
     ]
    }
   ],
   "source": [
    "print(shuffle_X.shape)\n",
    "print(shuffle_PHI.shape)\n",
    "print(shuffle_y.shape)"
   ]
  },
  {
   "cell_type": "markdown",
   "metadata": {},
   "source": [
    "### Split train and test"
   ]
  },
  {
   "cell_type": "code",
   "execution_count": 18,
   "metadata": {
    "scrolled": true
   },
   "outputs": [
    {
     "name": "stdout",
     "output_type": "stream",
     "text": [
      "(140, 5)\n",
      "(60, 5)\n"
     ]
    }
   ],
   "source": [
    "# train data 140개\n",
    "n=140\n",
    "\n",
    "# train data\n",
    "X_train = shuffle_X[:n]\n",
    "PHI_train = shuffle_PHI[:n]\n",
    "y_train = shuffle_y[:n]\n",
    "\n",
    "print(PHI_train.shape)\n",
    "\n",
    "# test data 60개\n",
    "X_test = shuffle_X[n:]\n",
    "PHI_test = shuffle_PHI[n:]\n",
    "y_test = shuffle_y[n:]\n",
    "\n",
    "print(PHI_test.shape)"
   ]
  },
  {
   "cell_type": "markdown",
   "metadata": {},
   "source": [
    "#### train 과 test 로 구분해서 그래프를 그려준다"
   ]
  },
  {
   "cell_type": "code",
   "execution_count": 19,
   "metadata": {
    "scrolled": true
   },
   "outputs": [
    {
     "data": {
      "image/png": "[encoded data removed]",
      "text/plain": [
       "<Figure size 432x288 with 1 Axes>"
      ]
     },
     "metadata": {
      "needs_background": "light"
     },
     "output_type": "display_data"
    }
   ],
   "source": [
    "plt.figure()\n",
    "plt.scatter(X_train, y_train, label='train')\n",
    "plt.scatter(X_test, y_test, label='test')\n",
    "plt.legend()\n",
    "plt.show()"
   ]
  },
  {
   "cell_type": "code",
   "execution_count": 20,
   "metadata": {
    "scrolled": false
   },
   "outputs": [
    {
     "data": {
      "image/png": "[encoded data removed]",
      "text/plain": [
       "<Figure size 432x288 with 1 Axes>"
      ]
     },
     "metadata": {
      "needs_background": "light"
     },
     "output_type": "display_data"
    },
    {
     "data": {
      "image/png": "[encoded data removed]",
      "text/plain": [
       "<Figure size 432x288 with 1 Axes>"
      ]
     },
     "metadata": {
      "needs_background": "light"
     },
     "output_type": "display_data"
    }
   ],
   "source": [
    "# plot\n",
    "plt.scatter(X_train, y_train, label='train', c='g')\n",
    "plt.legend()\n",
    "plt.title('sine wave train data')\n",
    "plt.show()\n",
    "\n",
    "plt.scatter(X_test, y_test, label='test')\n",
    "plt.legend()\n",
    "plt.title('sine wave test data')\n",
    "plt.show()"
   ]
  },
  {
   "cell_type": "markdown",
   "metadata": {},
   "source": [
    "### Make data to tensor"
   ]
  },
  {
   "cell_type": "markdown",
   "metadata": {},
   "source": [
    "ts_whole_X = train, test 를 포함한 모든 X data의 tensor 형태"
   ]
  },
  {
   "cell_type": "code",
   "execution_count": 21,
   "metadata": {},
   "outputs": [],
   "source": [
    "ts_whole_X = torch.tensor(PHI, dtype=torch.float)\n",
    "\n",
    "ts_train_X = torch.tensor(PHI_train, dtype=torch.float)\n",
    "ts_train_y = torch.tensor(y_train, dtype=torch.float)\n",
    "\n",
    "ts_test_X = torch.tensor(PHI_test, dtype=torch.float)\n",
    "ts_test_y = torch.tensor(y_test, dtype=torch.float)"
   ]
  },
  {
   "cell_type": "markdown",
   "metadata": {},
   "source": [
    "### ANN architecture"
   ]
  },
  {
   "cell_type": "code",
   "execution_count": 22,
   "metadata": {},
   "outputs": [],
   "source": [
    "class ANN(nn.Module):\n",
    "    def __init__(self):\n",
    "        super(ANN, self).__init__()\n",
    "        self.fc1 = nn.Linear(5, 64) # input layer\n",
    "        self.fc2 = nn.Linear(64, 64) # hidden layer1\n",
    "        self.fc3 = nn.Linear(64, 64) # hidden layer2\n",
    "        self.fc4 = nn.Linear(64, 64) # hidden layer3\n",
    "        self.fc5 = nn.Linear(64, 64) # hidden layer4\n",
    "        self.fc6 = nn.Linear(64, 64) # hidden layer5\n",
    "        self.fc7 = nn.Linear(64, 16) # hidden layer6\n",
    "        self.fc8 = nn.Linear(16, 16) # hidden layer7\n",
    "        self.fc9 = nn.Linear(16, 1) # output layer\n",
    "\n",
    "    def forward(self, x):\n",
    "        x = F.tanh(self.fc1(x))\n",
    "        x = F.tanh(self.fc2(x))\n",
    "        x = F.tanh(self.fc3(x))\n",
    "        x = F.tanh(self.fc4(x))\n",
    "        x = F.tanh(self.fc5(x))\n",
    "        x = F.tanh(self.fc6(x))\n",
    "        x = F.tanh(self.fc7(x))\n",
    "        x = F.tanh(self.fc8(x))\n",
    "        x = torch.tanh(self.fc9(x))\n",
    "        \n",
    "        return x\n",
    "    \n",
    "model = ANN()"
   ]
  },
  {
   "cell_type": "code",
   "execution_count": 23,
   "metadata": {},
   "outputs": [],
   "source": [
    "# class ANN(nn.Module):\n",
    "#     def __init__(self):\n",
    "#         super(ANN, self).__init__()\n",
    "#         self.fc1 = nn.Linear(5, 64) # input layer\n",
    "#         self.fc2 = nn.Linear(64, 64) # hidden layer1\n",
    "#         self.fc3 = nn.Linear(64, 64) # hidden layer2\n",
    "#         self.fc4 = nn.Linear(64, 64) # hidden layer3\n",
    "#         self.fc5 = nn.Linear(64, 64) # hidden layer4\n",
    "#         self.fc6 = nn.Linear(64, 64) # hidden layer5\n",
    "#         self.fc7 = nn.Linear(64, 16) # hidden layer6\n",
    "#         self.fc8 = nn.Linear(16, 16) # hidden layer7\n",
    "#         self.fc9 = nn.Linear(16, 1) # output layer\n",
    "\n",
    "#     def forward(self, x):\n",
    "#         x = F.sigmoid(self.fc1(x))\n",
    "#         x = F.sigmoid(self.fc2(x))\n",
    "#         x = F.sigmoid(self.fc3(x))\n",
    "#         x = F.sigmoid(self.fc4(x))\n",
    "#         x = F.sigmoid(self.fc5(x))\n",
    "#         x = F.sigmoid(self.fc6(x))\n",
    "#         x = F.sigmoid(self.fc7(x))\n",
    "#         x = F.sigmoid(self.fc8(x))\n",
    "#         x = torch.sigmoid(self.fc9(x))\n",
    "        \n",
    "#         return x\n",
    "    \n",
    "# model = ANN()"
   ]
  },
  {
   "cell_type": "markdown",
   "metadata": {},
   "source": [
    "## 1. SGD optimizer 로 training"
   ]
  },
  {
   "cell_type": "markdown",
   "metadata": {},
   "source": [
    "#### Loss Function & Optimizer (SGD)"
   ]
  },
  {
   "cell_type": "code",
   "execution_count": 24,
   "metadata": {},
   "outputs": [],
   "source": [
    "loss_function = nn.MSELoss() # mean squared error\n",
    "optimizer = optim.SGD(model.parameters(), lr= 1e-1)"
   ]
  },
  {
   "cell_type": "markdown",
   "metadata": {},
   "source": [
    "#### train model-SGD"
   ]
  },
  {
   "cell_type": "code",
   "execution_count": 25,
   "metadata": {
    "scrolled": true
   },
   "outputs": [
    {
     "name": "stderr",
     "output_type": "stream",
     "text": [
      "/home/edu/anaconda3/lib/python3.7/site-packages/torch/nn/functional.py:1558: UserWarning: nn.functional.tanh is deprecated. Use torch.tanh instead.\n",
      "  warnings.warn(\"nn.functional.tanh is deprecated. Use torch.tanh instead.\")\n"
     ]
    },
    {
     "name": "stdout",
     "output_type": "stream",
     "text": [
      "epoch ==> 0\tloss ==> 0.56859\n",
      "epoch ==> 20\tloss ==> 0.28553\n",
      "epoch ==> 40\tloss ==> 0.05722\n",
      "epoch ==> 60\tloss ==> 0.02901\n",
      "epoch ==> 80\tloss ==> 0.01640\n",
      "Finish train\n"
     ]
    }
   ],
   "source": [
    "loss_arr = []\n",
    "epoch = 100\n",
    "\n",
    "for num_epoch in range(epoch):\n",
    "    \n",
    "    optimizer.zero_grad()\n",
    "    \n",
    "    prediction = model(ts_train_X)\n",
    "    loss = loss_function(prediction, ts_train_y) # (예측값, 실제값)\n",
    "\n",
    "    loss.backward()\n",
    "    \n",
    "    optimizer.step()\n",
    "    \n",
    "    loss_arr.append(loss.item())\n",
    "    \n",
    "    if num_epoch % 20 == 0:\n",
    "        print(\"epoch ==> {}\\tloss ==> {:.5f}\".format(num_epoch, loss))\n",
    "        \n",
    "print(\"Finish train\")"
   ]
  },
  {
   "cell_type": "markdown",
   "metadata": {},
   "source": [
    "### test model"
   ]
  },
  {
   "cell_type": "code",
   "execution_count": 26,
   "metadata": {},
   "outputs": [
    {
     "name": "stdout",
     "output_type": "stream",
     "text": [
      "Finish test\n"
     ]
    }
   ],
   "source": [
    "with torch.no_grad(): # we don't need gradients (testing phase)\n",
    "    predicted_test = model(ts_test_X)\n",
    "    predicted_whole = model(ts_whole_X)\n",
    "    \n",
    "print(\"Finish test\")"
   ]
  },
  {
   "cell_type": "markdown",
   "metadata": {},
   "source": [
    "### Loss 값 확인"
   ]
  },
  {
   "cell_type": "code",
   "execution_count": 27,
   "metadata": {
    "scrolled": false
   },
   "outputs": [
    {
     "data": {
      "image/png": "[encoded data removed]",
      "text/plain": [
       "<Figure size 432x288 with 1 Axes>"
      ]
     },
     "metadata": {
      "needs_background": "light"
     },
     "output_type": "display_data"
    }
   ],
   "source": [
    "plt.figure()\n",
    "plt.plot(loss_arr)\n",
    "plt.show()          "
   ]
  },
  {
   "cell_type": "markdown",
   "metadata": {},
   "source": [
    "### Visualization"
   ]
  },
  {
   "cell_type": "code",
   "execution_count": 28,
   "metadata": {},
   "outputs": [],
   "source": [
    "y_test_pred = np.array(predicted_test)\n",
    "y_whole_pred = np.array(predicted_whole)"
   ]
  },
  {
   "cell_type": "markdown",
   "metadata": {},
   "source": [
    "### Test data 확인"
   ]
  },
  {
   "cell_type": "code",
   "execution_count": 29,
   "metadata": {},
   "outputs": [
    {
     "data": {
      "image/png": "[encoded data removed]",
      "text/plain": [
       "<Figure size 432x288 with 1 Axes>"
      ]
     },
     "metadata": {
      "needs_background": "light"
     },
     "output_type": "display_data"
    }
   ],
   "source": [
    "plt.figure()\n",
    "plt.scatter(X_test, y_test_pred, label='pred')\n",
    "plt.scatter(X_test, y_test, label='target')\n",
    "plt.legend()\n",
    "plt.title('test data')\n",
    "plt.show()"
   ]
  },
  {
   "cell_type": "code",
   "execution_count": 30,
   "metadata": {
    "scrolled": false
   },
   "outputs": [
    {
     "data": {
      "image/png": "[encoded data removed]",
      "text/plain": [
       "<Figure size 432x288 with 1 Axes>"
      ]
     },
     "metadata": {
      "needs_background": "light"
     },
     "output_type": "display_data"
    }
   ],
   "source": [
    "plt.figure()\n",
    "plt.scatter(x, y_whole_pred, label='pred')\n",
    "plt.scatter(x, y, label='target')\n",
    "plt.legend()\n",
    "plt.title('whole data')\n",
    "plt.show()"
   ]
  },
  {
   "cell_type": "markdown",
   "metadata": {},
   "source": [
    "## 2. ADAM optimizer"
   ]
  },
  {
   "cell_type": "markdown",
   "metadata": {},
   "source": [
    "### Loss Function & Optimizer (ADAM)"
   ]
  },
  {
   "cell_type": "code",
   "execution_count": 31,
   "metadata": {},
   "outputs": [],
   "source": [
    "model = ANN()"
   ]
  },
  {
   "cell_type": "code",
   "execution_count": 32,
   "metadata": {},
   "outputs": [],
   "source": [
    "loss_function = nn.MSELoss() # mean squared error\n",
    "optimizer = optim.Adam(model.parameters(), lr= 1e-3)"
   ]
  },
  {
   "cell_type": "markdown",
   "metadata": {},
   "source": [
    "### train model-ADAM"
   ]
  },
  {
   "cell_type": "code",
   "execution_count": 33,
   "metadata": {},
   "outputs": [
    {
     "name": "stderr",
     "output_type": "stream",
     "text": [
      "/home/edu/anaconda3/lib/python3.7/site-packages/torch/nn/functional.py:1558: UserWarning: nn.functional.tanh is deprecated. Use torch.tanh instead.\n",
      "  warnings.warn(\"nn.functional.tanh is deprecated. Use torch.tanh instead.\")\n"
     ]
    },
    {
     "name": "stdout",
     "output_type": "stream",
     "text": [
      "epoch ==> 0\tloss ==> 0.52566\n",
      "epoch ==> 20\tloss ==> 0.08797\n",
      "epoch ==> 40\tloss ==> 0.06024\n",
      "epoch ==> 60\tloss ==> 0.05294\n",
      "epoch ==> 80\tloss ==> 0.05002\n",
      "Finish train\n"
     ]
    }
   ],
   "source": [
    "loss_arr = []\n",
    "epoch = 100\n",
    "\n",
    "for num_epoch in range(epoch):\n",
    "    prediction = model(ts_train_X)\n",
    "    loss = loss_function(prediction, ts_train_y) # (예측값, 실제값)\n",
    "\n",
    "    optimizer.zero_grad()\n",
    "    loss.backward()\n",
    "    optimizer.step()\n",
    "    loss_arr.append(loss.item())\n",
    "    \n",
    "    if num_epoch % 20 == 0:\n",
    "        print(\"epoch ==> {}\\tloss ==> {:.5f}\".format(num_epoch, loss))\n",
    "        \n",
    "print(\"Finish train\")"
   ]
  },
  {
   "cell_type": "markdown",
   "metadata": {},
   "source": [
    "### test model"
   ]
  },
  {
   "cell_type": "code",
   "execution_count": 34,
   "metadata": {
    "scrolled": true
   },
   "outputs": [
    {
     "name": "stdout",
     "output_type": "stream",
     "text": [
      "Finish test\n"
     ]
    }
   ],
   "source": [
    "with torch.no_grad(): # we don't need gradients in the testing phase\n",
    "    predicted_test = model(ts_test_X)\n",
    "    predicted_whole = model(ts_whole_X)\n",
    "    \n",
    "print(\"Finish test\")"
   ]
  },
  {
   "cell_type": "markdown",
   "metadata": {},
   "source": [
    "### Loss 값 확인"
   ]
  },
  {
   "cell_type": "code",
   "execution_count": 35,
   "metadata": {
    "scrolled": true
   },
   "outputs": [
    {
     "data": {
      "image/png": "[encoded data removed]",
      "text/plain": [
       "<Figure size 432x288 with 1 Axes>"
      ]
     },
     "metadata": {
      "needs_background": "light"
     },
     "output_type": "display_data"
    }
   ],
   "source": [
    "plt.figure()\n",
    "plt.plot(loss_arr)\n",
    "plt.show()          "
   ]
  },
  {
   "cell_type": "markdown",
   "metadata": {},
   "source": [
    "### Visualization"
   ]
  },
  {
   "cell_type": "code",
   "execution_count": 36,
   "metadata": {},
   "outputs": [],
   "source": [
    "y_test_pred = np.array(predicted_test)\n",
    "y_whole_pred = np.array(predicted_whole)"
   ]
  },
  {
   "cell_type": "code",
   "execution_count": 37,
   "metadata": {},
   "outputs": [
    {
     "data": {
      "image/png": "[encoded data removed]",
      "text/plain": [
       "<Figure size 432x288 with 1 Axes>"
      ]
     },
     "metadata": {
      "needs_background": "light"
     },
     "output_type": "display_data"
    }
   ],
   "source": [
    "### Visualization\n",
    "\n",
    "y_test_pred = np.array(predicted_test)\n",
    "y_whole_pred = np.array(predicted_whole)\n",
    "plt.figure()\n",
    "plt.scatter(X_test, y_test_pred, label='pred')\n",
    "plt.scatter(X_test, y_test, label='target')\n",
    "plt.legend()\n",
    "plt.title('test data')\n",
    "plt.show()"
   ]
  },
  {
   "cell_type": "code",
   "execution_count": 38,
   "metadata": {
    "scrolled": true
   },
   "outputs": [
    {
     "data": {
      "image/png": "[encoded data removed]",
      "text/plain": [
       "<Figure size 432x288 with 1 Axes>"
      ]
     },
     "metadata": {
      "needs_background": "light"
     },
     "output_type": "display_data"
    }
   ],
   "source": [
    "plt.figure()\n",
    "plt.scatter(x, y_whole_pred, label='pred')\n",
    "plt.scatter(x, y, label='target')\n",
    "plt.legend()\n",
    "plt.title('whole data')\n",
    "plt.show()"
   ]
  },
  {
   "cell_type": "markdown",
   "metadata": {},
   "source": [
    "## 3. ADAM의 Lr 을 다양하게 바꿔가면서 비교"
   ]
  },
  {
   "cell_type": "code",
   "execution_count": 39,
   "metadata": {},
   "outputs": [],
   "source": [
    "model = ANN()"
   ]
  },
  {
   "cell_type": "code",
   "execution_count": 40,
   "metadata": {},
   "outputs": [],
   "source": [
    "loss_function = nn.MSELoss() # mean squared error\n",
    "optimizer = optim.Adam(model.parameters(), lr= 1e-1)"
   ]
  },
  {
   "cell_type": "markdown",
   "metadata": {},
   "source": [
    "### train model-ADAM"
   ]
  },
  {
   "cell_type": "code",
   "execution_count": 41,
   "metadata": {
    "scrolled": true
   },
   "outputs": [
    {
     "name": "stderr",
     "output_type": "stream",
     "text": [
      "/home/edu/anaconda3/lib/python3.7/site-packages/torch/nn/functional.py:1558: UserWarning: nn.functional.tanh is deprecated. Use torch.tanh instead.\n",
      "  warnings.warn(\"nn.functional.tanh is deprecated. Use torch.tanh instead.\")\n"
     ]
    },
    {
     "name": "stdout",
     "output_type": "stream",
     "text": [
      "loss => 0.56386\n",
      "loss => 0.22285\n",
      "loss => 0.24197\n",
      "loss => 0.22784\n",
      "loss => 0.21952\n",
      "Finish train\n"
     ]
    }
   ],
   "source": [
    "loss_arr = []\n",
    "\n",
    "# 100 epoch\n",
    "for step in range(100):\n",
    "    prediction = model(ts_train_X)\n",
    "    loss = loss_function(prediction, ts_train_y)\n",
    "\n",
    "    optimizer.zero_grad()\n",
    "    loss.backward()\n",
    "    optimizer.step()\n",
    "    loss_arr.append(loss.item())\n",
    "    \n",
    "    if step % 20 ==0:\n",
    "        print(\"loss => %.5f\"%loss.item())\n",
    "\n",
    "print(\"Finish train\")"
   ]
  },
  {
   "cell_type": "markdown",
   "metadata": {},
   "source": [
    "### test model"
   ]
  },
  {
   "cell_type": "code",
   "execution_count": 42,
   "metadata": {
    "scrolled": true
   },
   "outputs": [
    {
     "name": "stdout",
     "output_type": "stream",
     "text": [
      "Finish test\n"
     ]
    }
   ],
   "source": [
    "with torch.no_grad(): # we don't need gradients in the testing phase\n",
    "    predicted_test = model(ts_test_X)\n",
    "    predicted_whole = model(ts_whole_X)\n",
    "    \n",
    "print(\"Finish test\")"
   ]
  },
  {
   "cell_type": "markdown",
   "metadata": {},
   "source": [
    "### Visualization"
   ]
  },
  {
   "cell_type": "code",
   "execution_count": 43,
   "metadata": {},
   "outputs": [],
   "source": [
    "y_test_pred = np.array(predicted_test)\n",
    "y_whole_pred = np.array(predicted_whole)"
   ]
  },
  {
   "cell_type": "code",
   "execution_count": 44,
   "metadata": {
    "scrolled": false
   },
   "outputs": [
    {
     "data": {
      "image/png": "[encoded data removed]",
      "text/plain": [
       "<Figure size 432x288 with 1 Axes>"
      ]
     },
     "metadata": {
      "needs_background": "light"
     },
     "output_type": "display_data"
    }
   ],
   "source": [
    "plt.figure()\n",
    "plt.plot(loss_arr)\n",
    "plt.show()          "
   ]
  },
  {
   "cell_type": "code",
   "execution_count": 45,
   "metadata": {},
   "outputs": [
    {
     "data": {
      "image/png": "[encoded data removed]",
      "text/plain": [
       "<Figure size 432x288 with 1 Axes>"
      ]
     },
     "metadata": {
      "needs_background": "light"
     },
     "output_type": "display_data"
    }
   ],
   "source": [
    "plt.figure()\n",
    "plt.scatter(X_test, y_test_pred, label='pred')\n",
    "plt.scatter(X_test, y_test, label='target')\n",
    "plt.legend()\n",
    "plt.title('test data')\n",
    "plt.show()"
   ]
  },
  {
   "cell_type": "code",
   "execution_count": 46,
   "metadata": {
    "scrolled": true
   },
   "outputs": [
    {
     "data": {
      "image/png": "[encoded data removed]",
      "text/plain": [
       "<Figure size 432x288 with 1 Axes>"
      ]
     },
     "metadata": {
      "needs_background": "light"
     },
     "output_type": "display_data"
    }
   ],
   "source": [
    "plt.figure()\n",
    "plt.scatter(x, y_whole_pred, label='pred')\n",
    "plt.scatter(x, y, label='target')\n",
    "plt.legend()\n",
    "plt.title('whole data')\n",
    "plt.show()"
   ]
  }
 ],
 "metadata": {
  "kernelspec": {
   "display_name": "Python 3",
   "language": "python",
   "name": "python3"
  },
  "language_info": {
   "codemirror_mode": {
    "name": "ipython",
    "version": 3
   },
   "file_extension": ".py",
   "mimetype": "text/x-python",
   "name": "python",
   "nbconvert_exporter": "python",
   "pygments_lexer": "ipython3",
   "version": "3.7.6"
  }
 },
 "nbformat": 4,
 "nbformat_minor": 4
}
