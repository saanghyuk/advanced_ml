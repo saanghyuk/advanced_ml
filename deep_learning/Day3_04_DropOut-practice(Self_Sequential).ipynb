{
 "cells": [
  {
   "cell_type": "markdown",
   "metadata": {},
   "source": [
    "### Class model with dropout"
   ]
  },
  {
   "cell_type": "code",
   "execution_count": 1,
   "metadata": {},
   "outputs": [],
   "source": [
    "# warning message 제거\n",
    "\n",
    "import warnings\n",
    "warnings.filterwarnings(action='ignore')"
   ]
  },
  {
   "cell_type": "code",
   "execution_count": 2,
   "metadata": {},
   "outputs": [],
   "source": [
    "import numpy as np\n",
    "import torch\n",
    "import torch.nn as nn\n",
    "import torch.optim as optim\n",
    "from torch.nn import functional as F\n",
    "\n",
    "import random"
   ]
  },
  {
   "cell_type": "code",
   "execution_count": 3,
   "metadata": {},
   "outputs": [],
   "source": [
    "from mnist import MNIST\n",
    "\n",
    "import torch.utils.data as data_utils\n",
    "from torch.utils.data import DataLoader\n",
    "\n",
    "# loss 값 ploting 을 위해 사용\n",
    "import matplotlib.pyplot as plt"
   ]
  },
  {
   "cell_type": "markdown",
   "metadata": {},
   "source": [
    "Check GPU and fix the random seed"
   ]
  },
  {
   "cell_type": "code",
   "execution_count": 4,
   "metadata": {},
   "outputs": [
    {
     "name": "stdout",
     "output_type": "stream",
     "text": [
      "cpu\n"
     ]
    }
   ],
   "source": [
    "device = 'cuda' if torch.cuda.is_available() else 'cpu'\n",
    "print(device)\n",
    "\n",
    "random.seed(777)\n",
    "torch.manual_seed(777)\n",
    "if device == 'cuda':\n",
    "    torch.cuda.manual_seed_all(777)"
   ]
  },
  {
   "cell_type": "markdown",
   "metadata": {},
   "source": [
    "### Load Dataset and preprocessing"
   ]
  },
  {
   "cell_type": "code",
   "execution_count": 6,
   "metadata": {
    "scrolled": true
   },
   "outputs": [
    {
     "name": "stdout",
     "output_type": "stream",
     "text": [
      "x_train 의 shape=(60000, 784), y_train 의 shape=(60000,)\n",
      "x_test 의 shape=(10000, 784), y_test 의 shape=(10000,)\n"
     ]
    }
   ],
   "source": [
    "mnist = MNIST('./data/MNIST/raw')\n",
    "x_train, y_train = mnist.load_training()\n",
    "x_test, y_test = mnist.load_testing()\n",
    "\n",
    "# data 는 list 형식을 되어 있으므로 shape 을 보고, 이미지 visualization 을 하기 편한 array 형태로 바꾸어준다.\n",
    "\n",
    "x_train=np.asarray(x_train)\n",
    "y_train=np.asarray(y_train)\n",
    "x_test=np.asarray(x_test)\n",
    "y_test=np.asarray(y_test)\n",
    "\n",
    "print(\"x_train 의 shape={}, y_train 의 shape={}\".format(x_train.shape,y_train.shape))\n",
    "print(\"x_test 의 shape={}, y_test 의 shape={}\".format(x_test.shape,y_test.shape))"
   ]
  },
  {
   "cell_type": "markdown",
   "metadata": {},
   "source": [
    "### Convert dataset into Tensor"
   ]
  },
  {
   "cell_type": "code",
   "execution_count": 7,
   "metadata": {},
   "outputs": [],
   "source": [
    "batch_size = 1000\n",
    "traindata = data_utils.TensorDataset(torch.FloatTensor(x_train), torch.FloatTensor(y_train))\n",
    "trainloader = data_utils.DataLoader(traindata, batch_size = batch_size, shuffle=True)"
   ]
  },
  {
   "cell_type": "code",
   "execution_count": 8,
   "metadata": {},
   "outputs": [],
   "source": [
    "# p – probability of an element to be zeroed. Default: 0.5 => 0으로 만들어줄 확률, 쉬운 이해를 위해 아래 예시를 참조\n",
    "drop_prob1 = 0.4 # 40%는 out\n",
    "drop_prob2 = 0.25 # 25%는 out\n",
    "\n",
    "class Dropout(nn.Module):\n",
    "    def __init__(self):\n",
    "        super(Dropout, self).__init__()\n",
    "        \n",
    "        self.fc1 = nn.Linear(784, 256)\n",
    "        self.fc2 = nn.Linear(256,64)\n",
    "        self.fc3 = nn.Linear(64,10)\n",
    "\n",
    "        self.dp1 = nn.Dropout(p = drop_prob1)\n",
    "        self.dp2 = nn.Dropout(p = drop_prob2)\n",
    "\n",
    "    def forward(self, x):\n",
    "        h1 = F.relu(self.fc1(x))\n",
    "        h1dp = self.dp1(h1)\n",
    "        \n",
    "        h2 = F.relu(self.fc2(h1dp))\n",
    "        h2dp = self.dp2(h2)\n",
    "        \n",
    "        output = self.fc3(h2dp)\n",
    "            \n",
    "        return output\n",
    "\n",
    "model = Dropout().to(device)"
   ]
  },
  {
   "cell_type": "code",
   "execution_count": 10,
   "metadata": {},
   "outputs": [
    {
     "data": {
      "text/plain": [
       "Dropout(\n",
       "  (fc1): Linear(in_features=784, out_features=256, bias=True)\n",
       "  (fc2): Linear(in_features=256, out_features=64, bias=True)\n",
       "  (fc3): Linear(in_features=64, out_features=10, bias=True)\n",
       "  (dp1): Dropout(p=0.4, inplace=False)\n",
       "  (dp2): Dropout(p=0.25, inplace=False)\n",
       ")"
      ]
     },
     "execution_count": 10,
     "metadata": {},
     "output_type": "execute_result"
    }
   ],
   "source": [
    "model"
   ]
  },
  {
   "cell_type": "markdown",
   "metadata": {},
   "source": [
    "### Set parameters"
   ]
  },
  {
   "cell_type": "code",
   "execution_count": 11,
   "metadata": {},
   "outputs": [],
   "source": [
    "epoch = 15\n",
    "learning_rate = 0.01\n",
    "weight_decay = 1e-5\n",
    "\n",
    "loss_function = torch.nn.CrossEntropyLoss()\n",
    "optimizer = torch.optim.Adam(model.parameters(), lr = learning_rate, weight_decay=weight_decay)"
   ]
  },
  {
   "cell_type": "markdown",
   "metadata": {},
   "source": [
    "### Data Train"
   ]
  },
  {
   "cell_type": "code",
   "execution_count": 12,
   "metadata": {
    "scrolled": false
   },
   "outputs": [
    {
     "name": "stdout",
     "output_type": "stream",
     "text": [
      "Epoch = 1\tAverage loss = 7.938489353656768\n",
      "Epoch = 2\tAverage loss = 1.3243400235970817\n",
      "Epoch = 3\tAverage loss = 0.9799552092949549\n",
      "Epoch = 4\tAverage loss = 0.7804601937532423\n",
      "Epoch = 5\tAverage loss = 0.6909934093554815\n",
      "Epoch = 6\tAverage loss = 0.6328523983558021\n",
      "Epoch = 7\tAverage loss = 0.5992605437835059\n",
      "Epoch = 8\tAverage loss = 0.564960282544295\n",
      "Epoch = 9\tAverage loss = 0.5464657525221506\n",
      "Epoch = 10\tAverage loss = 0.52245714366436\n",
      "Epoch = 11\tAverage loss = 0.5121952588359515\n",
      "Epoch = 12\tAverage loss = 0.5005716865261396\n",
      "Epoch = 13\tAverage loss = 0.5032091145714125\n",
      "Epoch = 14\tAverage loss = 0.5036559770504633\n",
      "Epoch = 15\tAverage loss = 0.4848460227251053\n"
     ]
    }
   ],
   "source": [
    "# model = Dropout().to(device)\n",
    "\n",
    "loss_list = []\n",
    "\n",
    "for epoch_num in range(epoch):\n",
    "    model.train()\n",
    "    average_loss = 0\n",
    "    \n",
    "    for batch_idx, (images, labels) in enumerate(trainloader):\n",
    "        num_of_mini_batch = len(trainloader)\n",
    "        \n",
    "        images = images.to(device)\n",
    "        labels = labels.to(device)\n",
    "        \n",
    "        optimizer.zero_grad()\n",
    "        \n",
    "        predicted = model(images)\n",
    "        \n",
    "        labels_long = torch.tensor(labels, dtype = torch.long)\n",
    "        labels_long = labels_long.to(device)\n",
    "        \n",
    "        loss = loss_function(predicted, labels_long)\n",
    "        \n",
    "        loss.backward()\n",
    "        optimizer.step()\n",
    "        \n",
    "        loss_list.append(loss)\n",
    "        \n",
    "        average_loss += (loss.item()/num_of_mini_batch)\n",
    "   \n",
    "    print(\"Epoch = {}\\tAverage loss = {}\".format((epoch_num+1), average_loss))"
   ]
  },
  {
   "cell_type": "markdown",
   "metadata": {},
   "source": [
    "### Check 3rd Epoch average Loss"
   ]
  },
  {
   "cell_type": "code",
   "execution_count": 13,
   "metadata": {
    "scrolled": true
   },
   "outputs": [
    {
     "name": "stdout",
     "output_type": "stream",
     "text": [
      "tensor(0.9800, grad_fn=<DivBackward0>)\n"
     ]
    }
   ],
   "source": [
    "epoch_loss = 0\n",
    "for i in range(60):\n",
    "    epoch_loss = epoch_loss + loss_list[i+120]\n",
    "    \n",
    "print(epoch_loss/60)"
   ]
  },
  {
   "cell_type": "code",
   "execution_count": 14,
   "metadata": {
    "scrolled": true
   },
   "outputs": [
    {
     "name": "stdout",
     "output_type": "stream",
     "text": [
      "loss_list의 길이 = 900\n"
     ]
    }
   ],
   "source": [
    "# 60000개를 1000 배치로 나누었을때 60이 되므로 epoch 하나당 60 묶음의 배치가 학습이된다\n",
    "# 15 epoch 이므로 900 묶음의 배치가 학습이 되게 되고 list 에 append 되는 loss value 도 900 개가 된다.\n",
    "print(\"loss_list의 길이 =\",len(loss_list))"
   ]
  },
  {
   "cell_type": "code",
   "execution_count": 15,
   "metadata": {
    "scrolled": true
   },
   "outputs": [
    {
     "data": {
      "text/plain": [
       "[tensor(23.7467, grad_fn=<NllLossBackward0>),\n",
       " tensor(151.9585, grad_fn=<NllLossBackward0>),\n",
       " tensor(99.8448, grad_fn=<NllLossBackward0>),\n",
       " tensor(57.8047, grad_fn=<NllLossBackward0>),\n",
       " tensor(26.7918, grad_fn=<NllLossBackward0>),\n",
       " tensor(9.4321, grad_fn=<NllLossBackward0>),\n",
       " tensor(5.0461, grad_fn=<NllLossBackward0>),\n",
       " tensor(4.1275, grad_fn=<NllLossBackward0>),\n",
       " tensor(2.9828, grad_fn=<NllLossBackward0>),\n",
       " tensor(2.4310, grad_fn=<NllLossBackward0>)]"
      ]
     },
     "execution_count": 15,
     "metadata": {},
     "output_type": "execute_result"
    }
   ],
   "source": [
    "loss_list[:10]"
   ]
  },
  {
   "cell_type": "code",
   "execution_count": 16,
   "metadata": {},
   "outputs": [],
   "source": [
    "from matplotlib import pyplot as plt"
   ]
  },
  {
   "cell_type": "code",
   "execution_count": 17,
   "metadata": {},
   "outputs": [
    {
     "data": {
      "text/plain": [
       "[<matplotlib.lines.Line2D at 0x7fe195864d90>]"
      ]
     },
     "execution_count": 17,
     "metadata": {},
     "output_type": "execute_result"
    },
    {
     "data": {
      "image/png": "[encoded data removed]",
      "text/plain": [
       "<Figure size 432x288 with 1 Axes>"
      ]
     },
     "metadata": {
      "image/png": {
       "height": 251,
       "width": 374
      }
     },
     "output_type": "display_data"
    }
   ],
   "source": [
    "plt.plot(np.array(loss_list[7:]), 'y')"
   ]
  },
  {
   "cell_type": "code",
   "execution_count": 18,
   "metadata": {},
   "outputs": [],
   "source": [
    "import pickle\n",
    "\n",
    "# wb - 바이트 형식으로 저장\n",
    "\n",
    "with open('./pickle/Dropout.pickle', 'wb') as f:\n",
    "    pickle.dump(loss_list, f)"
   ]
  },
  {
   "cell_type": "markdown",
   "metadata": {},
   "source": [
    "### Test code"
   ]
  },
  {
   "cell_type": "code",
   "execution_count": 19,
   "metadata": {},
   "outputs": [],
   "source": [
    "test_data = data_utils.TensorDataset(torch.FloatTensor(x_test), torch.FloatTensor(y_test))\n",
    "\n",
    "testloader = data_utils.DataLoader(test_data, batch_size = 5000, shuffle = False)"
   ]
  },
  {
   "cell_type": "markdown",
   "metadata": {},
   "source": [
    "#### Test Code에서는 반드시 model.eval()을 써줘야 한다. 그래야, dropout을 test에서 적용 하지 않는다. \n",
    "\n",
    "굳이, dropout아니여도 test에서는 그냥 써주면 된다. "
   ]
  },
  {
   "cell_type": "code",
   "execution_count": 20,
   "metadata": {},
   "outputs": [
    {
     "name": "stdout",
     "output_type": "stream",
     "text": [
      "Dropout 을 사용한 accuracy = 92.56%\n"
     ]
    }
   ],
   "source": [
    "with torch.no_grad():\n",
    "    model.eval()\n",
    "    num_total_data = 0\n",
    "    correct = 0\n",
    "    \n",
    "    for _, (images, labels) in enumerate(testloader):\n",
    "        images = images.to(device)\n",
    "        labels = labels.to(device)\n",
    "        \n",
    "        output = model(images)\n",
    "        output_sftmax = F.softmax(output) # torch.nn.functional.softmax = F.softmax\n",
    "        \n",
    "        predicted = torch.argmax(output_sftmax, dim=1)\n",
    "        \n",
    "        num_total_data += len(images)\n",
    "        \n",
    "        answer = sum(labels == predicted).item()\n",
    "        correct += answer\n",
    "        \n",
    "    print(\"Dropout 을 사용한 accuracy = %.2f%%\" %((correct/num_total_data)*100))"
   ]
  },
  {
   "cell_type": "code",
   "execution_count": 20,
   "metadata": {},
   "outputs": [],
   "source": [
    "# drop_prob1 = 0.5\n",
    "# drop_prob2 = 0.3 으로 설정해놓고 다시 돌려보자"
   ]
  },
  {
   "cell_type": "code",
   "execution_count": null,
   "metadata": {},
   "outputs": [],
   "source": []
  }
 ],
 "metadata": {
  "kernelspec": {
   "display_name": "Python 3",
   "language": "python",
   "name": "python3"
  },
  "language_info": {
   "codemirror_mode": {
    "name": "ipython",
    "version": 3
   },
   "file_extension": ".py",
   "mimetype": "text/x-python",
   "name": "python",
   "nbconvert_exporter": "python",
   "pygments_lexer": "ipython3",
   "version": "3.8.5"
  }
 },
 "nbformat": 4,
 "nbformat_minor": 1
}
