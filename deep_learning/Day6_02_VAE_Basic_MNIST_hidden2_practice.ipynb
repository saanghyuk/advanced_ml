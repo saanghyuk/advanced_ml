{
 "cells": [
  {
   "cell_type": "markdown",
   "metadata": {},
   "source": [
    "# Variational AutoEncoder - Basic"
   ]
  },
  {
   "cell_type": "code",
   "execution_count": null,
   "metadata": {},
   "outputs": [],
   "source": [
    "import numpy as np"
   ]
  },
  {
   "cell_type": "code",
   "execution_count": 1,
   "metadata": {},
   "outputs": [],
   "source": [
    "import torch\n",
    "import torch.nn as nn\n",
    "import torch.optim as optim\n",
    "from torch.nn import functional as F\n",
    "import random\n",
    "\n",
    "import pandas as pd\n",
    "\n",
    "from torchvision.utils import save_image"
   ]
  },
  {
   "cell_type": "code",
   "execution_count": 2,
   "metadata": {},
   "outputs": [],
   "source": [
    "# import torchvision.datasets as dset\n",
    "from mnist import MNIST # <= 다른거\n",
    "\n",
    "import torchvision.transforms as transforms\n",
    "from torch.utils.data import DataLoader\n",
    "import matplotlib.pyplot as plt"
   ]
  },
  {
   "cell_type": "markdown",
   "metadata": {},
   "source": [
    "### Check GPU"
   ]
  },
  {
   "cell_type": "code",
   "execution_count": 3,
   "metadata": {},
   "outputs": [
    {
     "name": "stdout",
     "output_type": "stream",
     "text": [
      "cuda\n"
     ]
    }
   ],
   "source": [
    "device = 'cuda' if torch.cuda.is_available() else 'cpu'\n",
    "\n",
    "print(device)"
   ]
  },
  {
   "cell_type": "code",
   "execution_count": 4,
   "metadata": {},
   "outputs": [],
   "source": [
    "# for reproducibility\n",
    "random.seed(777)\n",
    "torch.manual_seed(777)\n",
    "if device == 'cuda':\n",
    "    torch.cuda.manual_seed_all(777)"
   ]
  },
  {
   "cell_type": "markdown",
   "metadata": {},
   "source": [
    "### Import Dataset"
   ]
  },
  {
   "cell_type": "code",
   "execution_count": 5,
   "metadata": {},
   "outputs": [],
   "source": [
    "mnist = MNIST('../image_data/MNIST/MNIST/raw')\n",
    "x_train, y_train = mnist.load_training()\n",
    "x_test, y_test = mnist.load_testing()"
   ]
  },
  {
   "cell_type": "code",
   "execution_count": 6,
   "metadata": {},
   "outputs": [
    {
     "name": "stdout",
     "output_type": "stream",
     "text": [
      "x_train 의 length = 60000\n",
      "x_test 의 length = 10000\n"
     ]
    }
   ],
   "source": [
    "print(\"x_train 의 length = {}\".format(len(x_train)))\n",
    "print(\"x_test 의 length = {}\".format(len(x_test)))"
   ]
  },
  {
   "cell_type": "markdown",
   "metadata": {},
   "source": [
    "### Data PreProcessing"
   ]
  },
  {
   "cell_type": "code",
   "execution_count": 7,
   "metadata": {},
   "outputs": [],
   "source": [
    "x_train=np.asarray(x_train)\n",
    "y_train=np.asarray(y_train)\n",
    "x_test=np.asarray(x_test)\n",
    "y_test=np.asarray(y_test)"
   ]
  },
  {
   "cell_type": "code",
   "execution_count": null,
   "metadata": {},
   "outputs": [],
   "source": [
    "# Rescale the image data to 0 ~ 1. \n",
    "x_train = \n",
    "x_test =\n",
    "\n"
   ]
  },
  {
   "cell_type": "markdown",
   "metadata": {},
   "source": [
    "### Load Dataset using DataLoader"
   ]
  },
  {
   "cell_type": "code",
   "execution_count": 9,
   "metadata": {},
   "outputs": [],
   "source": [
    "batch_size = 256\n",
    "\n",
    "# batch size 만큼 나누어서 data를 로드\n",
    "train_loader = torch.utils.data.DataLoader(x_train ,batch_size=batch_size, shuffle=True, num_workers=0,drop_last=False)\n",
    "test_loader = torch.utils.data.DataLoader(x_test ,batch_size=len(x_test), shuffle=False, num_workers=0,drop_last=False)"
   ]
  },
  {
   "cell_type": "code",
   "execution_count": 10,
   "metadata": {
    "scrolled": true
   },
   "outputs": [
    {
     "data": {
      "image/png": "[encoded data removed]",
      "text/plain": [
       "<Figure size 432x288 with 1 Axes>"
      ]
     },
     "metadata": {
      "needs_background": "light"
     },
     "output_type": "display_data"
    }
   ],
   "source": [
    "for batch_idx, image in enumerate(train_loader):\n",
    "    plt.imshow(image[0].reshape(28,28), cmap=\"gray\")\n",
    "    break"
   ]
  },
  {
   "cell_type": "markdown",
   "metadata": {},
   "source": [
    "### Make VAE Network"
   ]
  },
  {
   "cell_type": "code",
   "execution_count": null,
   "metadata": {},
   "outputs": [],
   "source": [
    "class VAE(nn.Module):\n",
    "    def __init__(self):\n",
    "        super(VAE, self).__init__()\n",
    "\n",
    "        \n",
    "    # ===== 1 ============================================================================================================== #\n",
    "    # Encoder 부분\n",
    "    # hidden layer 를 한번만 통과 한 후 mu 와 variance 의 2개의 output layer 를 return 한다\n",
    "    \n",
    "    def encode(self, x):\n",
    "\n",
    "        \n",
    "        \n",
    "         # Code\n",
    "        \n",
    "        \n",
    "\n",
    "    # ===================================================================================================================== #\n",
    "    \n",
    "    \n",
    "    # ===== 2 ============================================================================================================== #\n",
    "    # Reparameterization Trick\n",
    "    def reparameterize(self, mu_vector, logvar_vector):\n",
    "        # 1) log 를 치워주자!\n",
    "        # 2) 표준편차를 구하자\n",
    "        # 3) Epsilon 을 만들어주자\n",
    "        # 4) reparameterization trick 을 완성하자\n",
    "        \n",
    "        \n",
    "         # Code\n",
    "        \n",
    "        \n",
    "\n",
    "    # ===================================================================================================================== #\n",
    "\n",
    "\n",
    "    # ===== 3 ============================================================================================================== #        \n",
    "    # Decoder 부분\n",
    "    # hidden layer(fc2)를 하나 통과한 후 다시 784 node의 output layer 를 만든후 sigmoid function 을 통과시켜준다.\n",
    "    def decode(self, z):\n",
    "\n",
    "        \n",
    "        # Code\n",
    "        \n",
    "        \n",
    "        \n",
    "    # ===================================================================================================================== #\n",
    "    \n",
    "    \n",
    "    # ===== 4 ============================================================================================================== #\n",
    "    # 위에서부터 정의한 method 들을 이용해 하나의 network 생성\n",
    "    # forward() 메소드는 model 오브젝트를 데이터와 함께 호출하면 자동으로 실행\n",
    "    def forward(self, x):\n",
    "\n",
    "        \n",
    "        \n",
    "         # Code\n",
    "        \n",
    "        \n",
    "        \n",
    "    # ======"
   ]
  },
  {
   "cell_type": "code",
   "execution_count": 11,
   "metadata": {},
   "outputs": [],
   "source": [
    "model = VAE().to(device)"
   ]
  },
  {
   "cell_type": "markdown",
   "metadata": {},
   "source": [
    "### Loss Function"
   ]
  },
  {
   "cell_type": "code",
   "execution_count": 12,
   "metadata": {},
   "outputs": [],
   "source": [
    "def loss_function(recon_x, x, mu, logvar):\n",
    "\n",
    "\n",
    "        \n",
    "    return Bernouhlli_loss + KL_divergence"
   ]
  },
  {
   "cell_type": "markdown",
   "metadata": {},
   "source": [
    "### Parameters and Optimizer"
   ]
  },
  {
   "cell_type": "code",
   "execution_count": 13,
   "metadata": {},
   "outputs": [],
   "source": [
    "epoch = 100\n",
    "learning_rate = 1e-3\n",
    "optimizer = torch.optim.Adam(model.parameters(), lr=learning_rate, weight_decay=1e-5)"
   ]
  },
  {
   "cell_type": "markdown",
   "metadata": {},
   "source": [
    "### Train VAE Model"
   ]
  },
  {
   "cell_type": "code",
   "execution_count": 14,
   "metadata": {},
   "outputs": [
    {
     "name": "stdout",
     "output_type": "stream",
     "text": [
      "10/100 epoch\tLoss = 155.71\n",
      "20/100 epoch\tLoss = 150.47\n",
      "30/100 epoch\tLoss = 148.02\n",
      "40/100 epoch\tLoss = 146.54\n",
      "50/100 epoch\tLoss = 145.40\n",
      "60/100 epoch\tLoss = 144.55\n",
      "70/100 epoch\tLoss = 143.89\n",
      "80/100 epoch\tLoss = 143.33\n",
      "90/100 epoch\tLoss = 142.90\n",
      "100/100 epoch\tLoss = 142.40\n"
     ]
    }
   ],
   "source": [
    "for num_epoch in range(epoch):\n",
    "    avg_loss = 0\n",
    "    \n",
    "    for batch_idx, image in enumerate(train_loader):\n",
    "        num_of_mini_batch = len(train_loader) # 235 가 나올것이다 60000/256 = 234.xx => 235\n",
    "        \n",
    "        input_x = image.reshape(-1, 784).to(device)  \n",
    "        \n",
    "        optimizer.zero_grad()\n",
    "        \n",
    "        recon_x, mu, logvar = model(input_x)\n",
    "        \n",
    "        loss = loss_function(recon_x, input_x, mu, logvar)\n",
    "        loss.backward()\n",
    "\n",
    "        optimizer.step()\n",
    "        \n",
    "        avg_loss += (loss.item()/num_of_mini_batch)\n",
    "        \n",
    "    if (num_epoch+1) % 10 == 0:\n",
    "        print(\"Epoch = {} loss = {:.6f}\".format(num_epoch+1, avg_loss))"
   ]
  },
  {
   "cell_type": "markdown",
   "metadata": {},
   "source": [
    "### Save model"
   ]
  },
  {
   "cell_type": "code",
   "execution_count": 15,
   "metadata": {},
   "outputs": [],
   "source": [
    "torch.save(model.state_dict(), './pre_trained/day06_06_VAE_Basic_MNIST_hidden_2.pth')"
   ]
  },
  {
   "cell_type": "markdown",
   "metadata": {},
   "source": [
    "### Load model"
   ]
  },
  {
   "cell_type": "code",
   "execution_count": 16,
   "metadata": {},
   "outputs": [],
   "source": [
    "model = VAE().to(device)"
   ]
  },
  {
   "cell_type": "code",
   "execution_count": 17,
   "metadata": {},
   "outputs": [
    {
     "data": {
      "text/plain": [
       "<All keys matched successfully>"
      ]
     },
     "execution_count": 17,
     "metadata": {},
     "output_type": "execute_result"
    }
   ],
   "source": [
    "model.load_state_dict(torch.load('./pre_trained/day06_06_VAE_Basic_MNIST_hidden_2.pth', map_location=device))"
   ]
  },
  {
   "cell_type": "markdown",
   "metadata": {},
   "source": [
    "### Test Images"
   ]
  },
  {
   "cell_type": "code",
   "execution_count": 18,
   "metadata": {},
   "outputs": [],
   "source": [
    "for batch_idx, image in enumerate(test_loader):\n",
    "    with torch.no_grad():\n",
    "        test_img = image.to(device)\n",
    "        \n",
    "        test_recon_x, _, _ = model(test_img)"
   ]
  },
  {
   "cell_type": "code",
   "execution_count": null,
   "metadata": {},
   "outputs": [],
   "source": [
    "n = 10  # 몇개를 보일것인가\n",
    "plt.figure(figsize=(20, 5)) # 전체 figure'들'의 총 행, 열의 크기)\n",
    "\n",
    "for i in range(n):\n",
    "    \n",
    "    "
   ]
  },
  {
   "cell_type": "markdown",
   "metadata": {},
   "source": [
    "### Generate New Images"
   ]
  },
  {
   "cell_type": "code",
   "execution_count": 20,
   "metadata": {},
   "outputs": [],
   "source": [
    "for i in range(10):\n",
    "    with torch.no_grad():\n",
    "        sample_z = torch.randn(64,2).to(device)\n",
    "        input_z = sample_z\n",
    "        sample = model.decode(input_z).cpu()\n",
    "        save_image(sample.reshape(64, 1, 28, 28),\n",
    "                   './new_images/Basic_VAE_img_' + str(i) + str('_hidden2')+ '.png')"
   ]
  }
 ],
 "metadata": {
  "kernelspec": {
   "display_name": "Python 3",
   "language": "python",
   "name": "python3"
  },
  "language_info": {
   "codemirror_mode": {
    "name": "ipython",
    "version": 3
   },
   "file_extension": ".py",
   "mimetype": "text/x-python",
   "name": "python",
   "nbconvert_exporter": "python",
   "pygments_lexer": "ipython3",
   "version": "3.8.5"
  }
 },
 "nbformat": 4,
 "nbformat_minor": 4
}
