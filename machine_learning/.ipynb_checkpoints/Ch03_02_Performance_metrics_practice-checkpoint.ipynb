{
 "cells": [
  {
   "cell_type": "markdown",
   "metadata": {},
   "source": [
    "## Chap03) Classification\n",
    "## Logistic Regression"
   ]
  },
  {
   "attachments": {},
   "cell_type": "markdown",
   "metadata": {},
   "source": [
    "![1_1.png](./materials/1_1.png)"
   ]
  },
  {
   "cell_type": "code",
   "execution_count": 3,
   "metadata": {},
   "outputs": [],
   "source": [
    "import numpy as np\n",
    "import matplotlib.pyplot as plt\n",
    "import pandas as pd"
   ]
  },
  {
   "cell_type": "code",
   "execution_count": 4,
   "metadata": {},
   "outputs": [],
   "source": [
    "x = np.array([6,8,12,15,20])\n",
    "y = np.array([7,11,13,20.5, 19.3])"
   ]
  },
  {
   "cell_type": "code",
   "execution_count": 5,
   "metadata": {
    "scrolled": true
   },
   "outputs": [
    {
     "data": {
      "image/png": "[encoded data removed]",
      "text/plain": [
       "<Figure size 432x288 with 1 Axes>"
      ]
     },
     "metadata": {
      "image/png": {
       "height": 281,
       "width": 392
      }
     },
     "output_type": "display_data"
    }
   ],
   "source": [
    "plt.figure()\n",
    "plt.plot(x, y, 'o')\n",
    "plt.title('Example')\n",
    "plt.xlabel('x')\n",
    "plt.ylabel('y')\n",
    "plt.axis([0, 30, 0, 30])\n",
    "plt.grid()"
   ]
  },
  {
   "cell_type": "markdown",
   "metadata": {},
   "source": [
    "## 1)Dataset"
   ]
  },
  {
   "cell_type": "markdown",
   "metadata": {},
   "source": [
    "#### -데이터 분석에 사용할 데이터를 Scikit learn으로부터 불러온다  \n",
    "Breast_cancer Dataset  \n",
    "Malignant(악성), Benign(양성)  \n",
    "Dataset info LINK : https://scikit-learn.org/stable/datasets/index.html"
   ]
  },
  {
   "cell_type": "markdown",
   "metadata": {},
   "source": [
    "#### -위스콘신대 유방암 진단 데이터(WDBC)\n",
    "- class   : 2\n",
    "- 샘플수 : 569개\n",
    "- Feature : 32개 (ID, 진단결과, 30개의 실측값) \n",
    "- Samples per class : 212(M, labeled '0'), 357(B, labeled '1')\n",
    "\n",
    "-유방암 데이터로 악성(M), 양성(B) 판단하는 모델 만들기"
   ]
  },
  {
   "cell_type": "code",
   "execution_count": 4,
   "metadata": {},
   "outputs": [],
   "source": [
    "from sklearn.datasets import load_breast_cancer\n",
    "from sklearn.linear_model import LogisticRegression\n",
    "\n",
    "cancer = load_breast_cancer()\n",
    "\n",
    "#print(cancer['DESCR'][:3000])"
   ]
  },
  {
   "cell_type": "code",
   "execution_count": 5,
   "metadata": {},
   "outputs": [],
   "source": [
    "#cancer"
   ]
  },
  {
   "cell_type": "code",
   "execution_count": 6,
   "metadata": {},
   "outputs": [],
   "source": [
    "#cancer.feature_names"
   ]
  },
  {
   "cell_type": "code",
   "execution_count": 7,
   "metadata": {},
   "outputs": [
    {
     "data": {
      "text/html": [
       "<div>\n",
       "<style scoped>\n",
       "    .dataframe tbody tr th:only-of-type {\n",
       "        vertical-align: middle;\n",
       "    }\n",
       "\n",
       "    .dataframe tbody tr th {\n",
       "        vertical-align: top;\n",
       "    }\n",
       "\n",
       "    .dataframe thead th {\n",
       "        text-align: right;\n",
       "    }\n",
       "</style>\n",
       "<table border=\"1\" class=\"dataframe\">\n",
       "  <thead>\n",
       "    <tr style=\"text-align: right;\">\n",
       "      <th></th>\n",
       "      <th>0</th>\n",
       "      <th>1</th>\n",
       "      <th>2</th>\n",
       "      <th>3</th>\n",
       "      <th>4</th>\n",
       "      <th>5</th>\n",
       "      <th>6</th>\n",
       "      <th>7</th>\n",
       "      <th>8</th>\n",
       "      <th>9</th>\n",
       "      <th>...</th>\n",
       "      <th>20</th>\n",
       "      <th>21</th>\n",
       "      <th>22</th>\n",
       "      <th>23</th>\n",
       "      <th>24</th>\n",
       "      <th>25</th>\n",
       "      <th>26</th>\n",
       "      <th>27</th>\n",
       "      <th>28</th>\n",
       "      <th>29</th>\n",
       "    </tr>\n",
       "  </thead>\n",
       "  <tbody>\n",
       "    <tr>\n",
       "      <th>0</th>\n",
       "      <td>17.99</td>\n",
       "      <td>10.38</td>\n",
       "      <td>122.80</td>\n",
       "      <td>1001.0</td>\n",
       "      <td>0.11840</td>\n",
       "      <td>0.27760</td>\n",
       "      <td>0.3001</td>\n",
       "      <td>0.14710</td>\n",
       "      <td>0.2419</td>\n",
       "      <td>0.07871</td>\n",
       "      <td>...</td>\n",
       "      <td>25.38</td>\n",
       "      <td>17.33</td>\n",
       "      <td>184.60</td>\n",
       "      <td>2019.0</td>\n",
       "      <td>0.1622</td>\n",
       "      <td>0.6656</td>\n",
       "      <td>0.7119</td>\n",
       "      <td>0.2654</td>\n",
       "      <td>0.4601</td>\n",
       "      <td>0.11890</td>\n",
       "    </tr>\n",
       "    <tr>\n",
       "      <th>1</th>\n",
       "      <td>20.57</td>\n",
       "      <td>17.77</td>\n",
       "      <td>132.90</td>\n",
       "      <td>1326.0</td>\n",
       "      <td>0.08474</td>\n",
       "      <td>0.07864</td>\n",
       "      <td>0.0869</td>\n",
       "      <td>0.07017</td>\n",
       "      <td>0.1812</td>\n",
       "      <td>0.05667</td>\n",
       "      <td>...</td>\n",
       "      <td>24.99</td>\n",
       "      <td>23.41</td>\n",
       "      <td>158.80</td>\n",
       "      <td>1956.0</td>\n",
       "      <td>0.1238</td>\n",
       "      <td>0.1866</td>\n",
       "      <td>0.2416</td>\n",
       "      <td>0.1860</td>\n",
       "      <td>0.2750</td>\n",
       "      <td>0.08902</td>\n",
       "    </tr>\n",
       "    <tr>\n",
       "      <th>2</th>\n",
       "      <td>19.69</td>\n",
       "      <td>21.25</td>\n",
       "      <td>130.00</td>\n",
       "      <td>1203.0</td>\n",
       "      <td>0.10960</td>\n",
       "      <td>0.15990</td>\n",
       "      <td>0.1974</td>\n",
       "      <td>0.12790</td>\n",
       "      <td>0.2069</td>\n",
       "      <td>0.05999</td>\n",
       "      <td>...</td>\n",
       "      <td>23.57</td>\n",
       "      <td>25.53</td>\n",
       "      <td>152.50</td>\n",
       "      <td>1709.0</td>\n",
       "      <td>0.1444</td>\n",
       "      <td>0.4245</td>\n",
       "      <td>0.4504</td>\n",
       "      <td>0.2430</td>\n",
       "      <td>0.3613</td>\n",
       "      <td>0.08758</td>\n",
       "    </tr>\n",
       "    <tr>\n",
       "      <th>3</th>\n",
       "      <td>11.42</td>\n",
       "      <td>20.38</td>\n",
       "      <td>77.58</td>\n",
       "      <td>386.1</td>\n",
       "      <td>0.14250</td>\n",
       "      <td>0.28390</td>\n",
       "      <td>0.2414</td>\n",
       "      <td>0.10520</td>\n",
       "      <td>0.2597</td>\n",
       "      <td>0.09744</td>\n",
       "      <td>...</td>\n",
       "      <td>14.91</td>\n",
       "      <td>26.50</td>\n",
       "      <td>98.87</td>\n",
       "      <td>567.7</td>\n",
       "      <td>0.2098</td>\n",
       "      <td>0.8663</td>\n",
       "      <td>0.6869</td>\n",
       "      <td>0.2575</td>\n",
       "      <td>0.6638</td>\n",
       "      <td>0.17300</td>\n",
       "    </tr>\n",
       "    <tr>\n",
       "      <th>4</th>\n",
       "      <td>20.29</td>\n",
       "      <td>14.34</td>\n",
       "      <td>135.10</td>\n",
       "      <td>1297.0</td>\n",
       "      <td>0.10030</td>\n",
       "      <td>0.13280</td>\n",
       "      <td>0.1980</td>\n",
       "      <td>0.10430</td>\n",
       "      <td>0.1809</td>\n",
       "      <td>0.05883</td>\n",
       "      <td>...</td>\n",
       "      <td>22.54</td>\n",
       "      <td>16.67</td>\n",
       "      <td>152.20</td>\n",
       "      <td>1575.0</td>\n",
       "      <td>0.1374</td>\n",
       "      <td>0.2050</td>\n",
       "      <td>0.4000</td>\n",
       "      <td>0.1625</td>\n",
       "      <td>0.2364</td>\n",
       "      <td>0.07678</td>\n",
       "    </tr>\n",
       "  </tbody>\n",
       "</table>\n",
       "<p>5 rows × 30 columns</p>\n",
       "</div>"
      ],
      "text/plain": [
       "      0      1       2       3        4        5       6        7       8   \\\n",
       "0  17.99  10.38  122.80  1001.0  0.11840  0.27760  0.3001  0.14710  0.2419   \n",
       "1  20.57  17.77  132.90  1326.0  0.08474  0.07864  0.0869  0.07017  0.1812   \n",
       "2  19.69  21.25  130.00  1203.0  0.10960  0.15990  0.1974  0.12790  0.2069   \n",
       "3  11.42  20.38   77.58   386.1  0.14250  0.28390  0.2414  0.10520  0.2597   \n",
       "4  20.29  14.34  135.10  1297.0  0.10030  0.13280  0.1980  0.10430  0.1809   \n",
       "\n",
       "        9   ...     20     21      22      23      24      25      26      27  \\\n",
       "0  0.07871  ...  25.38  17.33  184.60  2019.0  0.1622  0.6656  0.7119  0.2654   \n",
       "1  0.05667  ...  24.99  23.41  158.80  1956.0  0.1238  0.1866  0.2416  0.1860   \n",
       "2  0.05999  ...  23.57  25.53  152.50  1709.0  0.1444  0.4245  0.4504  0.2430   \n",
       "3  0.09744  ...  14.91  26.50   98.87   567.7  0.2098  0.8663  0.6869  0.2575   \n",
       "4  0.05883  ...  22.54  16.67  152.20  1575.0  0.1374  0.2050  0.4000  0.1625   \n",
       "\n",
       "       28       29  \n",
       "0  0.4601  0.11890  \n",
       "1  0.2750  0.08902  \n",
       "2  0.3613  0.08758  \n",
       "3  0.6638  0.17300  \n",
       "4  0.2364  0.07678  \n",
       "\n",
       "[5 rows x 30 columns]"
      ]
     },
     "execution_count": 7,
     "metadata": {},
     "output_type": "execute_result"
    }
   ],
   "source": [
    "x=pd.DataFrame(cancer.data)\n",
    "y=pd.Series(cancer.target)\n",
    "#print(x.shape)\n",
    "#print(y.shape)\n",
    "x.head()"
   ]
  },
  {
   "cell_type": "code",
   "execution_count": 8,
   "metadata": {},
   "outputs": [],
   "source": [
    "# 데이터 나누기\n",
    "from sklearn.model_selection import train_test_split\n",
    "\n",
    "x_train, x_test, y_train, y_test = train_test_split(x.values, y.values, test_size=0.3, random_state=1234)"
   ]
  },
  {
   "cell_type": "markdown",
   "metadata": {},
   "source": [
    "## 2) Model"
   ]
  },
  {
   "cell_type": "markdown",
   "metadata": {},
   "source": [
    "#### - Scikit learn 에서 제공하는 Logistic Regression 라이브러리를 가지고 와서 모델로 사용한다"
   ]
  },
  {
   "cell_type": "code",
   "execution_count": 9,
   "metadata": {
    "scrolled": true
   },
   "outputs": [
    {
     "name": "stderr",
     "output_type": "stream",
     "text": [
      "C:\\Users\\chosm\\anaconda3\\lib\\site-packages\\sklearn\\linear_model\\_logistic.py:940: ConvergenceWarning: lbfgs failed to converge (status=1):\n",
      "STOP: TOTAL NO. of ITERATIONS REACHED LIMIT.\n",
      "\n",
      "Increase the number of iterations (max_iter) or scale the data as shown in:\n",
      "    https://scikit-learn.org/stable/modules/preprocessing.html\n",
      "Please also refer to the documentation for alternative solver options:\n",
      "    https://scikit-learn.org/stable/modules/linear_model.html#logistic-regression\n",
      "  extra_warning_msg=_LOGISTIC_SOLVER_CONVERGENCE_MSG)\n"
     ]
    }
   ],
   "source": [
    "from sklearn.linear_model import LogisticRegression \n",
    "\n",
    "model= LogisticRegression(solver= 'lbfgs').fit(x_train, y_train)"
   ]
  },
  {
   "cell_type": "code",
   "execution_count": 10,
   "metadata": {},
   "outputs": [
    {
     "name": "stdout",
     "output_type": "stream",
     "text": [
      "[[ 0.83878526  0.46479295  0.31973505 -0.01308009 -0.02919737 -0.15176881\n",
      "  -0.19618968 -0.08265688 -0.03111173 -0.00774087  0.03912154  0.31731821\n",
      "   0.03634961 -0.08858753 -0.00118508 -0.03115576 -0.0350857  -0.00971754\n",
      "  -0.00214444 -0.00329745  0.92757349 -0.52317324 -0.25295857 -0.01632211\n",
      "  -0.05368921 -0.4963069  -0.56855672 -0.16557227 -0.10666614 -0.04859206]]\n",
      "(1, 30)\n"
     ]
    },
    {
     "data": {
      "text/plain": [
       "array([0.17779868])"
      ]
     },
     "execution_count": 10,
     "metadata": {},
     "output_type": "execute_result"
    }
   ],
   "source": [
    "print(model.coef_)\n",
    "print(model.coef_.shape)\n",
    "model.intercept_"
   ]
  },
  {
   "cell_type": "code",
   "execution_count": 11,
   "metadata": {},
   "outputs": [
    {
     "name": "stdout",
     "output_type": "stream",
     "text": [
      "Train Accuracy :  0.957286432160804\n",
      "Test Accuracy :  0.9122807017543859\n"
     ]
    }
   ],
   "source": [
    "print('Train Accuracy : ', model.score(x_train, y_train))\n",
    "print('Test Accuracy : ',model.score(x_test, y_test))"
   ]
  },
  {
   "cell_type": "markdown",
   "metadata": {},
   "source": [
    "## 3) Hyperparameter조정  \n",
    " -C: 정규화 규제 조절 상수  \n",
    " -solver: 최적화에 사용할 알고리즘 결정   \n",
    " -max_iter: 최적화가 수렴하게 만드는 최대 반복 횟수 값   (default=100)  \n",
    " -penalty: L1, L2 제약 조건 설정  \n",
    " -class_weight: 데이터의 Positive에 직접 가중치를 설정하여 학습의 강도 조절  "
   ]
  },
  {
   "cell_type": "markdown",
   "metadata": {},
   "source": [
    "### -C값 조절 (&max_iter)"
   ]
  },
  {
   "cell_type": "code",
   "execution_count": 12,
   "metadata": {},
   "outputs": [
    {
     "name": "stdout",
     "output_type": "stream",
     "text": [
      "Train Accuracy :  0.9597989949748744\n",
      "Train Accuracy :  0.9623115577889447\n",
      "Train Accuracy :  0.9723618090452262\n",
      "Train Accuracy :  0.9824120603015075\n",
      "Train Accuracy :  0.9874371859296482\n"
     ]
    },
    {
     "name": "stderr",
     "output_type": "stream",
     "text": [
      "C:\\Users\\chosm\\anaconda3\\lib\\site-packages\\sklearn\\linear_model\\_logistic.py:940: ConvergenceWarning: lbfgs failed to converge (status=1):\n",
      "STOP: TOTAL NO. of ITERATIONS REACHED LIMIT.\n",
      "\n",
      "Increase the number of iterations (max_iter) or scale the data as shown in:\n",
      "    https://scikit-learn.org/stable/modules/preprocessing.html\n",
      "Please also refer to the documentation for alternative solver options:\n",
      "    https://scikit-learn.org/stable/modules/linear_model.html#logistic-regression\n",
      "  extra_warning_msg=_LOGISTIC_SOLVER_CONVERGENCE_MSG)\n"
     ]
    }
   ],
   "source": [
    "model1 = LogisticRegression(C=0.01, solver='lbfgs', max_iter=5000).fit(x_train, y_train)\n",
    "model2 = LogisticRegression(C=0.1, solver='lbfgs', max_iter=5000).fit(x_train, y_train)\n",
    "model3 = LogisticRegression(C=1, solver='lbfgs', max_iter=5000).fit(x_train, y_train)\n",
    "model4 = LogisticRegression(C=10, solver='lbfgs', max_iter=5000).fit(x_train, y_train)\n",
    "model5 = LogisticRegression(C=100, solver='lbfgs', max_iter=5000).fit(x_train, y_train)\n",
    "\n",
    "print('Train Accuracy : ', model1.score(x_train, y_train))\n",
    "print('Train Accuracy : ', model2.score(x_train, y_train))\n",
    "print('Train Accuracy : ', model3.score(x_train, y_train))\n",
    "print('Train Accuracy : ', model4.score(x_train, y_train))\n",
    "print('Train Accuracy : ', model5.score(x_train, y_train))"
   ]
  },
  {
   "cell_type": "code",
   "execution_count": 13,
   "metadata": {},
   "outputs": [
    {
     "name": "stdout",
     "output_type": "stream",
     "text": [
      "Test Accuracy :  0.9298245614035088\n",
      "Test Accuracy :  0.9298245614035088\n",
      "Test Accuracy :  0.935672514619883\n",
      "Test Accuracy :  0.9473684210526315\n",
      "Test Accuracy :  0.9415204678362573\n"
     ]
    }
   ],
   "source": [
    "print('Test Accuracy : ', model1.score(x_test, y_test))\n",
    "print('Test Accuracy : ', model2.score(x_test, y_test))\n",
    "print('Test Accuracy : ', model3.score(x_test, y_test))\n",
    "print('Test Accuracy : ', model4.score(x_test, y_test))\n",
    "print('Test Accuracy : ', model5.score(x_test, y_test))"
   ]
  },
  {
   "cell_type": "code",
   "execution_count": 14,
   "metadata": {},
   "outputs": [
    {
     "data": {
      "text/plain": [
       "<matplotlib.legend.Legend at 0x24df7a40a08>"
      ]
     },
     "execution_count": 14,
     "metadata": {},
     "output_type": "execute_result"
    },
    {
     "data": {
      "image/png": "[encoded data removed]",
      "text/plain": [
       "<Figure size 720x504 with 1 Axes>"
      ]
     },
     "metadata": {
      "needs_background": "light"
     },
     "output_type": "display_data"
    }
   ],
   "source": [
    "plt.figure(figsize= (10,7))  #figsize 그래프 크기 조절\n",
    "\n",
    "plt.plot(model1.coef_.T, '^b', label=\"C= 0.01\") \n",
    "plt.plot(model3.coef_.T, '<c', label=\"C= 1\")\n",
    "plt.plot(model5.coef_.T, '>m', label=\"C= 100\")\n",
    "\n",
    "plt.xticks(range(cancer.data.shape[1]), cancer.feature_names, rotation=90) # X축 범주 넣기\n",
    "\n",
    "xlims = plt.xlim(-1,30)\n",
    "plt.hlines(0, -1, 30) # 수평선 긋기  hlines(y값, x최소값, x최대값)\n",
    "plt.xlim(xlims)\n",
    "plt.ylim(-5,5)\n",
    "plt.xlabel(\"Feature\")\n",
    "plt.ylabel(\"Coefficient value\")\n",
    "plt.legend()"
   ]
  },
  {
   "cell_type": "markdown",
   "metadata": {},
   "source": [
    "### -L2 정규화 적용"
   ]
  },
  {
   "cell_type": "code",
   "execution_count": 15,
   "metadata": {},
   "outputs": [
    {
     "name": "stdout",
     "output_type": "stream",
     "text": [
      "Train Accuracy :  0.9597989949748744\n",
      "Train Accuracy :  0.9623115577889447\n",
      "Train Accuracy :  0.9723618090452262\n",
      "Train Accuracy :  0.9824120603015075\n",
      "Train Accuracy :  0.9874371859296482\n"
     ]
    },
    {
     "name": "stderr",
     "output_type": "stream",
     "text": [
      "C:\\Users\\chosm\\anaconda3\\lib\\site-packages\\sklearn\\linear_model\\_logistic.py:940: ConvergenceWarning: lbfgs failed to converge (status=1):\n",
      "STOP: TOTAL NO. of ITERATIONS REACHED LIMIT.\n",
      "\n",
      "Increase the number of iterations (max_iter) or scale the data as shown in:\n",
      "    https://scikit-learn.org/stable/modules/preprocessing.html\n",
      "Please also refer to the documentation for alternative solver options:\n",
      "    https://scikit-learn.org/stable/modules/linear_model.html#logistic-regression\n",
      "  extra_warning_msg=_LOGISTIC_SOLVER_CONVERGENCE_MSG)\n"
     ]
    }
   ],
   "source": [
    "l2_model1 = LogisticRegression(penalty='l2', C=0.01, solver='lbfgs', max_iter=5000).fit(x_train, y_train)\n",
    "l2_model2 = LogisticRegression(penalty='l2',C=0.1, solver='lbfgs', max_iter=5000).fit(x_train, y_train)\n",
    "l2_model3 = LogisticRegression(penalty='l2',C=1, solver='lbfgs', max_iter=5000).fit(x_train, y_train)\n",
    "l2_model4 = LogisticRegression(penalty='l2',C=10, solver='lbfgs', max_iter=5000).fit(x_train, y_train)\n",
    "l2_model5 = LogisticRegression(penalty='l2',C=100, solver='lbfgs', max_iter=5000).fit(x_train, y_train)\n",
    "\n",
    "print('Train Accuracy : ', l2_model1.score(x_train, y_train))\n",
    "print('Train Accuracy : ', l2_model2.score(x_train, y_train))\n",
    "print('Train Accuracy : ', l2_model3.score(x_train, y_train))\n",
    "print('Train Accuracy : ', l2_model4.score(x_train, y_train))\n",
    "print('Train Accuracy : ', l2_model5.score(x_train, y_train))"
   ]
  },
  {
   "cell_type": "code",
   "execution_count": 16,
   "metadata": {},
   "outputs": [
    {
     "name": "stdout",
     "output_type": "stream",
     "text": [
      "Test Accuracy :  0.9298245614035088\n",
      "Test Accuracy :  0.9298245614035088\n",
      "Test Accuracy :  0.935672514619883\n",
      "Test Accuracy :  0.9473684210526315\n",
      "Test Accuracy :  0.9415204678362573\n"
     ]
    }
   ],
   "source": [
    "print('Test Accuracy : ', l2_model1.score(x_test, y_test))\n",
    "print('Test Accuracy : ', l2_model2.score(x_test, y_test))\n",
    "print('Test Accuracy : ', l2_model3.score(x_test, y_test))\n",
    "print('Test Accuracy : ', l2_model4.score(x_test, y_test))\n",
    "print('Test Accuracy : ', l2_model5.score(x_test, y_test))"
   ]
  },
  {
   "cell_type": "code",
   "execution_count": 17,
   "metadata": {},
   "outputs": [
    {
     "data": {
      "text/plain": [
       "<matplotlib.legend.Legend at 0x24df7adbfc8>"
      ]
     },
     "execution_count": 17,
     "metadata": {},
     "output_type": "execute_result"
    },
    {
     "data": {
      "image/png": "[encoded data removed]",
      "text/plain": [
       "<Figure size 720x504 with 1 Axes>"
      ]
     },
     "metadata": {
      "needs_background": "light"
     },
     "output_type": "display_data"
    }
   ],
   "source": [
    "plt.figure(figsize= (10,7))\n",
    "\n",
    "plt.plot(l2_model1.coef_.T, '^b', label=\"C= 0.01\")\n",
    "plt.plot(l2_model3.coef_.T, '<c', label=\"C= 1\")\n",
    "plt.plot(l2_model5.coef_.T, '>m', label=\"C= 100\")\n",
    "\n",
    "plt.xticks(range(cancer.data.shape[1]), cancer.feature_names, rotation=90)\n",
    "\n",
    "xlims = plt.xlim()\n",
    "plt.hlines(0, xlims[0], xlims[1])\n",
    "plt.xlim(xlims)\n",
    "plt.ylim(-5,5)\n",
    "plt.xlabel(\"Feature\")\n",
    "plt.ylabel(\"Coefficient value\")\n",
    "plt.legend()"
   ]
  },
  {
   "cell_type": "markdown",
   "metadata": {},
   "source": [
    "### L1 정규화 적용"
   ]
  },
  {
   "cell_type": "code",
   "execution_count": 18,
   "metadata": {},
   "outputs": [
    {
     "name": "stdout",
     "output_type": "stream",
     "text": [
      "Train Accuracy :  0.9271356783919598\n",
      "Train Accuracy :  0.9422110552763819\n",
      "Train Accuracy :  0.9673366834170855\n",
      "Train Accuracy :  0.9824120603015075\n",
      "Train Accuracy :  0.9974874371859297\n"
     ]
    }
   ],
   "source": [
    "l1_model1 = LogisticRegression(penalty='l1', C=0.01, solver='liblinear', max_iter=5000).fit(x_train, y_train)\n",
    "l1_model2 = LogisticRegression(penalty='l1',C=0.1, solver='liblinear', max_iter=5000).fit(x_train, y_train)\n",
    "l1_model3 = LogisticRegression(penalty='l1',C=1, solver='liblinear', max_iter=5000).fit(x_train, y_train)\n",
    "l1_model4 = LogisticRegression(penalty='l1',C=10, solver='liblinear', max_iter=5000).fit(x_train, y_train)\n",
    "l1_model5 = LogisticRegression(penalty='l1',C=100, solver='liblinear', max_iter=5000).fit(x_train, y_train)\n",
    "\n",
    "print('Train Accuracy : ', l1_model1.score(x_train, y_train))\n",
    "print('Train Accuracy : ', l1_model2.score(x_train, y_train))\n",
    "print('Train Accuracy : ', l1_model3.score(x_train, y_train))\n",
    "print('Train Accuracy : ', l1_model4.score(x_train, y_train))\n",
    "print('Train Accuracy : ', l1_model5.score(x_train, y_train))"
   ]
  },
  {
   "cell_type": "code",
   "execution_count": 19,
   "metadata": {},
   "outputs": [
    {
     "name": "stdout",
     "output_type": "stream",
     "text": [
      "Test Accuracy :  0.9181286549707602\n",
      "Test Accuracy :  0.9239766081871345\n",
      "Test Accuracy :  0.935672514619883\n",
      "Test Accuracy :  0.9415204678362573\n",
      "Test Accuracy :  0.9532163742690059\n"
     ]
    }
   ],
   "source": [
    "print('Test Accuracy : ', l1_model1.score(x_test, y_test))\n",
    "print('Test Accuracy : ', l1_model2.score(x_test, y_test))\n",
    "print('Test Accuracy : ', l1_model3.score(x_test, y_test))\n",
    "print('Test Accuracy : ', l1_model4.score(x_test, y_test))\n",
    "print('Test Accuracy : ', l1_model5.score(x_test, y_test))"
   ]
  },
  {
   "cell_type": "code",
   "execution_count": 20,
   "metadata": {
    "scrolled": false
   },
   "outputs": [
    {
     "data": {
      "text/plain": [
       "<matplotlib.legend.Legend at 0x24df7ba1b08>"
      ]
     },
     "execution_count": 20,
     "metadata": {},
     "output_type": "execute_result"
    },
    {
     "data": {
      "image/png": "[encoded data removed]",
      "text/plain": [
       "<Figure size 720x504 with 1 Axes>"
      ]
     },
     "metadata": {
      "needs_background": "light"
     },
     "output_type": "display_data"
    }
   ],
   "source": [
    "plt.figure(figsize= (10,7))\n",
    "\n",
    "plt.plot(l1_model1.coef_.T, '^b', label=\"C= 0.01\")\n",
    "plt.plot(l1_model3.coef_.T, '<c', label=\"C= 1\")\n",
    "plt.plot(l1_model5.coef_.T, '>m', label=\"C= 100\")\n",
    "\n",
    "plt.xticks(range(cancer.data.shape[1]), cancer.feature_names, rotation=90)\n",
    "\n",
    "xlims = plt.xlim()\n",
    "plt.hlines(0, xlims[0], xlims[1])\n",
    "plt.xlim(xlims)\n",
    "plt.ylim(-5,5)\n",
    "plt.xlabel(\"Feature\")\n",
    "plt.ylabel(\"Coefficient value\")\n",
    "plt.legend()"
   ]
  },
  {
   "cell_type": "markdown",
   "metadata": {},
   "source": [
    "## 4.성능평가"
   ]
  },
  {
   "cell_type": "markdown",
   "metadata": {},
   "source": [
    "### -최종모델 선정"
   ]
  },
  {
   "cell_type": "code",
   "execution_count": 21,
   "metadata": {},
   "outputs": [],
   "source": [
    "\n",
    "final_model = LogisticRegression(penalty='l1',\n",
    "                                 C=100, \n",
    "                                 solver='liblinear', \n",
    "                                 max_iter=5000).fit(x_train, y_train)\n"
   ]
  },
  {
   "cell_type": "code",
   "execution_count": 22,
   "metadata": {},
   "outputs": [
    {
     "data": {
      "text/plain": [
       "array([1, 1, 1, 1, 1, 1, 0, 1, 0, 0, 0, 1, 1, 1, 1, 0, 1, 1, 1, 0, 1, 0,\n",
       "       0, 0, 0, 1, 0, 1, 1, 1, 1, 1, 0, 1, 1, 1, 1, 0, 0, 1, 0, 1, 0, 1,\n",
       "       1, 1, 1, 1, 0, 1, 1, 1, 1, 0, 1, 1, 1, 1, 1, 0, 1, 1, 1, 1, 1, 0,\n",
       "       0, 1, 1, 1, 1, 0, 1, 0, 1, 1, 1, 0, 1, 0, 1, 1, 1, 0, 0, 0, 0, 0,\n",
       "       1, 0, 1, 1, 1, 0, 0, 1, 1, 1, 1, 1, 0, 0, 1, 1, 0, 1, 1, 0, 0, 1,\n",
       "       0, 1, 0, 0, 1, 1, 1, 0, 1, 0, 1, 1, 1, 1, 0, 1, 0, 0, 1, 1, 0, 1,\n",
       "       0, 1, 0, 1, 1, 0, 1, 0, 1, 0, 0, 1, 0, 1, 1, 1, 0, 0, 1, 1, 0, 1,\n",
       "       1, 1, 1, 0, 0, 1, 1, 1, 0, 1, 1, 0, 1, 1, 1, 1, 0])"
      ]
     },
     "execution_count": 22,
     "metadata": {},
     "output_type": "execute_result"
    }
   ],
   "source": [
    "pred_train = final_model.predict(x_train)\n",
    "pred_test = final_model.predict(x_test)\n",
    "pred_test"
   ]
  },
  {
   "cell_type": "markdown",
   "metadata": {},
   "source": [
    "### - 성능 평가"
   ]
  },
  {
   "cell_type": "code",
   "execution_count": 37,
   "metadata": {},
   "outputs": [
    {
     "name": "stdout",
     "output_type": "stream",
     "text": [
      "<Confusion matrix>\n",
      "[[ 60   6]\n",
      " [  2 103]]\n",
      "Accuracy:0.95, Precision: 0.94, Recall: 0.98, F1-score: 0.96\n"
     ]
    }
   ],
   "source": [
    "from sklearn.metrics import confusion_matrix, accuracy_score, precision_score, recall_score, f1_score\n",
    "\n",
    "confusion = \n",
    "acc       = accuracy_score(y_test, pred_test)\n",
    "prc       = \n",
    "rec       = \n",
    "f1s       = \n",
    "\n",
    "print('<Confusion matrix>')\n",
    "print(confusion)\n",
    "print(f'Accuracy:{acc:.2f}, Precision: {prc:.2f}, Recall: {rec:.2f}, F1-score: {f1s:.2f}')"
   ]
  },
  {
   "cell_type": "code",
   "execution_count": 28,
   "metadata": {},
   "outputs": [
    {
     "name": "stdout",
     "output_type": "stream",
     "text": [
      "              precision    recall  f1-score   support\n",
      "\n",
      "           0       0.97      0.91      0.94        66\n",
      "           1       0.94      0.98      0.96       105\n",
      "\n",
      "    accuracy                           0.95       171\n",
      "   macro avg       0.96      0.95      0.95       171\n",
      "weighted avg       0.95      0.95      0.95       171\n",
      "\n"
     ]
    }
   ],
   "source": [
    "from sklearn.metrics import classification_report\n",
    "\n",
    "report = classification_report(y_test, pred_test)\n",
    "print(report)"
   ]
  },
  {
   "cell_type": "markdown",
   "metadata": {},
   "source": [
    "### -정확도(Precision) 과 재현율(Recall)"
   ]
  },
  {
   "cell_type": "code",
   "execution_count": 29,
   "metadata": {},
   "outputs": [
    {
     "name": "stdout",
     "output_type": "stream",
     "text": [
      "(114,)\n",
      "(113,)\n"
     ]
    }
   ],
   "source": [
    "from sklearn.metrics import precision_recall_curve\n",
    "\n",
    "precisions, recalls, thresholds = \n",
    "print(precisions.shape)\n",
    "print(thresholds.shape)"
   ]
  },
  {
   "cell_type": "code",
   "execution_count": 30,
   "metadata": {},
   "outputs": [
    {
     "data": {
      "text/plain": [
       "<matplotlib.legend.Legend at 0x24df7dc2ec8>"
      ]
     },
     "execution_count": 30,
     "metadata": {},
     "output_type": "execute_result"
    },
    {
     "data": {
      "image/png": "[encoded data removed]",
      "text/plain": [
       "<Figure size 432x288 with 1 Axes>"
      ]
     },
     "metadata": {
      "needs_background": "light"
     },
     "output_type": "display_data"
    }
   ],
   "source": [
    "# Threshold 와 관계\n",
    "plt.figure()\n",
    "plt.plot(thresholds, ? , label = 'precision') # precision 마지막 값은 1이 포함, 마지막 값 제외\n",
    "plt.plot(thresholds, ? , label = 'recall')  # recall의 마지막 값은 0이 포함, 마지막 값 제외\n",
    "plt.xlabel('threshold')\n",
    "plt.ylim([0.92,1])\n",
    "plt.legend(loc = 'upper right') # upper/ center/ lower"
   ]
  },
  {
   "cell_type": "markdown",
   "metadata": {},
   "source": [
    "* threshold 조절"
   ]
  },
  {
   "cell_type": "code",
   "execution_count": 31,
   "metadata": {},
   "outputs": [
    {
     "data": {
      "text/plain": [
       "array([0.998, 1.   , 1.   , 1.   , 1.   , 1.   , 0.   , 1.   , 0.   ,\n",
       "       0.   , 0.   , 0.998, 1.   , 0.997, 1.   , 0.   , 1.   , 1.   ,\n",
       "       1.   , 0.   , 1.   , 0.   , 0.   , 0.   , 0.   , 0.999, 0.   ,\n",
       "       1.   , 1.   , 1.   , 1.   , 1.   , 0.   , 1.   , 0.997, 1.   ,\n",
       "       1.   , 0.   , 0.45 , 1.   , 0.   , 1.   , 0.   , 0.995, 0.989,\n",
       "       1.   , 1.   , 0.999, 0.   , 0.999, 0.968, 1.   , 1.   , 0.   ,\n",
       "       0.924, 1.   , 1.   , 1.   , 1.   , 0.   , 0.987, 1.   , 0.996,\n",
       "       1.   , 1.   , 0.   , 0.   , 1.   , 1.   , 0.961, 1.   , 0.   ,\n",
       "       1.   , 0.   , 1.   , 1.   , 1.   , 0.   , 1.   , 0.   , 1.   ,\n",
       "       1.   , 0.999, 0.267, 0.   , 0.   , 0.   , 0.   , 0.999, 0.063,\n",
       "       1.   , 1.   , 1.   , 0.   , 0.   , 1.   , 1.   , 1.   , 1.   ,\n",
       "       1.   , 0.   , 0.   , 1.   , 1.   , 0.   , 1.   , 1.   , 0.   ,\n",
       "       0.   , 0.999, 0.   , 1.   , 0.   , 0.   , 0.999, 1.   , 1.   ,\n",
       "       0.   , 1.   , 0.   , 1.   , 1.   , 1.   , 1.   , 0.   , 1.   ,\n",
       "       0.   , 0.   , 1.   , 1.   , 0.428, 1.   , 0.   , 1.   , 0.009,\n",
       "       1.   , 1.   , 0.25 , 1.   , 0.   , 1.   , 0.   , 0.   , 1.   ,\n",
       "       0.   , 1.   , 0.72 , 1.   , 0.   , 0.157, 0.988, 1.   , 0.   ,\n",
       "       1.   , 1.   , 0.528, 0.999, 0.   , 0.   , 0.91 , 1.   , 1.   ,\n",
       "       0.   , 1.   , 1.   , 0.   , 1.   , 0.995, 1.   , 1.   , 0.   ])"
      ]
     },
     "execution_count": 31,
     "metadata": {},
     "output_type": "execute_result"
    }
   ],
   "source": [
    "prob = final_model.predict_proba(x_test)[:, 1] # class 1 에 해당하는 값만 지정\n",
    "prob = np.round(prob,3)  # numpy에서 지정된 소수점 자리까지 반올림\n",
    "prob"
   ]
  },
  {
   "cell_type": "code",
   "execution_count": 32,
   "metadata": {},
   "outputs": [],
   "source": [
    "from sklearn.preprocessing import Binarizer\n",
    "prob = prob.reshape(-1,1) # 차원 추가 \n",
    "adj_prob = ?              # threshold 값보다 작거나 같으면 0 , else 1 "
   ]
  },
  {
   "cell_type": "code",
   "execution_count": 33,
   "metadata": {},
   "outputs": [
    {
     "name": "stdout",
     "output_type": "stream",
     "text": [
      "              precision    recall  f1-score   support\n",
      "\n",
      "           0       0.97      0.94      0.95        66\n",
      "           1       0.96      0.98      0.97       105\n",
      "\n",
      "    accuracy                           0.96       171\n",
      "   macro avg       0.97      0.96      0.96       171\n",
      "weighted avg       0.96      0.96      0.96       171\n",
      "\n"
     ]
    }
   ],
   "source": [
    "#Threshold 값 바뀐 precision, recall 값 확인\n",
    "report = classification_report(y_test, adj_prob)\n",
    "print(report)"
   ]
  },
  {
   "cell_type": "code",
   "execution_count": null,
   "metadata": {},
   "outputs": [],
   "source": []
  }
 ],
 "metadata": {
  "kernelspec": {
   "display_name": "Python 3",
   "language": "python",
   "name": "python3"
  },
  "language_info": {
   "codemirror_mode": {
    "name": "ipython",
    "version": 3
   },
   "file_extension": ".py",
   "mimetype": "text/x-python",
   "name": "python",
   "nbconvert_exporter": "python",
   "pygments_lexer": "ipython3",
   "version": "3.8.5"
  }
 },
 "nbformat": 4,
 "nbformat_minor": 2
}
