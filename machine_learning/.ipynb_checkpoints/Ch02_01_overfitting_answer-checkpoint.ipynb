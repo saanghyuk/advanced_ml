{
 "cells": [
  {
   "cell_type": "markdown",
   "metadata": {},
   "source": [
    "## Graph 상에 임의로 Dot 을 찍어서 차수에 따른 그래프의 변화를 확인한다"
   ]
  },
  {
   "cell_type": "code",
   "execution_count": 1,
   "metadata": {},
   "outputs": [],
   "source": [
    "from sklearn.linear_model import LinearRegression\n",
    "import numpy as np\n",
    "import matplotlib.pyplot as plt"
   ]
  },
  {
   "cell_type": "markdown",
   "metadata": {},
   "source": [
    "### 1차원 그래프"
   ]
  },
  {
   "cell_type": "code",
   "execution_count": 2,
   "metadata": {},
   "outputs": [],
   "source": [
    "X = np.arange(1, 11).reshape(10, 1)\n",
    "y = np.array([7, 8, 7, 13, 16, 15, 19, 23, 18, 21]).reshape(10, 1)"
   ]
  },
  {
   "cell_type": "code",
   "execution_count": 3,
   "metadata": {},
   "outputs": [
    {
     "data": {
      "image/png": "[encoded data removed]",
      "text/plain": [
       "<Figure size 432x288 with 1 Axes>"
      ]
     },
     "metadata": {
      "needs_background": "light"
     },
     "output_type": "display_data"
    }
   ],
   "source": [
    "plt.plot(X, y, 'ro') # bo = blue + circle / use go (green circle)\n",
    "\n",
    "axes = plt.gca() # 현재 figure 의 축을 가져옴\n",
    "axes.set_ylim([0, 30])\n",
    "\n",
    "plt.show()"
   ]
  },
  {
   "cell_type": "markdown",
   "metadata": {},
   "source": [
    "### Perform LinearRegression"
   ]
  },
  {
   "cell_type": "code",
   "execution_count": 4,
   "metadata": {},
   "outputs": [
    {
     "name": "stdout",
     "output_type": "stream",
     "text": [
      "w0:  [4.93333333]\n",
      "w1:  [[1.77575758]]\n"
     ]
    }
   ],
   "source": [
    "reg = LinearRegression()\n",
    "reg.fit(X, y)\n",
    "\n",
    "w0 = reg.intercept_\n",
    "w1 = reg.coef_\n",
    "\n",
    "print('w0: ', w0 )\n",
    "print('w1: ', w1)"
   ]
  },
  {
   "cell_type": "markdown",
   "metadata": {},
   "source": [
    "#### 그래프 plotting"
   ]
  },
  {
   "cell_type": "code",
   "execution_count": 5,
   "metadata": {},
   "outputs": [],
   "source": [
    "y_pred = reg.predict(X)"
   ]
  },
  {
   "cell_type": "code",
   "execution_count": 6,
   "metadata": {},
   "outputs": [
    {
     "data": {
      "image/png": "[encoded data removed]",
      "text/plain": [
       "<Figure size 432x288 with 1 Axes>"
      ]
     },
     "metadata": {
      "needs_background": "light"
     },
     "output_type": "display_data"
    }
   ],
   "source": [
    "plt.plot(X, y, 'ro')\n",
    "plt.plot(X, y_pred) \n",
    "\n",
    "# gca = 그래프의 '축' 을 설정\n",
    "axes = plt.gca()\n",
    "axes.set_xlim([0, 11])\n",
    "axes.set_ylim([0, 30]) # gca 를 이용해 y 의 범위를 0~30으로 늘려준다\n",
    "plt.show()"
   ]
  },
  {
   "cell_type": "markdown",
   "metadata": {},
   "source": [
    "### 2차원 그래프"
   ]
  },
  {
   "cell_type": "code",
   "execution_count": 7,
   "metadata": {},
   "outputs": [
    {
     "data": {
      "text/plain": [
       "array([[  1,   1],\n",
       "       [  2,   4],\n",
       "       [  3,   9],\n",
       "       [  4,  16],\n",
       "       [  5,  25],\n",
       "       [  6,  36],\n",
       "       [  7,  49],\n",
       "       [  8,  64],\n",
       "       [  9,  81],\n",
       "       [ 10, 100]])"
      ]
     },
     "execution_count": 7,
     "metadata": {},
     "output_type": "execute_result"
    }
   ],
   "source": [
    "# np_c => 1차원 배열 두개를 col 방향으로 나열해서 concatenation\n",
    "X_2 = np.c_[X, X**2]\n",
    "X_2"
   ]
  },
  {
   "cell_type": "code",
   "execution_count": 8,
   "metadata": {},
   "outputs": [
    {
     "name": "stdout",
     "output_type": "stream",
     "text": [
      "w0:  [2.43333333]\n",
      "w1:  3.0257575757575697\n",
      "w2:  -0.11363636363636327\n"
     ]
    }
   ],
   "source": [
    "reg = LinearRegression()\n",
    "reg.fit(X_2, y)\n",
    "\n",
    "w0 = reg.intercept_\n",
    "w = reg.coef_\n",
    "\n",
    "print('w0: ', w0 )\n",
    "print('w1: ', w[0][0])\n",
    "print('w2: ', w[0][1])"
   ]
  },
  {
   "cell_type": "code",
   "execution_count": 9,
   "metadata": {},
   "outputs": [
    {
     "name": "stdout",
     "output_type": "stream",
     "text": [
      "[[ 3.02575758 -0.11363636]]\n"
     ]
    }
   ],
   "source": [
    "print(reg.coef_)"
   ]
  },
  {
   "cell_type": "markdown",
   "metadata": {},
   "source": [
    "#### 그래프를 그려보자"
   ]
  },
  {
   "cell_type": "code",
   "execution_count": 10,
   "metadata": {},
   "outputs": [],
   "source": [
    "y_pred_2 = reg.predict(X_2)"
   ]
  },
  {
   "cell_type": "code",
   "execution_count": 11,
   "metadata": {},
   "outputs": [
    {
     "data": {
      "image/png": "[encoded data removed]",
      "text/plain": [
       "<Figure size 432x288 with 1 Axes>"
      ]
     },
     "metadata": {
      "needs_background": "light"
     },
     "output_type": "display_data"
    }
   ],
   "source": [
    "plt.plot(X, y, 'ro')\n",
    "plt.plot(X_2[:,0], y_pred_2)\n",
    "\n",
    "# gca = 그래프의 '축' 을 설정\n",
    "axes = plt.gca()\n",
    "axes.set_xlim([0, 11])\n",
    "axes.set_ylim([0, 30]) # gca 를 이용해 y 의 범위를 0~30으로 늘려준다\n",
    "plt.show()"
   ]
  },
  {
   "cell_type": "markdown",
   "metadata": {},
   "source": [
    "### 3차원 그래프"
   ]
  },
  {
   "cell_type": "code",
   "execution_count": 12,
   "metadata": {
    "scrolled": true
   },
   "outputs": [
    {
     "data": {
      "text/plain": [
       "array([[   1,    1,    1],\n",
       "       [   2,    4,    8],\n",
       "       [   3,    9,   27],\n",
       "       [   4,   16,   64],\n",
       "       [   5,   25,  125],\n",
       "       [   6,   36,  216],\n",
       "       [   7,   49,  343],\n",
       "       [   8,   64,  512],\n",
       "       [   9,   81,  729],\n",
       "       [  10,  100, 1000]])"
      ]
     },
     "execution_count": 12,
     "metadata": {},
     "output_type": "execute_result"
    }
   ],
   "source": [
    "# np_c => 1차원 배열 두개를 col 방향으로 나열해서 concatenation\n",
    "X_3 = np.c_[X, X**2, X**3]\n",
    "X_3"
   ]
  },
  {
   "cell_type": "markdown",
   "metadata": {},
   "source": [
    "혹은"
   ]
  },
  {
   "cell_type": "code",
   "execution_count": 13,
   "metadata": {},
   "outputs": [],
   "source": [
    "from sklearn.preprocessing import PolynomialFeatures\n",
    "\n",
    "polynomial = PolynomialFeatures(degree = 3, include_bias = False)\n",
    "X_3_poly = polynomial.fit_transform(X)"
   ]
  },
  {
   "cell_type": "code",
   "execution_count": 14,
   "metadata": {
    "scrolled": false
   },
   "outputs": [
    {
     "name": "stdout",
     "output_type": "stream",
     "text": [
      "[[-1.2020202   0.8030303  -0.05555556]]\n",
      "w0:  [7.2]\n",
      "w1:  -1.202020202020208\n",
      "w2:  0.8030303030303003\n",
      "w3:  -0.05555555555555544\n"
     ]
    }
   ],
   "source": [
    "reg = LinearRegression()\n",
    "reg.fit(X_3_poly, y)\n",
    "\n",
    "w0 = reg.intercept_\n",
    "w = reg.coef_\n",
    "\n",
    "print(w)\n",
    "\n",
    "print('w0: ', w0 )\n",
    "print('w1: ', w[0][0]) # <- x^1 에 곱해지는 w1\n",
    "print('w2: ', w[0][1]) # <- x^2 에 곱해지는 w2\n",
    "print('w3: ', w[0][2]) # <- x^3 에 곱해지는 w3"
   ]
  },
  {
   "cell_type": "markdown",
   "metadata": {},
   "source": [
    "x = 2 일때의 y 값은?"
   ]
  },
  {
   "cell_type": "code",
   "execution_count": 15,
   "metadata": {},
   "outputs": [
    {
     "data": {
      "text/plain": [
       "array([2, 4, 8])"
      ]
     },
     "execution_count": 15,
     "metadata": {},
     "output_type": "execute_result"
    }
   ],
   "source": [
    "x_2 = np.array([2,4,8])\n",
    "x_2"
   ]
  },
  {
   "cell_type": "code",
   "execution_count": 16,
   "metadata": {},
   "outputs": [
    {
     "data": {
      "text/plain": [
       "array([7.56363636])"
      ]
     },
     "execution_count": 16,
     "metadata": {},
     "output_type": "execute_result"
    }
   ],
   "source": [
    "y_2 = (np.array([2,4,8]) @ w.reshape(-1,1)) + w0\n",
    "y_2"
   ]
  },
  {
   "cell_type": "markdown",
   "metadata": {},
   "source": [
    "혹은"
   ]
  },
  {
   "cell_type": "code",
   "execution_count": 17,
   "metadata": {},
   "outputs": [
    {
     "name": "stdout",
     "output_type": "stream",
     "text": [
      "7.563636363636341\n"
     ]
    }
   ],
   "source": [
    "print(w[0][2] * 8 + w[0][1] * 4 + w[0][0] * 2 +7.2)"
   ]
  },
  {
   "cell_type": "markdown",
   "metadata": {},
   "source": [
    "w와 intercept 값을 이용해서 그래프를 새로 그려보자"
   ]
  },
  {
   "cell_type": "code",
   "execution_count": 18,
   "metadata": {},
   "outputs": [],
   "source": [
    "y_pred_3 = reg.predict(X_3_poly) # X_3_poly @ w.reshape(-1,1) + w0"
   ]
  },
  {
   "cell_type": "code",
   "execution_count": 19,
   "metadata": {},
   "outputs": [
    {
     "data": {
      "image/png": "[encoded data removed]",
      "text/plain": [
       "<Figure size 432x288 with 1 Axes>"
      ]
     },
     "metadata": {
      "needs_background": "light"
     },
     "output_type": "display_data"
    }
   ],
   "source": [
    "plt.plot(X, y, 'ro')\n",
    "plt.plot(X, y_pred_3)\n",
    "\n",
    "# gca = 그래프의 '축' 을 설정\n",
    "axes = plt.gca()\n",
    "axes.set_xlim([0, 11])\n",
    "axes.set_ylim([0, 30]) # gca 를 이용해 y 의 범위를 0~30으로 늘려준다\n",
    "plt.show()"
   ]
  },
  {
   "cell_type": "markdown",
   "metadata": {},
   "source": [
    "#### x 값의 범위를 좁게해서 그래프를 부드럽게"
   ]
  },
  {
   "cell_type": "code",
   "execution_count": 20,
   "metadata": {},
   "outputs": [],
   "source": [
    "X_new = np.arange(-5, 15, 0.01).reshape(-1,1)"
   ]
  },
  {
   "cell_type": "code",
   "execution_count": 21,
   "metadata": {},
   "outputs": [],
   "source": [
    "from sklearn.preprocessing import PolynomialFeatures\n",
    "\n",
    "polynomial = PolynomialFeatures(degree = 3, include_bias = False)\n",
    "X_new_3 = polynomial.fit_transform(X_new)\n",
    "\n",
    "y_pred_3 = (X_new_3 @ w.reshape(-1,1)) + w0"
   ]
  },
  {
   "cell_type": "code",
   "execution_count": 22,
   "metadata": {},
   "outputs": [
    {
     "data": {
      "text/plain": [
       "[<matplotlib.lines.Line2D at 0x1af42c4ac08>]"
      ]
     },
     "execution_count": 22,
     "metadata": {},
     "output_type": "execute_result"
    },
    {
     "data": {
      "image/png": "[encoded data removed]",
      "text/plain": [
       "<Figure size 432x288 with 1 Axes>"
      ]
     },
     "metadata": {
      "needs_background": "light"
     },
     "output_type": "display_data"
    }
   ],
   "source": [
    "plt.plot(X_new, y_pred_3)"
   ]
  },
  {
   "cell_type": "code",
   "execution_count": 23,
   "metadata": {
    "scrolled": false
   },
   "outputs": [
    {
     "data": {
      "image/png": "[encoded data removed]",
      "text/plain": [
       "<Figure size 432x288 with 1 Axes>"
      ]
     },
     "metadata": {
      "needs_background": "light"
     },
     "output_type": "display_data"
    }
   ],
   "source": [
    "plt.plot(X, y, 'ro')\n",
    "plt.plot(X_new, y_pred_3)\n",
    "\n",
    "# gca = 그래프의 '축' 을 설정\n",
    "axes = plt.gca()\n",
    "axes.set_xlim([0, 11])\n",
    "axes.set_ylim([0, 30]) # gca 를 이용해 y 의 범위를 0~30으로 늘려준다\n",
    "plt.show()"
   ]
  },
  {
   "cell_type": "markdown",
   "metadata": {},
   "source": [
    "## 7차원 그래프"
   ]
  },
  {
   "cell_type": "code",
   "execution_count": 24,
   "metadata": {},
   "outputs": [
    {
     "data": {
      "text/plain": [
       "array([[1.000000e+00, 1.000000e+00, 1.000000e+00, 1.000000e+00,\n",
       "        1.000000e+00, 1.000000e+00, 1.000000e+00],\n",
       "       [2.000000e+00, 4.000000e+00, 8.000000e+00, 1.600000e+01,\n",
       "        3.200000e+01, 6.400000e+01, 1.280000e+02],\n",
       "       [3.000000e+00, 9.000000e+00, 2.700000e+01, 8.100000e+01,\n",
       "        2.430000e+02, 7.290000e+02, 2.187000e+03],\n",
       "       [4.000000e+00, 1.600000e+01, 6.400000e+01, 2.560000e+02,\n",
       "        1.024000e+03, 4.096000e+03, 1.638400e+04],\n",
       "       [5.000000e+00, 2.500000e+01, 1.250000e+02, 6.250000e+02,\n",
       "        3.125000e+03, 1.562500e+04, 7.812500e+04],\n",
       "       [6.000000e+00, 3.600000e+01, 2.160000e+02, 1.296000e+03,\n",
       "        7.776000e+03, 4.665600e+04, 2.799360e+05],\n",
       "       [7.000000e+00, 4.900000e+01, 3.430000e+02, 2.401000e+03,\n",
       "        1.680700e+04, 1.176490e+05, 8.235430e+05],\n",
       "       [8.000000e+00, 6.400000e+01, 5.120000e+02, 4.096000e+03,\n",
       "        3.276800e+04, 2.621440e+05, 2.097152e+06],\n",
       "       [9.000000e+00, 8.100000e+01, 7.290000e+02, 6.561000e+03,\n",
       "        5.904900e+04, 5.314410e+05, 4.782969e+06],\n",
       "       [1.000000e+01, 1.000000e+02, 1.000000e+03, 1.000000e+04,\n",
       "        1.000000e+05, 1.000000e+06, 1.000000e+07]])"
      ]
     },
     "execution_count": 24,
     "metadata": {},
     "output_type": "execute_result"
    }
   ],
   "source": [
    "polynomial = PolynomialFeatures(degree = 7, include_bias = False)\n",
    "X_7 = polynomial.fit_transform(X)\n",
    "X_7"
   ]
  },
  {
   "cell_type": "code",
   "execution_count": 25,
   "metadata": {
    "scrolled": true
   },
   "outputs": [
    {
     "name": "stdout",
     "output_type": "stream",
     "text": [
      "[[ 2.78539901e+02 -2.37257519e+02  9.94563695e+01 -2.25924743e+01\n",
      "   2.83667484e+00 -1.84910131e-01  4.87861812e-03]] \n",
      "\n",
      "w0:  [-113.79999981]\n",
      "w1:  278.5399014236802\n",
      "w2:  -237.257519321223\n",
      "w3:  99.45636954838358\n",
      "w4:  -22.592474263398188\n",
      "w5:  2.836674840115315\n",
      "w6:  -0.18491013093279265\n",
      "w7:  0.004878618119258213\n"
     ]
    }
   ],
   "source": [
    "reg = LinearRegression()\n",
    "reg.fit(X_7, y)\n",
    "\n",
    "w0 = reg.intercept_\n",
    "w = reg.coef_\n",
    "\n",
    "print(w,\"\\n\")\n",
    "\n",
    "print('w0: ', w0 ) # <- x^0 에 곱해지는 w0\n",
    "print('w1: ', w[0][0]) # <- x^1 에 곱해지는 w1\n",
    "print('w2: ', w[0][1]) # <- x^2 에 곱해지는 w2\n",
    "print('w3: ', w[0][2]) # <- x^3 에 곱해지는 w3\n",
    "print('w4: ', w[0][3]) # <- x^4 에 곱해지는 w4\n",
    "print('w5: ', w[0][4]) # <- x^5 에 곱해지는 w5\n",
    "print('w6: ', w[0][5]) # <- x^6 에 곱해지는 w6\n",
    "print('w7: ', w[0][6]) # <- x^7 에 곱해지는 w7"
   ]
  },
  {
   "cell_type": "markdown",
   "metadata": {},
   "source": [
    "x = 2 일때의 값을 구해보자"
   ]
  },
  {
   "cell_type": "code",
   "execution_count": 26,
   "metadata": {},
   "outputs": [
    {
     "data": {
      "text/plain": [
       "array([7.98490355])"
      ]
     },
     "execution_count": 26,
     "metadata": {},
     "output_type": "execute_result"
    }
   ],
   "source": [
    "y_2 = (np.array([2,4,8,16,32,64,128]) @ w.reshape(-1,1)) + w0\n",
    "y_2"
   ]
  },
  {
   "cell_type": "code",
   "execution_count": 27,
   "metadata": {},
   "outputs": [
    {
     "name": "stdout",
     "output_type": "stream",
     "text": [
      "[7.98490355]\n"
     ]
    }
   ],
   "source": [
    "print(w[0][6] * 128 + w[0][5] * 64 + w[0][4] * 32 + w[0][3] * 16 + w[0][2] * 8 + w[0][1] * 4 + w[0][0] * 2 + w0)"
   ]
  },
  {
   "cell_type": "code",
   "execution_count": 28,
   "metadata": {
    "scrolled": true
   },
   "outputs": [
    {
     "name": "stdout",
     "output_type": "stream",
     "text": [
      "['278.540', '-237.258', '99.456', '-22.592', '2.837', '-0.185', '0.005']\n"
     ]
    }
   ],
   "source": [
    "# coef_.reshape 를 알아 볼 수 있게 다시 표현\n",
    "print([ \"{:0.3f}\".format(x) for x in reg.coef_.reshape(-1,)])\n",
    "\n",
    "# w 값이 기형적으로 변하는 것을 볼 수 있다."
   ]
  },
  {
   "cell_type": "markdown",
   "metadata": {},
   "source": [
    "w와 intercept 값을 이용해서 그래프를 새로 그려보자"
   ]
  },
  {
   "cell_type": "code",
   "execution_count": 29,
   "metadata": {},
   "outputs": [],
   "source": [
    "# 그래프를 그릴 y 값 구하기\n",
    "y_7 = (X_7 @ w.reshape(-1,1)) + w0"
   ]
  },
  {
   "cell_type": "code",
   "execution_count": 30,
   "metadata": {},
   "outputs": [
    {
     "data": {
      "image/png": "[encoded data removed]",
      "text/plain": [
       "<Figure size 432x288 with 1 Axes>"
      ]
     },
     "metadata": {
      "needs_background": "light"
     },
     "output_type": "display_data"
    }
   ],
   "source": [
    "plt.plot(X, y, 'ro')\n",
    "plt.plot(X, y_7)\n",
    "\n",
    "# gca = 그래프의 '축' 을 설정\n",
    "axes = plt.gca()\n",
    "axes.set_ylim([0, 30]) # gca 를 이용해 y 의 범위를 0~30으로 늘려준다\n",
    "plt.show()"
   ]
  },
  {
   "cell_type": "markdown",
   "metadata": {},
   "source": [
    "### x 값의 범위를 좁게해서 그래프를 연결되게 그려보자"
   ]
  },
  {
   "cell_type": "code",
   "execution_count": 31,
   "metadata": {
    "scrolled": true
   },
   "outputs": [],
   "source": [
    "X_new = np.arange(1, 10.5, 0.01).reshape(-1,1)\n",
    "\n",
    "polynomial = PolynomialFeatures(degree = 7, include_bias = False)\n",
    "X_new_7 = polynomial.fit_transform(X_new)"
   ]
  },
  {
   "cell_type": "code",
   "execution_count": 32,
   "metadata": {},
   "outputs": [],
   "source": [
    "# 그래프를 그릴 y 값 구하기\n",
    "y_7_new = (X_new_7 @ reg.coef_.reshape(-1,1)) + reg.intercept_"
   ]
  },
  {
   "cell_type": "code",
   "execution_count": 33,
   "metadata": {
    "scrolled": false
   },
   "outputs": [
    {
     "data": {
      "image/png": "[encoded data removed]",
      "text/plain": [
       "<Figure size 432x288 with 1 Axes>"
      ]
     },
     "metadata": {
      "needs_background": "light"
     },
     "output_type": "display_data"
    }
   ],
   "source": [
    "plt.plot(X, y, 'ro')\n",
    "plt.plot(X_new, y_7_new)\n",
    "\n",
    "# gca = 그래프의 '축' 을 설정\n",
    "axes = plt.gca()\n",
    "axes.set_ylim([0, 30]) # gca 를 이용해 y 의 범위를 0~30으로 늘려준다\n",
    "plt.show()"
   ]
  },
  {
   "cell_type": "markdown",
   "metadata": {},
   "source": [
    "## 가장 피해야 할 것중 하나인 overfitting 을 방지해보자"
   ]
  },
  {
   "cell_type": "markdown",
   "metadata": {},
   "source": [
    "#### Redge method"
   ]
  },
  {
   "cell_type": "code",
   "execution_count": 34,
   "metadata": {},
   "outputs": [],
   "source": [
    "from sklearn.linear_model import Ridge"
   ]
  },
  {
   "cell_type": "code",
   "execution_count": 35,
   "metadata": {},
   "outputs": [],
   "source": [
    "ridge = Ridge(alpha=1.0) # 교재에서는 람다\n",
    "\n",
    "ridge.fit(X_7, y)\n",
    "y_pred_ridge = ridge.predict(X_7)"
   ]
  },
  {
   "cell_type": "code",
   "execution_count": 36,
   "metadata": {},
   "outputs": [
    {
     "name": "stdout",
     "output_type": "stream",
     "text": [
      "[[-2.34723213e-01 -9.30910793e-02  6.16961614e-01 -2.74594734e-01\n",
      "   5.50301419e-02 -5.15343047e-03  1.80531322e-04]] \n",
      "\n",
      "w0:  [6.52078565]\n",
      "w1:  -0.2347232131335887\n",
      "w2:  -0.09309107928635957\n",
      "w3:  0.6169616138908628\n",
      "w4:  -0.274594733885231\n",
      "w5:  0.05503014186861977\n",
      "w6:  -0.005153430468682524\n",
      "w7:  0.00018053132188439115\n"
     ]
    }
   ],
   "source": [
    "w0 = ridge.intercept_\n",
    "w = ridge.coef_\n",
    "\n",
    "print(w,\"\\n\")\n",
    "\n",
    "print('w0: ', w0 ) # <- x^0 에 곱해지는 w0\n",
    "print('w1: ', w[0][0]) # <- x^1 에 곱해지는 w1\n",
    "print('w2: ', w[0][1]) # <- x^2 에 곱해지는 w2\n",
    "print('w3: ', w[0][2]) # <- x^3 에 곱해지는 w3\n",
    "print('w4: ', w[0][3]) # <- x^4 에 곱해지는 w4\n",
    "print('w5: ', w[0][4]) # <- x^5 에 곱해지는 w5\n",
    "print('w6: ', w[0][5]) # <- x^6 에 곱해지는 w6\n",
    "print('w7: ', w[0][6]) # <- x^7 에 곱해지는 w7"
   ]
  },
  {
   "cell_type": "code",
   "execution_count": 37,
   "metadata": {},
   "outputs": [
    {
     "name": "stdout",
     "output_type": "stream",
     "text": [
      "['-0.235', '-0.093', '0.617', '-0.275', '0.055', '-0.005', '0.000']\n"
     ]
    }
   ],
   "source": [
    "# coef_.reshape 를 알아 볼 수 있게 다시 표현\n",
    "print([ \"{:0.3f}\".format(x) for x in w.reshape(-1,)])"
   ]
  },
  {
   "cell_type": "markdown",
   "metadata": {},
   "source": [
    "#### 그래프를 다시 제대로 그려보자"
   ]
  },
  {
   "cell_type": "code",
   "execution_count": 38,
   "metadata": {
    "scrolled": false
   },
   "outputs": [],
   "source": [
    "# 그래프가 부드러운 모양이 되도록 X_new_7 을 이용\n",
    "y_pred_ridge = ridge.predict(X_new_7)"
   ]
  },
  {
   "cell_type": "code",
   "execution_count": 39,
   "metadata": {},
   "outputs": [
    {
     "data": {
      "image/png": "[encoded data removed]",
      "text/plain": [
       "<Figure size 432x288 with 1 Axes>"
      ]
     },
     "metadata": {
      "needs_background": "light"
     },
     "output_type": "display_data"
    }
   ],
   "source": [
    "plt.plot(X, y, 'ro')\n",
    "plt.plot(X_new, y_pred_ridge)\n",
    "\n",
    "# gca = 그래프의 '축' 을 설정\n",
    "axes = plt.gca()\n",
    "axes.set_xlim([0, 11])\n",
    "axes.set_ylim([0, 30]) # gca 를 이용해 y 의 범위를 0~30으로 늘려준다\n",
    "plt.show()"
   ]
  },
  {
   "cell_type": "code",
   "execution_count": 40,
   "metadata": {},
   "outputs": [
    {
     "data": {
      "image/png": "[encoded data removed]",
      "text/plain": [
       "<Figure size 936x504 with 1 Axes>"
      ]
     },
     "metadata": {
      "needs_background": "light"
     },
     "output_type": "display_data"
    }
   ],
   "source": [
    "plt.figure(figsize=(13,7))\n",
    "\n",
    "plt.plot(X, y, 'ro')\n",
    "plt.plot(X_new, y_7_new)\n",
    "plt.plot(X_new, y_pred_ridge)\n",
    "\n",
    "plt.legend(['Original','Without Ridge','Ridge Regression'])\n",
    "\n",
    "# gca = 그래프의 '축' 을 설정\n",
    "axes = plt.gca()\n",
    "axes.set_ylim([0, 30]) # gca 를 이용해 y 의 범위를 0~30으로 늘려준다\n",
    "plt.show()"
   ]
  },
  {
   "cell_type": "code",
   "execution_count": null,
   "metadata": {},
   "outputs": [],
   "source": []
  }
 ],
 "metadata": {
  "kernelspec": {
   "display_name": "Python 3",
   "language": "python",
   "name": "python3"
  },
  "language_info": {
   "codemirror_mode": {
    "name": "ipython",
    "version": 3
   },
   "file_extension": ".py",
   "mimetype": "text/x-python",
   "name": "python",
   "nbconvert_exporter": "python",
   "pygments_lexer": "ipython3",
   "version": "3.8.5"
  }
 },
 "nbformat": 4,
 "nbformat_minor": 2
}
