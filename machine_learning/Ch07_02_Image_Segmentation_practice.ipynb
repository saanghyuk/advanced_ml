{
 "cells": [
  {
   "cell_type": "markdown",
   "metadata": {},
   "source": [
    "##### pip install opencv-python \n",
    "##### https://eehoeskrap.tistory.com/289"
   ]
  },
  {
   "cell_type": "code",
   "execution_count": null,
   "metadata": {},
   "outputs": [],
   "source": [
    "import cv2\n",
    "import numpy as np\n",
    "import matplotlib.pyplot as plt"
   ]
  },
  {
   "cell_type": "code",
   "execution_count": null,
   "metadata": {},
   "outputs": [],
   "source": [
    "# 이미지 불러오기\n",
    "ori_image = "
   ]
  },
  {
   "cell_type": "code",
   "execution_count": null,
   "metadata": {},
   "outputs": [],
   "source": [
    "# OpenCV => BGR\n",
    "# matplotlib => RGB \n",
    "\n",
    "image = "
   ]
  },
  {
   "cell_type": "code",
   "execution_count": null,
   "metadata": {
    "scrolled": true
   },
   "outputs": [],
   "source": [
    "# 이미지를 한 번 구경해보자\n",
    "plt.imshow(image)"
   ]
  },
  {
   "cell_type": "code",
   "execution_count": null,
   "metadata": {
    "scrolled": true
   },
   "outputs": [],
   "source": [
    "image"
   ]
  },
  {
   "cell_type": "code",
   "execution_count": null,
   "metadata": {
    "scrolled": true
   },
   "outputs": [],
   "source": [
    "# 세로 481, 가로 321, 3개의 channel(R, G, B) 로 이루어진 사진임을 알 수 있다.\n",
    "image.shape"
   ]
  },
  {
   "cell_type": "markdown",
   "metadata": {},
   "source": [
    "데이터는 어떤 형식으로?"
   ]
  },
  {
   "cell_type": "code",
   "execution_count": null,
   "metadata": {
    "scrolled": false
   },
   "outputs": [],
   "source": [
    "# samples : It should be of np.float32 data type, and each feature should be put in a single column.\n",
    "\n",
    "# cv2.k-means 를 실행하기 위해 형식과 shape 를 바꾸어준다\n",
    "\n",
    "# 불러온 이미지를 3-dimension 을 가지는 vector 로 만들기 위해 reshape 을 써준다\n",
    "# 3-dimension 은 각각 R, G, B 를 나타내는 것으로써 픽셀값을 3개의 색깔 (3차원) 로 이루어진 벡터로 만들기 위함이다\n",
    "vertorized = \n",
    "vertorized = \n",
    "\n",
    "print(\"vertorized image 의 shape\", vertorized.shape)\n",
    "vertorized"
   ]
  },
  {
   "cell_type": "markdown",
   "metadata": {},
   "source": [
    "#### Criteria 설정"
   ]
  },
  {
   "cell_type": "markdown",
   "metadata": {},
   "source": [
    "k-means clustering 을 수행시 알고리즘이 멈추게 되는 상황을 정해준다  \n",
    "\n",
    "멈추게 되는 기준 (criteria) 는 3개의 매개변수로 이루어져 있다.  \n",
    "\n",
    "1. criterion type : <br>\n",
    "    cv.TERM_CRITERIA_EPS ☞ Requirement epsilon 을 충족하면 알고리즘 중지  \n",
    "    cv.TERM_CRITERIA_MAX_ITER ☞ iteration 을 채우면 알고리즘 중지  \n",
    "    cv.TERM_CRITERIA_EPS + cv.TERM_CRITERIA_MAX_ITER ☞ 위의 조건 중 하나라도 충족되면 알고리즘 중지  \n",
    "<br>\n",
    "2. max_iter :\n",
    "    지정된 반복 횟수 max_iter  \n",
    "<br>\n",
    "3. epsilon :\n",
    "    Requirement accuracy"
   ]
  },
  {
   "cell_type": "code",
   "execution_count": null,
   "metadata": {},
   "outputs": [],
   "source": [
    "# 기준점 설정, 100번 iteration, 0.2 epsilon 둘중 하나를 만족 할 시 알고리즘을 끝낸다\n",
    "criteria = (cv2.TERM_CRITERIA_EPS + cv2.TERM_CRITERIA_MAX_ITER, 100, 1.0)"
   ]
  },
  {
   "cell_type": "markdown",
   "metadata": {},
   "source": [
    "#### k-means 설정"
   ]
  },
  {
   "cell_type": "markdown",
   "metadata": {},
   "source": [
    "k-means clustering 을 실제로 수행한다.  \n",
    "\n",
    "k-menas 내의 parameter 들은 다음과 같이 이루어져있다.\n",
    "\n",
    "1. sample : 실제 data\n",
    "2. nclusters(K) : cluster 갯수\n",
    "3. criteria : 종료 기준\n",
    "4. attempts : kmeans 알고리즘의 시도 횟수\n",
    "6. flags : centriod init method\n",
    "\n",
    "https://stackoverflow.com/questions/44418519/python-opencv-cv2-kmeans-random-centers"
   ]
  },
  {
   "cell_type": "code",
   "execution_count": null,
   "metadata": {},
   "outputs": [],
   "source": [
    "# cluster k 정하기\n",
    "k = 4\n",
    "\n",
    "# k-means clustering 실행\n",
    "_, labels, centroid = cv2.kmeans(vertorized, k, None, criteria, 10, cv2.KMEANS_PP_CENTERS)"
   ]
  },
  {
   "cell_type": "code",
   "execution_count": null,
   "metadata": {},
   "outputs": [],
   "source": [
    "\n"
   ]
  },
  {
   "cell_type": "code",
   "execution_count": null,
   "metadata": {
    "scrolled": true
   },
   "outputs": [],
   "source": [
    "with np.printoptions(threshold=np.inf):\n",
    "    print(labels.flatten())"
   ]
  },
  {
   "cell_type": "code",
   "execution_count": null,
   "metadata": {},
   "outputs": [],
   "source": [
    "# k 가 4개이므로 총 4개의 label 이 생겼음을 알 수 있다\n"
   ]
  },
  {
   "cell_type": "code",
   "execution_count": null,
   "metadata": {
    "scrolled": true
   },
   "outputs": [],
   "source": [
    "# cluster 들의 색깔(중심)또한 다음과 같이 정해졌다\n",
    "print(centroid)"
   ]
  },
  {
   "cell_type": "code",
   "execution_count": null,
   "metadata": {},
   "outputs": [],
   "source": [
    "print(\"0번 cluster 의 색깔\", centroid[0])\n",
    "print(\"1번 cluster 의 색깔\", centroid[1])\n",
    "print(\"2번 cluster 의 색깔\", centroid[2])\n",
    "print(\"3번 cluster 의 색깔\", centroid[3])"
   ]
  },
  {
   "cell_type": "markdown",
   "metadata": {},
   "source": [
    "#### 실제 image 그려보기"
   ]
  },
  {
   "cell_type": "code",
   "execution_count": null,
   "metadata": {},
   "outputs": [],
   "source": [
    "# 다시 이미지로 되돌리기 위해 type 을 바꿔준다\n",
    "unit8_centers = \n",
    "\n",
    "# flatten the labels array\n",
    "labels ="
   ]
  },
  {
   "cell_type": "code",
   "execution_count": null,
   "metadata": {},
   "outputs": [],
   "source": [
    "# 0 => 어두운색, 255 => 밝은색\n"
   ]
  },
  {
   "cell_type": "code",
   "execution_count": null,
   "metadata": {},
   "outputs": [],
   "source": [
    "# cluster label 에 해당하는 pixel 값을 가져온다.\n",
    "segmented_image = "
   ]
  },
  {
   "cell_type": "markdown",
   "metadata": {},
   "source": [
    "잘 이해가 되지 않을 수 있는데, **a = np.array([1,1,1,2,3,1,0])** 를 입력한 후  \n",
    "**unit8_centers[a]** 를 출력해보자."
   ]
  },
  {
   "cell_type": "code",
   "execution_count": null,
   "metadata": {},
   "outputs": [],
   "source": [
    "a = np.array([1,1,1,2,3,1,0]) # label 을 임의로 할당한 후 결과값을 확인\n",
    "unit8_centers[a] "
   ]
  },
  {
   "cell_type": "markdown",
   "metadata": {},
   "source": [
    "즉, 클러스터링 이후에 구해준 centroid(RGB)값으로 이미지의 색깔을 변경한다 <br>\n",
    "[253, 253, 252],<br>\n",
    "[130, 134, 120],<br>\n",
    "[206, 173,  28],<br>\n",
    "[ 69,  80,  50]]<br>\n",
    "이 해당되는 label 에 index 에 맞게 할당되는 것이다"
   ]
  },
  {
   "cell_type": "code",
   "execution_count": null,
   "metadata": {},
   "outputs": [],
   "source": [
    "# 이미지를 출력하기 위해 matrix 를 원래의 image 의 shape 로 reshape 시켜준다.\n",
    "restored_image = "
   ]
  },
  {
   "cell_type": "code",
   "execution_count": null,
   "metadata": {
    "scrolled": false
   },
   "outputs": [],
   "source": [
    "# 이미지를 출력한다\n",
    "plt.imshow(restored_image)\n",
    "plt.show()\n",
    "\n",
    "plt.imshow(image)\n",
    "plt.show()"
   ]
  },
  {
   "cell_type": "markdown",
   "metadata": {},
   "source": [
    "You can try many pictures at https://www2.eecs.berkeley.edu/Research/Projects/CS/vision/bsds/BSDS300/html/dataset/images.html !!!"
   ]
  }
 ],
 "metadata": {
  "kernelspec": {
   "display_name": "Python 3",
   "language": "python",
   "name": "python3"
  },
  "language_info": {
   "codemirror_mode": {
    "name": "ipython",
    "version": 3
   },
   "file_extension": ".py",
   "mimetype": "text/x-python",
   "name": "python",
   "nbconvert_exporter": "python",
   "pygments_lexer": "ipython3",
   "version": "3.7.7"
  }
 },
 "nbformat": 4,
 "nbformat_minor": 2
}
